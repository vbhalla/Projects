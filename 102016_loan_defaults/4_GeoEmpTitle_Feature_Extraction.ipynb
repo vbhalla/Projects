{
 "cells": [
  {
   "cell_type": "markdown",
   "metadata": {
    "collapsed": true
   },
   "source": [
    "### Inputs: Output of EmpTitleFuzzyWuzzyAlgo_Final.ipynb; containing the employee titles resulting from Levenshtein distance\n",
    "#### Script: Takes zip codes and runs it through L2 Logistic Regression Model to evaluate categorical features that have some predictive value and also joins this with the output of the EmpTitleJW.ipynb title script\n",
    "### Outputs: a fully merged file containing predictive zip codes and employee titles generated from both Levenshtein and Jaro-Winkler distances."
   ]
  },
  {
   "cell_type": "code",
   "execution_count": 1,
   "metadata": {
    "collapsed": false
   },
   "outputs": [],
   "source": [
    "import pandas as pd\n",
    "import numpy as np\n",
    "import matplotlib.pyplot as plt\n",
    "from datetime import datetime\n",
    "%matplotlib inline\n",
    "import seaborn as sns\n",
    "from time import time\n",
    "from sklearn.preprocessing import scale\n",
    "from sklearn.model_selection import StratifiedShuffleSplit, train_test_split\n",
    "from sklearn.metrics import make_scorer, f1_score, accuracy_score, classification_report, roc_auc_score\n"
   ]
  },
  {
   "cell_type": "code",
   "execution_count": 20,
   "metadata": {
    "collapsed": true
   },
   "outputs": [],
   "source": [
    "pd.set_option('display.max_rows', 500)\n",
    "pd.set_option('display.max_columns', 500)\n",
    "pd.set_option('display.width', 1000)"
   ]
  },
  {
   "cell_type": "code",
   "execution_count": 21,
   "metadata": {
    "collapsed": true
   },
   "outputs": [],
   "source": [
    "random_state=401\n",
    "n_jobs = 3"
   ]
  },
  {
   "cell_type": "code",
   "execution_count": 2,
   "metadata": {
    "collapsed": false
   },
   "outputs": [
    {
     "name": "stdout",
     "output_type": "stream",
     "text": [
      "/Users/Shalu/Dropbox/Coursework/DS/KLC/Submission/Data\n"
     ]
    }
   ],
   "source": [
    "cd Data"
   ]
  },
  {
   "cell_type": "code",
   "execution_count": 3,
   "metadata": {
    "collapsed": false
   },
   "outputs": [],
   "source": [
    "df_reduce = pd.read_pickle('dfc_fw_emp_1027_74.p')"
   ]
  },
  {
   "cell_type": "code",
   "execution_count": 13,
   "metadata": {
    "collapsed": false
   },
   "outputs": [
    {
     "data": {
      "text/html": [
       "<div>\n",
       "<table border=\"1\" class=\"dataframe\">\n",
       "  <thead>\n",
       "    <tr style=\"text-align: right;\">\n",
       "      <th></th>\n",
       "      <th>index</th>\n",
       "      <th>loan_amnt</th>\n",
       "      <th>term</th>\n",
       "      <th>int_rate</th>\n",
       "      <th>grade</th>\n",
       "      <th>sub_grade</th>\n",
       "      <th>emp_title</th>\n",
       "      <th>emp_length</th>\n",
       "      <th>home_ownership</th>\n",
       "      <th>annual_inc</th>\n",
       "      <th>verification_status</th>\n",
       "      <th>loan_status</th>\n",
       "      <th>purpose</th>\n",
       "      <th>zip_code</th>\n",
       "      <th>addr_state</th>\n",
       "      <th>dti</th>\n",
       "      <th>delinq_2yrs</th>\n",
       "      <th>earliest_cr_line</th>\n",
       "      <th>inq_last_6mths</th>\n",
       "      <th>open_acc</th>\n",
       "      <th>pub_rec</th>\n",
       "      <th>revol_bal</th>\n",
       "      <th>revol_util</th>\n",
       "      <th>initial_list_status</th>\n",
       "      <th>collections_12_mths_ex_med</th>\n",
       "      <th>mort_acc</th>\n",
       "      <th>loan_label</th>\n",
       "      <th>emp_title_flag</th>\n",
       "      <th>fico_avg</th>\n",
       "      <th>f_norm_emp_title</th>\n",
       "      <th>fw_emp_title</th>\n",
       "      <th>emp_length_cat</th>\n",
       "      <th>fw_emp_title_gt0005</th>\n",
       "    </tr>\n",
       "  </thead>\n",
       "  <tbody>\n",
       "    <tr>\n",
       "      <th>0</th>\n",
       "      <td>138828</td>\n",
       "      <td>35000.0</td>\n",
       "      <td>60 months</td>\n",
       "      <td>14.49</td>\n",
       "      <td>C</td>\n",
       "      <td>C4</td>\n",
       "      <td>0-3</td>\n",
       "      <td>10</td>\n",
       "      <td>MORTGAGE</td>\n",
       "      <td>120000.0</td>\n",
       "      <td>Verified</td>\n",
       "      <td>Current</td>\n",
       "      <td>debt_consolidation</td>\n",
       "      <td>925xx</td>\n",
       "      <td>CA</td>\n",
       "      <td>14.85</td>\n",
       "      <td>0.0</td>\n",
       "      <td>14</td>\n",
       "      <td>0.0</td>\n",
       "      <td>7.0</td>\n",
       "      <td>0.0</td>\n",
       "      <td>29782.0</td>\n",
       "      <td>54.1</td>\n",
       "      <td>w</td>\n",
       "      <td>0.0</td>\n",
       "      <td>1.0</td>\n",
       "      <td>0</td>\n",
       "      <td>1</td>\n",
       "      <td>737.0</td>\n",
       "      <td>03</td>\n",
       "      <td>NoMatch</td>\n",
       "      <td>10</td>\n",
       "      <td>NoMatch</td>\n",
       "    </tr>\n",
       "    <tr>\n",
       "      <th>1</th>\n",
       "      <td>196305</td>\n",
       "      <td>25000.0</td>\n",
       "      <td>36 months</td>\n",
       "      <td>15.61</td>\n",
       "      <td>C</td>\n",
       "      <td>C5</td>\n",
       "      <td>0-3</td>\n",
       "      <td>5</td>\n",
       "      <td>MORTGAGE</td>\n",
       "      <td>88800.0</td>\n",
       "      <td>Verified</td>\n",
       "      <td>Charged Off</td>\n",
       "      <td>debt_consolidation</td>\n",
       "      <td>236xx</td>\n",
       "      <td>VA</td>\n",
       "      <td>19.39</td>\n",
       "      <td>0.0</td>\n",
       "      <td>12</td>\n",
       "      <td>1.0</td>\n",
       "      <td>18.0</td>\n",
       "      <td>0.0</td>\n",
       "      <td>19647.0</td>\n",
       "      <td>61.0</td>\n",
       "      <td>f</td>\n",
       "      <td>0.0</td>\n",
       "      <td>2.0</td>\n",
       "      <td>1</td>\n",
       "      <td>1</td>\n",
       "      <td>722.0</td>\n",
       "      <td>03</td>\n",
       "      <td>NoMatch</td>\n",
       "      <td>5</td>\n",
       "      <td>NoMatch</td>\n",
       "    </tr>\n",
       "    <tr>\n",
       "      <th>2</th>\n",
       "      <td>123573</td>\n",
       "      <td>17350.0</td>\n",
       "      <td>36 months</td>\n",
       "      <td>16.99</td>\n",
       "      <td>D</td>\n",
       "      <td>D3</td>\n",
       "      <td>04 LCDR</td>\n",
       "      <td>10</td>\n",
       "      <td>MORTGAGE</td>\n",
       "      <td>100000.0</td>\n",
       "      <td>Source Verified</td>\n",
       "      <td>Fully Paid</td>\n",
       "      <td>debt_consolidation</td>\n",
       "      <td>983xx</td>\n",
       "      <td>WA</td>\n",
       "      <td>16.61</td>\n",
       "      <td>1.0</td>\n",
       "      <td>19</td>\n",
       "      <td>0.0</td>\n",
       "      <td>12.0</td>\n",
       "      <td>0.0</td>\n",
       "      <td>29408.0</td>\n",
       "      <td>73.9</td>\n",
       "      <td>w</td>\n",
       "      <td>0.0</td>\n",
       "      <td>10.0</td>\n",
       "      <td>0</td>\n",
       "      <td>1</td>\n",
       "      <td>672.0</td>\n",
       "      <td>04 lcdr</td>\n",
       "      <td>NoMatch</td>\n",
       "      <td>10</td>\n",
       "      <td>NoMatch</td>\n",
       "    </tr>\n",
       "    <tr>\n",
       "      <th>3</th>\n",
       "      <td>63639</td>\n",
       "      <td>21600.0</td>\n",
       "      <td>60 months</td>\n",
       "      <td>14.99</td>\n",
       "      <td>C</td>\n",
       "      <td>C5</td>\n",
       "      <td>06 Journymen</td>\n",
       "      <td>1</td>\n",
       "      <td>MORTGAGE</td>\n",
       "      <td>61000.0</td>\n",
       "      <td>Source Verified</td>\n",
       "      <td>Fully Paid</td>\n",
       "      <td>credit_card</td>\n",
       "      <td>982xx</td>\n",
       "      <td>WA</td>\n",
       "      <td>13.18</td>\n",
       "      <td>1.0</td>\n",
       "      <td>15</td>\n",
       "      <td>0.0</td>\n",
       "      <td>8.0</td>\n",
       "      <td>0.0</td>\n",
       "      <td>27820.0</td>\n",
       "      <td>53.8</td>\n",
       "      <td>w</td>\n",
       "      <td>0.0</td>\n",
       "      <td>6.0</td>\n",
       "      <td>0</td>\n",
       "      <td>1</td>\n",
       "      <td>677.0</td>\n",
       "      <td>06 journymen</td>\n",
       "      <td>06 journymen</td>\n",
       "      <td>1</td>\n",
       "      <td>NoMatch</td>\n",
       "    </tr>\n",
       "    <tr>\n",
       "      <th>4</th>\n",
       "      <td>50745</td>\n",
       "      <td>8000.0</td>\n",
       "      <td>36 months</td>\n",
       "      <td>10.99</td>\n",
       "      <td>B</td>\n",
       "      <td>B3</td>\n",
       "      <td>0perator</td>\n",
       "      <td>7</td>\n",
       "      <td>MORTGAGE</td>\n",
       "      <td>100000.0</td>\n",
       "      <td>Not Verified</td>\n",
       "      <td>Current</td>\n",
       "      <td>home_improvement</td>\n",
       "      <td>945xx</td>\n",
       "      <td>CA</td>\n",
       "      <td>15.18</td>\n",
       "      <td>0.0</td>\n",
       "      <td>8</td>\n",
       "      <td>1.0</td>\n",
       "      <td>14.0</td>\n",
       "      <td>0.0</td>\n",
       "      <td>13292.0</td>\n",
       "      <td>24.8</td>\n",
       "      <td>f</td>\n",
       "      <td>0.0</td>\n",
       "      <td>1.0</td>\n",
       "      <td>0</td>\n",
       "      <td>1</td>\n",
       "      <td>702.0</td>\n",
       "      <td>0perator</td>\n",
       "      <td>0perator</td>\n",
       "      <td>7</td>\n",
       "      <td>0perator</td>\n",
       "    </tr>\n",
       "  </tbody>\n",
       "</table>\n",
       "</div>"
      ],
      "text/plain": [
       "    index  loan_amnt        term  int_rate grade sub_grade     emp_title  emp_length home_ownership  annual_inc verification_status  loan_status             purpose zip_code addr_state    dti  delinq_2yrs  earliest_cr_line  inq_last_6mths  open_acc  pub_rec  revol_bal  revol_util initial_list_status  collections_12_mths_ex_med  mort_acc  loan_label  emp_title_flag  fico_avg f_norm_emp_title  fw_emp_title emp_length_cat fw_emp_title_gt0005\n",
       "0  138828    35000.0   60 months     14.49     C        C4           0-3          10       MORTGAGE    120000.0            Verified      Current  debt_consolidation    925xx         CA  14.85          0.0                14             0.0       7.0      0.0    29782.0        54.1                   w                         0.0       1.0           0               1     737.0               03       NoMatch             10             NoMatch\n",
       "1  196305    25000.0   36 months     15.61     C        C5           0-3           5       MORTGAGE     88800.0            Verified  Charged Off  debt_consolidation    236xx         VA  19.39          0.0                12             1.0      18.0      0.0    19647.0        61.0                   f                         0.0       2.0           1               1     722.0               03       NoMatch              5             NoMatch\n",
       "2  123573    17350.0   36 months     16.99     D        D3       04 LCDR          10       MORTGAGE    100000.0     Source Verified   Fully Paid  debt_consolidation    983xx         WA  16.61          1.0                19             0.0      12.0      0.0    29408.0        73.9                   w                         0.0      10.0           0               1     672.0          04 lcdr       NoMatch             10             NoMatch\n",
       "3   63639    21600.0   60 months     14.99     C        C5  06 Journymen           1       MORTGAGE     61000.0     Source Verified   Fully Paid         credit_card    982xx         WA  13.18          1.0                15             0.0       8.0      0.0    27820.0        53.8                   w                         0.0       6.0           0               1     677.0     06 journymen  06 journymen              1             NoMatch\n",
       "4   50745     8000.0   36 months     10.99     B        B3      0perator           7       MORTGAGE    100000.0        Not Verified      Current    home_improvement    945xx         CA  15.18          0.0                 8             1.0      14.0      0.0    13292.0        24.8                   f                         0.0       1.0           0               1     702.0         0perator      0perator              7            0perator"
      ]
     },
     "execution_count": 13,
     "metadata": {},
     "output_type": "execute_result"
    }
   ],
   "source": [
    "df_reduce.head(5)"
   ]
  },
  {
   "cell_type": "markdown",
   "metadata": {},
   "source": [
    "# Lets evaluate what zip codes are important and create a new categorical feature that only takes the important zips (coef>.001)"
   ]
  },
  {
   "cell_type": "code",
   "execution_count": 14,
   "metadata": {
    "collapsed": false
   },
   "outputs": [
    {
     "name": "stdout",
     "output_type": "stream",
     "text": [
      "<class 'pandas.core.frame.DataFrame'>\n",
      "RangeIndex: 232487 entries, 0 to 232486\n",
      "Data columns (total 33 columns):\n",
      "index                         232487 non-null int64\n",
      "loan_amnt                     232487 non-null float64\n",
      "term                          232487 non-null object\n",
      "int_rate                      232487 non-null float64\n",
      "grade                         232487 non-null object\n",
      "sub_grade                     232487 non-null object\n",
      "emp_title                     232487 non-null object\n",
      "emp_length                    232487 non-null int64\n",
      "home_ownership                232487 non-null object\n",
      "annual_inc                    232487 non-null float64\n",
      "verification_status           232487 non-null object\n",
      "loan_status                   232487 non-null object\n",
      "purpose                       232487 non-null object\n",
      "zip_code                      232487 non-null object\n",
      "addr_state                    232487 non-null object\n",
      "dti                           232487 non-null float64\n",
      "delinq_2yrs                   232487 non-null float64\n",
      "earliest_cr_line              232487 non-null int64\n",
      "inq_last_6mths                232487 non-null float64\n",
      "open_acc                      232487 non-null float64\n",
      "pub_rec                       232487 non-null float64\n",
      "revol_bal                     232487 non-null float64\n",
      "revol_util                    232487 non-null float64\n",
      "initial_list_status           232487 non-null object\n",
      "collections_12_mths_ex_med    232487 non-null float64\n",
      "mort_acc                      232487 non-null float64\n",
      "loan_label                    232487 non-null int64\n",
      "emp_title_flag                232487 non-null int64\n",
      "fico_avg                      232487 non-null float64\n",
      "f_norm_emp_title              232487 non-null object\n",
      "fw_emp_title                  232487 non-null object\n",
      "emp_length_cat                232487 non-null category\n",
      "fw_emp_title_gt0005           232487 non-null object\n",
      "dtypes: category(1), float64(13), int64(5), object(14)\n",
      "memory usage: 57.0+ MB\n"
     ]
    }
   ],
   "source": [
    "df_reduce.info()"
   ]
  },
  {
   "cell_type": "code",
   "execution_count": 15,
   "metadata": {
    "collapsed": true
   },
   "outputs": [],
   "source": [
    "random_state = 401\n",
    "\n",
    "from sklearn.linear_model import LogisticRegression\n",
    "from sklearn.model_selection import GridSearchCV\n",
    "from sklearn.model_selection import StratifiedShuffleSplit\n",
    "from sklearn.preprocessing import scale\n",
    "from sklearn.metrics import make_scorer, f1_score, accuracy_score, classification_report, roc_auc_score\n",
    "from sklearn.model_selection import train_test_split\n",
    "\n",
    "def my_scorer(clf, X, y):\n",
    "    y_pred_prob = clf.predict_proba(X)[:,1]\n",
    "    return roc_auc_score(y, y_pred_prob)\n",
    "\n",
    "sss = StratifiedShuffleSplit(n_splits=3, test_size=0.2, random_state=random_state)\n",
    "scoring_function = my_scorer"
   ]
  },
  {
   "cell_type": "code",
   "execution_count": 16,
   "metadata": {
    "collapsed": true
   },
   "outputs": [],
   "source": [
    "logreg = LogisticRegression(penalty='l2', C=.00001, random_state=random_state)"
   ]
  },
  {
   "cell_type": "code",
   "execution_count": 17,
   "metadata": {
    "collapsed": false
   },
   "outputs": [
    {
     "name": "stdout",
     "output_type": "stream",
     "text": [
      "Index([u'zip_code'], dtype='object')\n",
      "(232487, 865)\n"
     ]
    }
   ],
   "source": [
    "features = ['zip_code']\n",
    "\n",
    "target = ['loan_label']\n",
    "\n",
    "X=df_reduce[features]\n",
    "print X.columns\n",
    "X = pd.get_dummies(X)\n",
    "col = X.columns\n",
    "print X.shape\n",
    "#X = scale(X)\n",
    "y=df_reduce[target].values.ravel()\n",
    "\n",
    "X_train, X_test, y_train, y_test = train_test_split(X, y,  stratify=y, test_size=.25, random_state=random_state)"
   ]
  },
  {
   "cell_type": "code",
   "execution_count": 15,
   "metadata": {
    "collapsed": false
   },
   "outputs": [
    {
     "name": "stdout",
     "output_type": "stream",
     "text": [
      "[  1.00000000e+00   1.00000000e-01   1.00000000e-02   1.00000000e-03\n",
      "   1.00000000e-04   1.00000000e-05   1.00000000e-06   1.00000000e-07]\n"
     ]
    }
   ],
   "source": [
    "C_range = 1.0/np.power(10,np.arange(0,8,1))\n",
    "print C_range\n",
    "parameters=dict(C=C_range)\n",
    "grid_log = GridSearchCV(estimator=logreg, param_grid=parameters, cv=sss, n_jobs=n_jobs, scoring=my_scorer, refit=True)"
   ]
  },
  {
   "cell_type": "code",
   "execution_count": 19,
   "metadata": {
    "collapsed": false
   },
   "outputs": [
    {
     "name": "stdout",
     "output_type": "stream",
     "text": [
      "61.4620 seconds\n",
      "0.506659308846\n"
     ]
    }
   ],
   "source": [
    "start = time()\n",
    "grid_log.fit(X_train,y_train)\n",
    "end = time()\n",
    "print \"{:.4f} seconds\".format(end - start)\n",
    "y_pred_prob = logreg.predict_proba(X_test)[:,1]\n",
    "print roc_auc_score(y_test, y_pred_prob)"
   ]
  },
  {
   "cell_type": "code",
   "execution_count": 20,
   "metadata": {
    "collapsed": false
   },
   "outputs": [
    {
     "data": {
      "text/html": [
       "<div>\n",
       "<table border=\"1\" class=\"dataframe\">\n",
       "  <thead>\n",
       "    <tr style=\"text-align: right;\">\n",
       "      <th></th>\n",
       "      <th>features</th>\n",
       "      <th>coef</th>\n",
       "    </tr>\n",
       "  </thead>\n",
       "  <tbody>\n",
       "    <tr>\n",
       "      <th>646</th>\n",
       "      <td>zip_code_750xx</td>\n",
       "      <td>0.005365</td>\n",
       "    </tr>\n",
       "    <tr>\n",
       "      <th>530</th>\n",
       "      <td>zip_code_606xx</td>\n",
       "      <td>0.004904</td>\n",
       "    </tr>\n",
       "    <tr>\n",
       "      <th>815</th>\n",
       "      <td>zip_code_945xx</td>\n",
       "      <td>0.004631</td>\n",
       "    </tr>\n",
       "    <tr>\n",
       "      <th>90</th>\n",
       "      <td>zip_code_112xx</td>\n",
       "      <td>0.004335</td>\n",
       "    </tr>\n",
       "    <tr>\n",
       "      <th>271</th>\n",
       "      <td>zip_code_300xx</td>\n",
       "      <td>0.004263</td>\n",
       "    </tr>\n",
       "    <tr>\n",
       "      <th>78</th>\n",
       "      <td>zip_code_100xx</td>\n",
       "      <td>0.004087</td>\n",
       "    </tr>\n",
       "    <tr>\n",
       "      <th>51</th>\n",
       "      <td>zip_code_070xx</td>\n",
       "      <td>0.003871</td>\n",
       "    </tr>\n",
       "    <tr>\n",
       "      <th>666</th>\n",
       "      <td>zip_code_770xx</td>\n",
       "      <td>0.003770</td>\n",
       "    </tr>\n",
       "    <tr>\n",
       "      <th>302</th>\n",
       "      <td>zip_code_331xx</td>\n",
       "      <td>0.003458</td>\n",
       "    </tr>\n",
       "    <tr>\n",
       "      <th>770</th>\n",
       "      <td>zip_code_900xx</td>\n",
       "      <td>0.003354</td>\n",
       "    </tr>\n",
       "    <tr>\n",
       "      <th>95</th>\n",
       "      <td>zip_code_117xx</td>\n",
       "      <td>0.003313</td>\n",
       "    </tr>\n",
       "    <tr>\n",
       "      <th>787</th>\n",
       "      <td>zip_code_917xx</td>\n",
       "      <td>0.003273</td>\n",
       "    </tr>\n",
       "    <tr>\n",
       "      <th>736</th>\n",
       "      <td>zip_code_852xx</td>\n",
       "      <td>0.002969</td>\n",
       "    </tr>\n",
       "    <tr>\n",
       "      <th>301</th>\n",
       "      <td>zip_code_330xx</td>\n",
       "      <td>0.002841</td>\n",
       "    </tr>\n",
       "    <tr>\n",
       "      <th>82</th>\n",
       "      <td>zip_code_104xx</td>\n",
       "      <td>0.002834</td>\n",
       "    </tr>\n",
       "  </tbody>\n",
       "</table>\n",
       "</div>"
      ],
      "text/plain": [
       "           features      coef\n",
       "646  zip_code_750xx  0.005365\n",
       "530  zip_code_606xx  0.004904\n",
       "815  zip_code_945xx  0.004631\n",
       "90   zip_code_112xx  0.004335\n",
       "271  zip_code_300xx  0.004263\n",
       "78   zip_code_100xx  0.004087\n",
       "51   zip_code_070xx  0.003871\n",
       "666  zip_code_770xx  0.003770\n",
       "302  zip_code_331xx  0.003458\n",
       "770  zip_code_900xx  0.003354\n",
       "95   zip_code_117xx  0.003313\n",
       "787  zip_code_917xx  0.003273\n",
       "736  zip_code_852xx  0.002969\n",
       "301  zip_code_330xx  0.002841\n",
       "82   zip_code_104xx  0.002834"
      ]
     },
     "execution_count": 20,
     "metadata": {},
     "output_type": "execute_result"
    }
   ],
   "source": [
    "t = pd.DataFrame(zip(col, logreg.coef_[0]), columns=['features','coef'])\n",
    "t['coef']=abs(t.coef)\n",
    "t.sort_values(by='coef', ascending=False).head(15)"
   ]
  },
  {
   "cell_type": "code",
   "execution_count": 37,
   "metadata": {
    "collapsed": false
   },
   "outputs": [
    {
     "name": "stdout",
     "output_type": "stream",
     "text": [
      "131\n"
     ]
    }
   ],
   "source": [
    "print len(t[t.coef>0.001]) #want to reduce these zip codes by most important \n",
    "#take coefficients greater than .001\n",
    "emp001 = t[t.coef>0.001]"
   ]
  },
  {
   "cell_type": "code",
   "execution_count": 38,
   "metadata": {
    "collapsed": false
   },
   "outputs": [
    {
     "name": "stdout",
     "output_type": "stream",
     "text": [
      "9\n"
     ]
    },
    {
     "name": "stderr",
     "output_type": "stream",
     "text": [
      "/Users/Shalu/anaconda/lib/python2.7/site-packages/ipykernel/__main__.py:3: SettingWithCopyWarning: \n",
      "A value is trying to be set on a copy of a slice from a DataFrame.\n",
      "Try using .loc[row_indexer,col_indexer] = value instead\n",
      "\n",
      "See the caveats in the documentation: http://pandas.pydata.org/pandas-docs/stable/indexing.html#indexing-view-versus-copy\n",
      "  app.launch_new_instance()\n"
     ]
    }
   ],
   "source": [
    "print len('zip_code_')\n",
    "#remove dummy column string concatenated and \n",
    "emp001['zip_red'] = emp001.features.apply(lambda x: x[9:])"
   ]
  },
  {
   "cell_type": "code",
   "execution_count": 55,
   "metadata": {
    "collapsed": true
   },
   "outputs": [],
   "source": [
    "#take top coefficient zip codes and set lower to 0\n",
    "def map_top_matches(x):\n",
    "        if any(x == (emp001.zip_red)):\n",
    "            return x\n",
    "        else:\n",
    "            return 0"
   ]
  },
  {
   "cell_type": "code",
   "execution_count": 56,
   "metadata": {
    "collapsed": false
   },
   "outputs": [
    {
     "name": "stdout",
     "output_type": "stream",
     "text": [
      "28.2132 seconds\n"
     ]
    }
   ],
   "source": [
    "start=time()\n",
    "df_reduce['zip_gt001'] = df_reduce.zip_code.apply(lambda x: map_top_matches(x))\n",
    "end = time()\n",
    "print \"{:.4f} seconds\".format((end - start))"
   ]
  },
  {
   "cell_type": "code",
   "execution_count": 19,
   "metadata": {
    "collapsed": false
   },
   "outputs": [
    {
     "name": "stdout",
     "output_type": "stream",
     "text": [
      "865\n",
      "132\n"
     ]
    }
   ],
   "source": [
    "#Reduced the ZipCodes from 865 to 132\n",
    "print len(np.unique(df_reduce.zip_code))\n",
    "print len(np.unique(df_reduce.zip_gt001))"
   ]
  },
  {
   "cell_type": "code",
   "execution_count": 18,
   "metadata": {
    "collapsed": true
   },
   "outputs": [],
   "source": [
    "#df_reduce.to_pickle('deltempZipFuzzyMerge.p')\n",
    "#df_reduce = pd.read_pickle('deltempZipFuzzyMerge.p')\n",
    "df_reduce = pd.read_pickle('dfc_zip_fuzzy_final.p')"
   ]
  }
 ],
 "metadata": {
  "anaconda-cloud": {},
  "kernelspec": {
   "display_name": "Python [Root]",
   "language": "python",
   "name": "Python [Root]"
  },
  "language_info": {
   "codemirror_mode": {
    "name": "ipython",
    "version": 2
   },
   "file_extension": ".py",
   "mimetype": "text/x-python",
   "name": "python",
   "nbconvert_exporter": "python",
   "pygments_lexer": "ipython2",
   "version": "2.7.12"
  }
 },
 "nbformat": 4,
 "nbformat_minor": 0
}
