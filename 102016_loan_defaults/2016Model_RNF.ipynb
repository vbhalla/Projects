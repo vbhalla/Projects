{
 "cells": [
  {
   "cell_type": "code",
   "execution_count": 1,
   "metadata": {
    "collapsed": false
   },
   "outputs": [],
   "source": [
    "import pandas as pd\n",
    "import numpy as np\n",
    "#import matplotlib.pyplot as plt\n",
    "from datetime import datetime\n",
    "#%matplotlib inline\n",
    "#import seaborn as sns\n",
    "from sklearn.model_selection import train_test_split\n",
    "from time import time\n",
    "from sklearn.metrics import f1_score\n",
    "from sklearn.preprocessing import scale\n",
    "pd.set_option('display.max_rows', 500)\n",
    "pd.set_option('display.max_columns', 500)\n",
    "pd.set_option('display.width', 1000)"
   ]
  },
  {
   "cell_type": "code",
   "execution_count": 2,
   "metadata": {
    "collapsed": false
   },
   "outputs": [],
   "source": [
    "random_state=401\n",
    "n_jobs = 6"
   ]
  },
  {
   "cell_type": "code",
   "execution_count": 3,
   "metadata": {
    "collapsed": false
   },
   "outputs": [
    {
     "name": "stdout",
     "output_type": "stream",
     "text": [
      "/Users/Shalu/Dropbox/Coursework/DS/KLC/Data\n"
     ]
    }
   ],
   "source": [
    "cd Data"
   ]
  },
  {
   "cell_type": "code",
   "execution_count": 4,
   "metadata": {
    "collapsed": false
   },
   "outputs": [],
   "source": [
    "#dfc = pd.read_pickle('dfclean104.p')\n",
    "#dfc = pd.read_pickle('dfc_fwg_emp_1024.p')\n",
    "#dfc = pd.read_pickle('dfc_fwg_emp_1024.p')\n",
    "#dfc = pd.read_pickle('deltempZipFuzzyMerge.p')\n",
    "dfc = pd.read_pickle('df_log_reg.p')"
   ]
  },
  {
   "cell_type": "code",
   "execution_count": 5,
   "metadata": {
    "collapsed": false
   },
   "outputs": [
    {
     "data": {
      "text/plain": [
       "(232487, 35)"
      ]
     },
     "execution_count": 5,
     "metadata": {},
     "output_type": "execute_result"
    }
   ],
   "source": [
    "dfc.shape"
   ]
  },
  {
   "cell_type": "code",
   "execution_count": 6,
   "metadata": {
    "collapsed": false
   },
   "outputs": [],
   "source": [
    "#df_reduce = dfc.copy()\n",
    "df_reduce = dfc.copy()\n",
    "del dfc"
   ]
  },
  {
   "cell_type": "code",
   "execution_count": 7,
   "metadata": {
    "collapsed": false
   },
   "outputs": [],
   "source": [
    "from sklearn.model_selection import GridSearchCV\n",
    "from sklearn.model_selection import StratifiedShuffleSplit\n",
    "from sklearn.preprocessing import scale\n",
    "from sklearn.metrics import make_scorer, f1_score, accuracy_score, classification_report, roc_auc_score\n",
    "from sklearn.model_selection import train_test_split"
   ]
  },
  {
   "cell_type": "code",
   "execution_count": 8,
   "metadata": {
    "collapsed": false
   },
   "outputs": [],
   "source": [
    "def my_scorer(clf, X, y):\n",
    "    y_pred_prob = clf.predict_proba(X)[:,1]\n",
    "    return roc_auc_score(y, y_pred_prob)"
   ]
  },
  {
   "cell_type": "code",
   "execution_count": 9,
   "metadata": {
    "collapsed": false
   },
   "outputs": [],
   "source": [
    "sss = StratifiedShuffleSplit(n_splits=3, test_size=0.2, random_state=random_state)\n",
    "scoring_function = my_scorer"
   ]
  },
  {
   "cell_type": "markdown",
   "metadata": {},
   "source": [
    "## Run Random Forest On Both Features"
   ]
  },
  {
   "cell_type": "code",
   "execution_count": 26,
   "metadata": {
    "collapsed": false
   },
   "outputs": [
    {
     "name": "stdout",
     "output_type": "stream",
     "text": [
      "Index([u'loan_amnt', u'term', u'int_rate', u'home_ownership', u'annual_inc', u'verification_status', u'purpose', u'dti', u'delinq_2yrs', u'earliest_cr_line', u'inq_last_6mths', u'open_acc', u'pub_rec', u'revol_bal', u'revol_util', u'initial_list_status', u'collections_12_mths_ex_med', u'mort_acc', u'fico_avg', u'emp_length_cat', u'fw_emp_title_gt0005', u'zip_gt001'], dtype='object')\n"
     ]
    }
   ],
   "source": [
    "features = ['loan_amnt', 'term', 'int_rate', 'home_ownership', u'annual_inc', 'verification_status', 'purpose', \n",
    "            'dti', 'delinq_2yrs', 'earliest_cr_line', 'inq_last_6mths', 'open_acc', 'pub_rec', 'revol_bal', \n",
    "            'revol_util', 'initial_list_status','collections_12_mths_ex_med', 'mort_acc',\n",
    "            'fico_avg', 'emp_length_cat', 'fw_emp_title_gt0005', 'zip_gt001'\n",
    "           ]\n",
    "\n",
    "target = ['loan_label']\n",
    "\n",
    "X=df_reduce[features]\n",
    "print X.columns\n",
    "X = pd.get_dummies(X)\n",
    "col = X.columns\n",
    "X = scale(X)\n",
    "y=df_reduce[target].values.ravel()\n",
    "\n",
    "X_train, X_test, y_train, y_test = train_test_split(X, y,  stratify=y, test_size=.3, random_state=random_state)"
   ]
  },
  {
   "cell_type": "code",
   "execution_count": 42,
   "metadata": {
    "collapsed": true
   },
   "outputs": [],
   "source": [
    "from sklearn.ensemble import RandomForestClassifier\n",
    "g_rnf = RandomForestClassifier(random_state=random_state)\n",
    "n_est_range = [1200]\n",
    "max_features_range = [.3, .6] \n",
    "min_samples_leaf_range=[100] \n",
    "parameters = dict(n_estimators=n_est_range, max_features=max_features_range, min_samples_leaf=min_samples_leaf_range)\n",
    "\n",
    "grid_rnf = GridSearchCV(estimator=g_rnf, param_grid=parameters, cv=sss, n_jobs=n_jobs, scoring=my_scorer, refit=True)"
   ]
  },
  {
   "cell_type": "code",
   "execution_count": 18,
   "metadata": {
    "collapsed": false
   },
   "outputs": [
    {
     "name": "stdout",
     "output_type": "stream",
     "text": [
      "8349.7935 seconds\n",
      "0.690566027524\n",
      "RandomForestClassifier(bootstrap=True, class_weight=None, criterion='gini',\n",
      "            max_depth=None, max_features=0.3, max_leaf_nodes=None,\n",
      "            min_impurity_split=1e-07, min_samples_leaf=100,\n",
      "            min_samples_split=2, min_weight_fraction_leaf=0.0,\n",
      "            n_estimators=1200, n_jobs=1, oob_score=False, random_state=401,\n",
      "            verbose=0, warm_start=False)\n"
     ]
    }
   ],
   "source": [
    "import caffeine\n",
    "start = time()\n",
    "grid_rnf.fit(X_train,y_train)\n",
    "end = time()\n",
    "print \"{:.4f} seconds\".format(end - start)\n",
    "print grid_rnf.best_score_\n",
    "print grid_rnf.best_estimator_\n",
    "print grid_rnf.cv_results_\n",
    "caffeine.off()"
   ]
  },
  {
   "cell_type": "code",
   "execution_count": 39,
   "metadata": {
    "collapsed": false
   },
   "outputs": [
    {
     "data": {
      "text/plain": [
       "{'mean_fit_time': array([ 2075.98488601,  3756.17199834]),\n",
       " 'mean_score_time': array([ 7.96730089,  6.91097331]),\n",
       " 'mean_test_score': array([ 0.69056603,  0.68981213]),\n",
       " 'mean_train_score': array([ 0.75756852,  0.76765895]),\n",
       " 'param_max_features': masked_array(data = [0.3 0.6],\n",
       "              mask = [False False],\n",
       "        fill_value = ?),\n",
       " 'param_min_samples_leaf': masked_array(data = [100 100],\n",
       "              mask = [False False],\n",
       "        fill_value = ?),\n",
       " 'param_n_estimators': masked_array(data = [1200 1200],\n",
       "              mask = [False False],\n",
       "        fill_value = ?),\n",
       " 'params': ({'max_features': 0.3,\n",
       "   'min_samples_leaf': 100,\n",
       "   'n_estimators': 1200},\n",
       "  {'max_features': 0.6, 'min_samples_leaf': 100, 'n_estimators': 1200}),\n",
       " 'rank_test_score': array([1, 2], dtype=int32),\n",
       " 'split0_test_score': array([ 0.68455124,  0.68409717]),\n",
       " 'split0_train_score': array([ 0.75837331,  0.76825352]),\n",
       " 'split1_test_score': array([ 0.69426693,  0.6936473 ]),\n",
       " 'split1_train_score': array([ 0.75692536,  0.76721048]),\n",
       " 'split2_test_score': array([ 0.69287991,  0.69169193]),\n",
       " 'split2_train_score': array([ 0.75740689,  0.76751285]),\n",
       " 'std_fit_time': array([   5.15101255,  107.67884144]),\n",
       " 'std_score_time': array([ 0.10009641,  0.26077368]),\n",
       " 'std_test_score': array([ 0.00429063,  0.00411918]),\n",
       " 'std_train_score': array([ 0.00060207,  0.00043817])}"
      ]
     },
     "execution_count": 39,
     "metadata": {},
     "output_type": "execute_result"
    }
   ],
   "source": [
    "grid_rnf.cv_results_"
   ]
  },
  {
   "cell_type": "code",
   "execution_count": 27,
   "metadata": {
    "collapsed": false
   },
   "outputs": [
    {
     "data": {
      "text/plain": [
       "0.69365630684193391"
      ]
     },
     "execution_count": 27,
     "metadata": {},
     "output_type": "execute_result"
    }
   ],
   "source": [
    "y_pred_prob = grid_rnf.predict_proba(X_test)[:,1]\n",
    "roc_auc_score(y_test, y_pred_prob)"
   ]
  },
  {
   "cell_type": "markdown",
   "metadata": {},
   "source": [
    "## Run on emp title only"
   ]
  },
  {
   "cell_type": "code",
   "execution_count": 10,
   "metadata": {
    "collapsed": false
   },
   "outputs": [
    {
     "name": "stdout",
     "output_type": "stream",
     "text": [
      "Index([u'loan_amnt', u'term', u'int_rate', u'home_ownership', u'annual_inc', u'verification_status', u'purpose', u'dti', u'delinq_2yrs', u'earliest_cr_line', u'inq_last_6mths', u'open_acc', u'pub_rec', u'revol_bal', u'revol_util', u'initial_list_status', u'collections_12_mths_ex_med', u'mort_acc', u'fico_avg', u'emp_length_cat', u'fw_emp_title_gt0005'], dtype='object')\n"
     ]
    }
   ],
   "source": [
    "features = ['loan_amnt', 'term', 'int_rate', 'home_ownership', u'annual_inc', 'verification_status', 'purpose', \n",
    "            'dti', 'delinq_2yrs', 'earliest_cr_line', 'inq_last_6mths', 'open_acc', 'pub_rec', 'revol_bal', \n",
    "            'revol_util', 'initial_list_status','collections_12_mths_ex_med', 'mort_acc',\n",
    "            'fico_avg', 'emp_length_cat', 'fw_emp_title_gt0005',# 'zip_gt001'\n",
    "           ]\n",
    "\n",
    "target = ['loan_label']\n",
    "\n",
    "X=df_reduce[features]\n",
    "print X.columns\n",
    "X = pd.get_dummies(X)\n",
    "col = X.columns\n",
    "X = scale(X)\n",
    "y=df_reduce[target].values.ravel()\n",
    "\n",
    "X_train, X_test, y_train, y_test = train_test_split(X, y,  stratify=y, test_size=.3, random_state=random_state)\n",
    "\n"
   ]
  },
  {
   "cell_type": "code",
   "execution_count": 44,
   "metadata": {
    "collapsed": false
   },
   "outputs": [
    {
     "name": "stdout",
     "output_type": "stream",
     "text": [
      "5490.2047 seconds\n",
      "0.690256003743\n",
      "RandomForestClassifier(bootstrap=True, class_weight=None, criterion='gini',\n",
      "            max_depth=None, max_features=0.3, max_leaf_nodes=None,\n",
      "            min_impurity_split=1e-07, min_samples_leaf=100,\n",
      "            min_samples_split=2, min_weight_fraction_leaf=0.0,\n",
      "            n_estimators=1200, n_jobs=1, oob_score=False, random_state=401,\n",
      "            verbose=0, warm_start=False)\n",
      "{'std_train_score': array([ 0.00048728,  0.00040339]), 'rank_test_score': array([1, 2], dtype=int32), 'mean_score_time': array([ 7.0251046,  6.1480449]), 'std_test_score': array([ 0.00422684,  0.00415545]), 'split1_train_score': array([ 0.75677305,  0.76681434]), 'split0_test_score': array([ 0.68435519,  0.68405134]), 'mean_test_score': array([ 0.690256  ,  0.68976078]), 'split2_train_score': array([ 0.75728826,  0.76716743]), 'split0_train_score': array([ 0.75796307,  0.7677901 ]), 'param_min_samples_leaf': masked_array(data = [100 100],\n",
      "             mask = [False False],\n",
      "       fill_value = ?)\n",
      ", 'std_fit_time': array([   3.42715827,  376.36562059]), 'std_score_time': array([ 0.18209236,  0.31961161]), 'split2_test_score': array([ 0.69237898,  0.6914099 ]), 'param_n_estimators': masked_array(data = [1200 1200],\n",
      "             mask = [False False],\n",
      "       fill_value = ?)\n",
      ", 'params': ({'max_features': 0.3, 'n_estimators': 1200, 'min_samples_leaf': 100}, {'max_features': 0.6, 'n_estimators': 1200, 'min_samples_leaf': 100}), 'mean_train_score': array([ 0.75734146,  0.76725729]), 'mean_fit_time': array([ 1865.45295135,  2348.40813041]), 'param_max_features': masked_array(data = [0.3 0.6],\n",
      "             mask = [False False],\n",
      "       fill_value = ?)\n",
      ", 'split1_test_score': array([ 0.69403383,  0.69382109])}\n"
     ]
    },
    {
     "data": {
      "text/plain": [
       "0.69344546970238596"
      ]
     },
     "execution_count": 44,
     "metadata": {},
     "output_type": "execute_result"
    }
   ],
   "source": [
    "import caffeine\n",
    "start = time()\n",
    "grid_rnf.fit(X_train,y_train)\n",
    "end = time()\n",
    "print \"{:.4f} seconds\".format(end - start)\n",
    "print grid_rnf.best_score_\n",
    "print grid_rnf.best_estimator_\n",
    "print grid_rnf.cv_results_\n",
    "caffeine.off()\n",
    "y_pred_prob = grid_rnf.predict_proba(X_test)[:,1]\n",
    "roc_auc_score(y_test, y_pred_prob)"
   ]
  },
  {
   "cell_type": "code",
   "execution_count": 11,
   "metadata": {
    "collapsed": false
   },
   "outputs": [],
   "source": [
    "from sklearn.ensemble import RandomForestClassifier\n",
    "g_rnf = RandomForestClassifier(random_state=random_state, n_estimators=1200, \n",
    "                               max_features=.3, min_samples_leaf=100, n_jobs=1)"
   ]
  },
  {
   "cell_type": "code",
   "execution_count": 12,
   "metadata": {
    "collapsed": false
   },
   "outputs": [
    {
     "name": "stdout",
     "output_type": "stream",
     "text": [
      "2775.0623 seconds\n"
     ]
    },
    {
     "data": {
      "text/plain": [
       "0.69344546970238596"
      ]
     },
     "execution_count": 12,
     "metadata": {},
     "output_type": "execute_result"
    }
   ],
   "source": [
    "start = time()\n",
    "g_rnf.fit(X_train,y_train)\n",
    "end = time()\n",
    "print \"{:.4f} seconds\".format(end - start)\n",
    "y_pred_prob = g_rnf.predict_proba(X_test)[:,1]\n",
    "roc_auc_score(y_test, y_pred_prob)"
   ]
  },
  {
   "cell_type": "code",
   "execution_count": 14,
   "metadata": {
    "collapsed": false
   },
   "outputs": [],
   "source": [
    "import pickle\n",
    "\n",
    "with open('g_rnf.p', 'w') as f_w:\n",
    "    pickle.dump(g_rnf, f_w)\n",
    "\n",
    "#with open('g_rnf.p', 'r') as f_r:\n",
    "#    dt_model_load = pickle.load(f_r)\n"
   ]
  },
  {
   "cell_type": "code",
   "execution_count": null,
   "metadata": {
    "collapsed": true
   },
   "outputs": [],
   "source": []
  },
  {
   "cell_type": "code",
   "execution_count": 32,
   "metadata": {
    "collapsed": false
   },
   "outputs": [],
   "source": [
    "t = pd.DataFrame(zip(col, g_rnf.feature_importances_), columns=['features','coef'])\n",
    "t['coef']=abs(t.coef)"
   ]
  },
  {
   "cell_type": "code",
   "execution_count": 35,
   "metadata": {
    "collapsed": false
   },
   "outputs": [
    {
     "data": {
      "text/html": [
       "<div>\n",
       "<table border=\"1\" class=\"dataframe\">\n",
       "  <thead>\n",
       "    <tr style=\"text-align: right;\">\n",
       "      <th></th>\n",
       "      <th>features</th>\n",
       "      <th>coef</th>\n",
       "    </tr>\n",
       "  </thead>\n",
       "  <tbody>\n",
       "    <tr>\n",
       "      <th>1</th>\n",
       "      <td>int_rate</td>\n",
       "      <td>0.403545</td>\n",
       "    </tr>\n",
       "    <tr>\n",
       "      <th>3</th>\n",
       "      <td>dti</td>\n",
       "      <td>0.073820</td>\n",
       "    </tr>\n",
       "    <tr>\n",
       "      <th>2</th>\n",
       "      <td>annual_inc</td>\n",
       "      <td>0.066619</td>\n",
       "    </tr>\n",
       "    <tr>\n",
       "      <th>13</th>\n",
       "      <td>fico_avg</td>\n",
       "      <td>0.065220</td>\n",
       "    </tr>\n",
       "    <tr>\n",
       "      <th>9</th>\n",
       "      <td>revol_bal</td>\n",
       "      <td>0.056021</td>\n",
       "    </tr>\n",
       "    <tr>\n",
       "      <th>0</th>\n",
       "      <td>loan_amnt</td>\n",
       "      <td>0.053544</td>\n",
       "    </tr>\n",
       "    <tr>\n",
       "      <th>10</th>\n",
       "      <td>revol_util</td>\n",
       "      <td>0.046716</td>\n",
       "    </tr>\n",
       "    <tr>\n",
       "      <th>5</th>\n",
       "      <td>earliest_cr_line</td>\n",
       "      <td>0.036371</td>\n",
       "    </tr>\n",
       "    <tr>\n",
       "      <th>7</th>\n",
       "      <td>open_acc</td>\n",
       "      <td>0.027148</td>\n",
       "    </tr>\n",
       "    <tr>\n",
       "      <th>12</th>\n",
       "      <td>mort_acc</td>\n",
       "      <td>0.025582</td>\n",
       "    </tr>\n",
       "    <tr>\n",
       "      <th>6</th>\n",
       "      <td>inq_last_6mths</td>\n",
       "      <td>0.023723</td>\n",
       "    </tr>\n",
       "    <tr>\n",
       "      <th>14</th>\n",
       "      <td>term_ 36 months</td>\n",
       "      <td>0.015653</td>\n",
       "    </tr>\n",
       "    <tr>\n",
       "      <th>15</th>\n",
       "      <td>term_ 60 months</td>\n",
       "      <td>0.014768</td>\n",
       "    </tr>\n",
       "    <tr>\n",
       "      <th>18</th>\n",
       "      <td>home_ownership_RENT</td>\n",
       "      <td>0.012041</td>\n",
       "    </tr>\n",
       "    <tr>\n",
       "      <th>16</th>\n",
       "      <td>home_ownership_MORTGAGE</td>\n",
       "      <td>0.009631</td>\n",
       "    </tr>\n",
       "    <tr>\n",
       "      <th>19</th>\n",
       "      <td>verification_status_Not Verified</td>\n",
       "      <td>0.008164</td>\n",
       "    </tr>\n",
       "    <tr>\n",
       "      <th>47</th>\n",
       "      <td>emp_length_cat_10</td>\n",
       "      <td>0.006785</td>\n",
       "    </tr>\n",
       "    <tr>\n",
       "      <th>59</th>\n",
       "      <td>fw_emp_title_gt0005_NoMatch</td>\n",
       "      <td>0.006166</td>\n",
       "    </tr>\n",
       "    <tr>\n",
       "      <th>20</th>\n",
       "      <td>verification_status_Source Verified</td>\n",
       "      <td>0.005243</td>\n",
       "    </tr>\n",
       "    <tr>\n",
       "      <th>36</th>\n",
       "      <td>initial_list_status_w</td>\n",
       "      <td>0.005189</td>\n",
       "    </tr>\n",
       "    <tr>\n",
       "      <th>24</th>\n",
       "      <td>purpose_debt_consolidation</td>\n",
       "      <td>0.005077</td>\n",
       "    </tr>\n",
       "    <tr>\n",
       "      <th>35</th>\n",
       "      <td>initial_list_status_f</td>\n",
       "      <td>0.005064</td>\n",
       "    </tr>\n",
       "    <tr>\n",
       "      <th>21</th>\n",
       "      <td>verification_status_Verified</td>\n",
       "      <td>0.005004</td>\n",
       "    </tr>\n",
       "    <tr>\n",
       "      <th>4</th>\n",
       "      <td>delinq_2yrs</td>\n",
       "      <td>0.003815</td>\n",
       "    </tr>\n",
       "    <tr>\n",
       "      <th>38</th>\n",
       "      <td>emp_length_cat_1</td>\n",
       "      <td>0.003031</td>\n",
       "    </tr>\n",
       "    <tr>\n",
       "      <th>23</th>\n",
       "      <td>purpose_credit_card</td>\n",
       "      <td>0.002979</td>\n",
       "    </tr>\n",
       "    <tr>\n",
       "      <th>8</th>\n",
       "      <td>pub_rec</td>\n",
       "      <td>0.002978</td>\n",
       "    </tr>\n",
       "    <tr>\n",
       "      <th>193</th>\n",
       "      <td>fw_emp_title_gt0005_empty</td>\n",
       "      <td>0.002220</td>\n",
       "    </tr>\n",
       "    <tr>\n",
       "      <th>37</th>\n",
       "      <td>emp_length_cat_0</td>\n",
       "      <td>0.001976</td>\n",
       "    </tr>\n",
       "    <tr>\n",
       "      <th>17</th>\n",
       "      <td>home_ownership_OWN</td>\n",
       "      <td>0.001070</td>\n",
       "    </tr>\n",
       "  </tbody>\n",
       "</table>\n",
       "</div>"
      ],
      "text/plain": [
       "                                features      coef\n",
       "1                               int_rate  0.403545\n",
       "3                                    dti  0.073820\n",
       "2                             annual_inc  0.066619\n",
       "13                              fico_avg  0.065220\n",
       "9                              revol_bal  0.056021\n",
       "0                              loan_amnt  0.053544\n",
       "10                            revol_util  0.046716\n",
       "5                       earliest_cr_line  0.036371\n",
       "7                               open_acc  0.027148\n",
       "12                              mort_acc  0.025582\n",
       "6                         inq_last_6mths  0.023723\n",
       "14                       term_ 36 months  0.015653\n",
       "15                       term_ 60 months  0.014768\n",
       "18                   home_ownership_RENT  0.012041\n",
       "16               home_ownership_MORTGAGE  0.009631\n",
       "19      verification_status_Not Verified  0.008164\n",
       "47                     emp_length_cat_10  0.006785\n",
       "59           fw_emp_title_gt0005_NoMatch  0.006166\n",
       "20   verification_status_Source Verified  0.005243\n",
       "36                 initial_list_status_w  0.005189\n",
       "24            purpose_debt_consolidation  0.005077\n",
       "35                 initial_list_status_f  0.005064\n",
       "21          verification_status_Verified  0.005004\n",
       "4                            delinq_2yrs  0.003815\n",
       "38                      emp_length_cat_1  0.003031\n",
       "23                   purpose_credit_card  0.002979\n",
       "8                                pub_rec  0.002978\n",
       "193            fw_emp_title_gt0005_empty  0.002220\n",
       "37                      emp_length_cat_0  0.001976\n",
       "17                    home_ownership_OWN  0.001070"
      ]
     },
     "execution_count": 35,
     "metadata": {},
     "output_type": "execute_result"
    }
   ],
   "source": [
    "t.sort_values(by='coef', ascending=False).head(30)"
   ]
  },
  {
   "cell_type": "code",
   "execution_count": 33,
   "metadata": {
    "collapsed": true
   },
   "outputs": [],
   "source": [
    "from sklearn.ensemble import RandomForestClassifier"
   ]
  },
  {
   "cell_type": "code",
   "execution_count": 34,
   "metadata": {
    "collapsed": false
   },
   "outputs": [
    {
     "name": "stdout",
     "output_type": "stream",
     "text": [
      "341.8565 seconds\n"
     ]
    },
    {
     "data": {
      "text/plain": [
       "0.69183079882427734"
      ]
     },
     "execution_count": 34,
     "metadata": {},
     "output_type": "execute_result"
    }
   ],
   "source": [
    "start = time()\n",
    "rnf.fit(X_train,y_train)\n",
    "end = time()\n",
    "print \"{:.4f} seconds\".format(end - start)\n",
    "y_pred_prob1 = rnf.predict_proba(X_test)[:,1]\n",
    "roc_auc_score(y_test, y_pred_prob1)"
   ]
  },
  {
   "cell_type": "markdown",
   "metadata": {},
   "source": [
    "### Parameter Tuning"
   ]
  },
  {
   "cell_type": "code",
   "execution_count": 65,
   "metadata": {
    "collapsed": false
   },
   "outputs": [],
   "source": [
    "n_est_range = [500, 1000, 1500, 2000, 3000]"
   ]
  },
  {
   "cell_type": "code",
   "execution_count": 46,
   "metadata": {
    "collapsed": false
   },
   "outputs": [],
   "source": [
    "scores = []\n",
    "for n in n_est_range:\n",
    "    start = time()  \n",
    "    rnf = RandomForestClassifier(n_estimators=n, max_features=.3, min_samples_leaf=100, n_jobs=n_jobs, random_state=random_state)\n",
    "    rnf.fit(X_train,y_train)\n",
    "    y_pred_prob1 = rnf.predict_proba(X_test)[:,1]\n",
    "    score = roc_auc_score(y_test, y_pred_prob1)\n",
    "    end = time()\n",
    "    duration = (end - start)/60\n",
    "    scores.append(dict(n_estimators=n, auc=score, duration=duration))\n",
    "    \n",
    "scores = pd.DataFrame(scores)"
   ]
  },
  {
   "cell_type": "code",
   "execution_count": 47,
   "metadata": {
    "collapsed": false
   },
   "outputs": [
    {
     "data": {
      "text/html": [
       "<div>\n",
       "<table border=\"1\" class=\"dataframe\">\n",
       "  <thead>\n",
       "    <tr style=\"text-align: right;\">\n",
       "      <th></th>\n",
       "      <th>auc</th>\n",
       "      <th>duration</th>\n",
       "      <th>n_estimators</th>\n",
       "    </tr>\n",
       "  </thead>\n",
       "  <tbody>\n",
       "    <tr>\n",
       "      <th>0</th>\n",
       "      <td>0.693253</td>\n",
       "      <td>2.648508</td>\n",
       "      <td>500</td>\n",
       "    </tr>\n",
       "    <tr>\n",
       "      <th>1</th>\n",
       "      <td>0.693360</td>\n",
       "      <td>5.383980</td>\n",
       "      <td>1000</td>\n",
       "    </tr>\n",
       "    <tr>\n",
       "      <th>2</th>\n",
       "      <td>0.693370</td>\n",
       "      <td>7.927020</td>\n",
       "      <td>1500</td>\n",
       "    </tr>\n",
       "    <tr>\n",
       "      <th>3</th>\n",
       "      <td>0.693489</td>\n",
       "      <td>16.850928</td>\n",
       "      <td>2000</td>\n",
       "    </tr>\n",
       "    <tr>\n",
       "      <th>4</th>\n",
       "      <td>0.693378</td>\n",
       "      <td>16.109152</td>\n",
       "      <td>3000</td>\n",
       "    </tr>\n",
       "  </tbody>\n",
       "</table>\n",
       "</div>"
      ],
      "text/plain": [
       "        auc   duration  n_estimators\n",
       "0  0.693253   2.648508           500\n",
       "1  0.693360   5.383980          1000\n",
       "2  0.693370   7.927020          1500\n",
       "3  0.693489  16.850928          2000\n",
       "4  0.693378  16.109152          3000"
      ]
     },
     "execution_count": 47,
     "metadata": {},
     "output_type": "execute_result"
    }
   ],
   "source": [
    "scores"
   ]
  },
  {
   "cell_type": "code",
   "execution_count": 74,
   "metadata": {
    "collapsed": false
   },
   "outputs": [
    {
     "name": "stdout",
     "output_type": "stream",
     "text": [
      "        auc   duration  max_features\n",
      "0  0.690995   3.899073          0.10\n",
      "1  0.693189   7.611377          0.20\n",
      "2  0.693366   9.392643          0.25\n",
      "3  0.693467  10.378140          0.30\n",
      "4  0.693200  11.596375          0.35\n",
      "5  0.693106  13.051303          0.40\n",
      "6  0.692884  16.203153          0.50\n"
     ]
    }
   ],
   "source": [
    "max_features_range = [.1, .2, .25, .3, .35, .4, .5] \n",
    "\n",
    "scores = []\n",
    "for max_f in max_features_range:\n",
    "    start = time()  \n",
    "    rnf = RandomForestClassifier(n_estimators=2000, max_features=max_f, min_samples_leaf=100, n_jobs=n_jobs, random_state=random_state)\n",
    "    rnf.fit(X_train,y_train)\n",
    "    y_pred_prob1 = rnf.predict_proba(X_test)[:,1]\n",
    "    score = roc_auc_score(y_test, y_pred_prob1)\n",
    "    end = time()\n",
    "    duration = (end - start)/60\n",
    "    scores.append(dict(max_features=max_f, auc=score, duration=duration))\n",
    "    \n",
    "scores = pd.DataFrame(scores)\n",
    "print scores"
   ]
  },
  {
   "cell_type": "code",
   "execution_count": 75,
   "metadata": {
    "collapsed": false
   },
   "outputs": [
    {
     "data": {
      "text/html": [
       "<div>\n",
       "<table border=\"1\" class=\"dataframe\">\n",
       "  <thead>\n",
       "    <tr style=\"text-align: right;\">\n",
       "      <th></th>\n",
       "      <th>auc</th>\n",
       "      <th>duration</th>\n",
       "      <th>max_features</th>\n",
       "    </tr>\n",
       "  </thead>\n",
       "  <tbody>\n",
       "    <tr>\n",
       "      <th>0</th>\n",
       "      <td>0.690995</td>\n",
       "      <td>3.899073</td>\n",
       "      <td>0.10</td>\n",
       "    </tr>\n",
       "    <tr>\n",
       "      <th>1</th>\n",
       "      <td>0.693189</td>\n",
       "      <td>7.611377</td>\n",
       "      <td>0.20</td>\n",
       "    </tr>\n",
       "    <tr>\n",
       "      <th>2</th>\n",
       "      <td>0.693366</td>\n",
       "      <td>9.392643</td>\n",
       "      <td>0.25</td>\n",
       "    </tr>\n",
       "    <tr>\n",
       "      <th>3</th>\n",
       "      <td>0.693467</td>\n",
       "      <td>10.378140</td>\n",
       "      <td>0.30</td>\n",
       "    </tr>\n",
       "    <tr>\n",
       "      <th>4</th>\n",
       "      <td>0.693200</td>\n",
       "      <td>11.596375</td>\n",
       "      <td>0.35</td>\n",
       "    </tr>\n",
       "    <tr>\n",
       "      <th>5</th>\n",
       "      <td>0.693106</td>\n",
       "      <td>13.051303</td>\n",
       "      <td>0.40</td>\n",
       "    </tr>\n",
       "    <tr>\n",
       "      <th>6</th>\n",
       "      <td>0.692884</td>\n",
       "      <td>16.203153</td>\n",
       "      <td>0.50</td>\n",
       "    </tr>\n",
       "  </tbody>\n",
       "</table>\n",
       "</div>"
      ],
      "text/plain": [
       "        auc   duration  max_features\n",
       "0  0.690995   3.899073          0.10\n",
       "1  0.693189   7.611377          0.20\n",
       "2  0.693366   9.392643          0.25\n",
       "3  0.693467  10.378140          0.30\n",
       "4  0.693200  11.596375          0.35\n",
       "5  0.693106  13.051303          0.40\n",
       "6  0.692884  16.203153          0.50"
      ]
     },
     "execution_count": 75,
     "metadata": {},
     "output_type": "execute_result"
    }
   ],
   "source": [
    "scores"
   ]
  },
  {
   "cell_type": "code",
   "execution_count": 76,
   "metadata": {
    "collapsed": true
   },
   "outputs": [],
   "source": [
    "#n_est_range = [500,1000,1500,2000,3000]\n",
    "#max_features_range = [.1, .3, .5, .7, .9] \n",
    "min_samples_leaf_range=[10, 50, 100, 300, 500, 1000, 3000]\n",
    "\n",
    "scores = []\n",
    "for min_samples in min_samples_leaf_range:\n",
    "    start = time()  # let's time it, to see how long running a forest takes\n",
    "    rnf = RandomForestClassifier(n_estimators=2000, max_features=.3, min_samples_leaf=100, n_jobs=n_jobs, random_state=random_state)\n",
    "    rnf.fit(X_train,y_train)\n",
    "    y_pred_prob1 = rnf.predict_proba(X_test)[:,1]\n",
    "    score = roc_auc_score(y_test, y_pred_prob1)\n",
    "    end = time()\n",
    "    duration = (end - start)/60\n",
    "    scores.append(dict(min_samples_leaf=min_samples, auc=score, duration=duration))\n",
    "    \n",
    "scores = pd.DataFrame(scores)"
   ]
  },
  {
   "cell_type": "code",
   "execution_count": 77,
   "metadata": {
    "collapsed": false
   },
   "outputs": [
    {
     "name": "stdout",
     "output_type": "stream",
     "text": [
      "        auc   duration  min_samples_leaf\n",
      "0  0.693467   9.963278                10\n",
      "1  0.693467   9.960127                50\n",
      "2  0.693467   9.952173               100\n",
      "3  0.693467   9.982697               300\n",
      "4  0.693467   9.954201               500\n",
      "5  0.693467   9.961517              1000\n",
      "6  0.693467  10.206830              3000\n"
     ]
    }
   ],
   "source": [
    "print scores"
   ]
  },
  {
   "cell_type": "code",
   "execution_count": null,
   "metadata": {
    "collapsed": true
   },
   "outputs": [],
   "source": []
  },
  {
   "cell_type": "code",
   "execution_count": null,
   "metadata": {
    "collapsed": true
   },
   "outputs": [],
   "source": []
  },
  {
   "cell_type": "code",
   "execution_count": null,
   "metadata": {
    "collapsed": true
   },
   "outputs": [],
   "source": []
  }
 ],
 "metadata": {
  "anaconda-cloud": {},
  "kernelspec": {
   "display_name": "Python [Root]",
   "language": "python",
   "name": "Python [Root]"
  },
  "language_info": {
   "codemirror_mode": {
    "name": "ipython",
    "version": 2
   },
   "file_extension": ".py",
   "mimetype": "text/x-python",
   "name": "python",
   "nbconvert_exporter": "python",
   "pygments_lexer": "ipython2",
   "version": "2.7.12"
  }
 },
 "nbformat": 4,
 "nbformat_minor": 0
}
