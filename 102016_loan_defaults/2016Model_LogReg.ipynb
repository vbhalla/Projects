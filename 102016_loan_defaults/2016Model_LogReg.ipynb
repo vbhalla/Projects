{
 "cells": [
  {
   "cell_type": "markdown",
   "metadata": {
    "collapsed": true
   },
   "source": [
    "# Vishal Bhalla | 10/25/2016\n",
    "\n",
    "## Logistic Regression Model\n",
    "\n",
    "Below requires the output from the feature extraction notebook, 4_GeoEmpTitle_Feature_Extraction."
   ]
  },
  {
   "cell_type": "code",
   "execution_count": 5,
   "metadata": {},
   "outputs": [],
   "source": [
    "import pandas as pd\n",
    "import numpy as np\n",
    "import matplotlib.pyplot as plt\n",
    "from datetime import datetime\n",
    "%matplotlib inline\n",
    "from sklearn.model_selection import train_test_split\n",
    "from time import time\n",
    "from sklearn.metrics import f1_score\n",
    "from sklearn.preprocessing import scale"
   ]
  },
  {
   "cell_type": "code",
   "execution_count": 7,
   "metadata": {
    "collapsed": true
   },
   "outputs": [],
   "source": [
    "random_state=401\n",
    "n_jobs = 4"
   ]
  },
  {
   "cell_type": "code",
   "execution_count": 8,
   "metadata": {},
   "outputs": [
    {
     "name": "stdout",
     "output_type": "stream",
     "text": [
      "[Errno 2] No such file or directory: 'Data'\n",
      "/Users/Shalu/Dropbox/Coursework/DS/KLC/Submission/Data\n"
     ]
    }
   ],
   "source": [
    "cd Data"
   ]
  },
  {
   "cell_type": "code",
   "execution_count": 9,
   "metadata": {},
   "outputs": [],
   "source": [
    "#Import output from other notebooks\n",
    "#dfc = pd.read_pickle('dfc_zip_fuzzy_final.p')"
   ]
  },
  {
   "cell_type": "code",
   "execution_count": 10,
   "metadata": {},
   "outputs": [
    {
     "data": {
      "text/plain": [
       "(232487, 34)"
      ]
     },
     "execution_count": 10,
     "metadata": {},
     "output_type": "execute_result"
    }
   ],
   "source": [
    "dfc.shape"
   ]
  },
  {
   "cell_type": "code",
   "execution_count": 11,
   "metadata": {},
   "outputs": [
    {
     "data": {
      "text/plain": [
       "Index([u'index', u'loan_amnt', u'term', u'int_rate', u'grade', u'sub_grade', u'emp_title', u'emp_length', u'home_ownership', u'annual_inc', u'verification_status', u'loan_status', u'purpose', u'zip_code', u'addr_state', u'dti', u'delinq_2yrs', u'earliest_cr_line', u'inq_last_6mths', u'open_acc', u'pub_rec', u'revol_bal', u'revol_util', u'initial_list_status', u'collections_12_mths_ex_med', u'mort_acc', u'loan_label', u'emp_title_flag', u'fico_avg', u'f_norm_emp_title', u'fw_emp_title', u'emp_length_cat', u'fw_emp_title_gt0005', u'zip_gt001'], dtype='object')"
      ]
     },
     "execution_count": 11,
     "metadata": {},
     "output_type": "execute_result"
    }
   ],
   "source": [
    "dfc.columns"
   ]
  },
  {
   "cell_type": "markdown",
   "metadata": {},
   "source": [
    "### Mapping allowing conversion of Subgrade Rating"
   ]
  },
  {
   "cell_type": "code",
   "execution_count": 12,
   "metadata": {},
   "outputs": [],
   "source": [
    "grades = {\n",
    "'A1': 1,\n",
    "'A2': 2,\n",
    "'A3': 3,\n",
    "'A4': 4,\n",
    "'A5': 5,\n",
    "'B1': 6,\n",
    "'B2': 7,\n",
    "'B3': 8,\n",
    "'B4': 9,\n",
    "'B5': 10,\n",
    "'C1': 11,\n",
    "'C2': 12,\n",
    "'C3': 13,\n",
    "'C4': 14,\n",
    "'C5': 15,\n",
    "'D1': 16,\n",
    "'D2': 17,\n",
    "'D3': 18,\n",
    "'D4': 19,\n",
    "'D5': 20,\n",
    "'E1': 21,\n",
    "'E2': 22,\n",
    "'E3': 23,\n",
    "'E4': 24,\n",
    "'E5': 25,\n",
    "'F1': 26,\n",
    "'F2': 27,\n",
    "'F3': 28,\n",
    "'F4': 29,\n",
    "'F5': 30,\n",
    "'G1': 31,\n",
    "'G2': 32,\n",
    "'G3': 33,\n",
    "'G4': 34,\n",
    "'G5': 35\n",
    "}"
   ]
  },
  {
   "cell_type": "code",
   "execution_count": 13,
   "metadata": {},
   "outputs": [],
   "source": [
    "dfc['grade_val'] = dfc.sub_grade.map(grades)"
   ]
  },
  {
   "cell_type": "code",
   "execution_count": null,
   "metadata": {
    "collapsed": true
   },
   "outputs": [],
   "source": []
  },
  {
   "cell_type": "code",
   "execution_count": 14,
   "metadata": {},
   "outputs": [],
   "source": [
    "df_reduce = dfc.copy()\n",
    "del dfc"
   ]
  },
  {
   "cell_type": "code",
   "execution_count": 15,
   "metadata": {},
   "outputs": [
    {
     "name": "stdout",
     "output_type": "stream",
     "text": [
      "<class 'pandas.core.frame.DataFrame'>\n",
      "RangeIndex: 232487 entries, 0 to 232486\n",
      "Data columns (total 35 columns):\n",
      "index                         232487 non-null int64\n",
      "loan_amnt                     232487 non-null float64\n",
      "term                          232487 non-null object\n",
      "int_rate                      232487 non-null float64\n",
      "grade                         232487 non-null object\n",
      "sub_grade                     232487 non-null object\n",
      "emp_title                     232487 non-null object\n",
      "emp_length                    232487 non-null int64\n",
      "home_ownership                232487 non-null object\n",
      "annual_inc                    232487 non-null float64\n",
      "verification_status           232487 non-null object\n",
      "loan_status                   232487 non-null object\n",
      "purpose                       232487 non-null object\n",
      "zip_code                      232487 non-null object\n",
      "addr_state                    232487 non-null object\n",
      "dti                           232487 non-null float64\n",
      "delinq_2yrs                   232487 non-null float64\n",
      "earliest_cr_line              232487 non-null int64\n",
      "inq_last_6mths                232487 non-null float64\n",
      "open_acc                      232487 non-null float64\n",
      "pub_rec                       232487 non-null float64\n",
      "revol_bal                     232487 non-null float64\n",
      "revol_util                    232487 non-null float64\n",
      "initial_list_status           232487 non-null object\n",
      "collections_12_mths_ex_med    232487 non-null float64\n",
      "mort_acc                      232487 non-null float64\n",
      "loan_label                    232487 non-null int64\n",
      "emp_title_flag                232487 non-null int64\n",
      "fico_avg                      232487 non-null float64\n",
      "f_norm_emp_title              232487 non-null object\n",
      "fw_emp_title                  232487 non-null object\n",
      "emp_length_cat                232487 non-null category\n",
      "fw_emp_title_gt0005           232487 non-null object\n",
      "zip_gt001                     232487 non-null object\n",
      "grade_val                     232487 non-null int64\n",
      "dtypes: category(1), float64(13), int64(6), object(15)\n",
      "memory usage: 60.5+ MB\n"
     ]
    }
   ],
   "source": [
    "df_reduce.info()"
   ]
  },
  {
   "cell_type": "markdown",
   "metadata": {},
   "source": [
    "## Prepare Data for Algo"
   ]
  },
  {
   "cell_type": "code",
   "execution_count": 16,
   "metadata": {},
   "outputs": [],
   "source": [
    "from sklearn.linear_model import LogisticRegression\n",
    "from sklearn.model_selection import GridSearchCV\n",
    "from sklearn.model_selection import StratifiedShuffleSplit\n",
    "from sklearn.preprocessing import scale\n",
    "from sklearn.metrics import make_scorer, f1_score, accuracy_score, classification_report, roc_auc_score\n",
    "from sklearn.model_selection import train_test_split"
   ]
  },
  {
   "cell_type": "code",
   "execution_count": 17,
   "metadata": {},
   "outputs": [],
   "source": [
    "def my_scorer(clf, X, y):\n",
    "    y_pred_prob = clf.predict_proba(X)[:,1]\n",
    "    return roc_auc_score(y, y_pred_prob)"
   ]
  },
  {
   "cell_type": "code",
   "execution_count": 18,
   "metadata": {},
   "outputs": [],
   "source": [
    "sss = StratifiedShuffleSplit(n_splits=3, test_size=0.2, random_state=random_state)\n",
    "scoring_function = my_scorer"
   ]
  },
  {
   "cell_type": "markdown",
   "metadata": {},
   "source": [
    "## Logistic Regression Using Ratings"
   ]
  },
  {
   "cell_type": "code",
   "execution_count": 19,
   "metadata": {},
   "outputs": [],
   "source": [
    "logreg = LogisticRegression(penalty='l2', random_state=random_state, n_jobs=n_jobs)"
   ]
  },
  {
   "cell_type": "code",
   "execution_count": 20,
   "metadata": {},
   "outputs": [
    {
     "name": "stdout",
     "output_type": "stream",
     "text": [
      "[  1.00000000e+00   1.00000000e-01   1.00000000e-02   1.00000000e-03\n",
      "   1.00000000e-04   1.00000000e-05   1.00000000e-06   1.00000000e-07]\n"
     ]
    }
   ],
   "source": [
    "C_range = 1.0/np.power(10,np.arange(0,8,1))\n",
    "print C_range\n",
    "parameters=dict(C=C_range)\n",
    "grid_log = GridSearchCV(estimator=logreg, param_grid=parameters, cv=sss, n_jobs=n_jobs, scoring=my_scorer, refit=True)"
   ]
  },
  {
   "cell_type": "code",
   "execution_count": 45,
   "metadata": {},
   "outputs": [
    {
     "data": {
      "text/plain": [
       "Index([u'index', u'loan_amnt', u'term', u'int_rate', u'grade', u'sub_grade', u'emp_title', u'emp_length', u'home_ownership', u'annual_inc', u'verification_status', u'loan_status', u'purpose', u'zip_code', u'addr_state', u'dti', u'delinq_2yrs', u'earliest_cr_line', u'inq_last_6mths', u'open_acc', u'pub_rec', u'revol_bal', u'revol_util', u'initial_list_status', u'collections_12_mths_ex_med', u'mort_acc', u'loan_label', u'emp_title_flag', u'fico_avg', u'f_norm_emp_title', u'fw_emp_title', u'top200_fw_emp_title', u'emp_length_cat', u'grade_val'], dtype='object')"
      ]
     },
     "execution_count": 45,
     "metadata": {},
     "output_type": "execute_result"
    }
   ],
   "source": [
    "df_reduce.columns"
   ]
  },
  {
   "cell_type": "code",
   "execution_count": 57,
   "metadata": {},
   "outputs": [
    {
     "name": "stdout",
     "output_type": "stream",
     "text": [
      "Index([u'grade_val'], dtype='object')\n",
      "3.5504 seconds\n",
      "0.670512978067\n",
      "LogisticRegression(C=1.0, class_weight=None, dual=False, fit_intercept=True,\n",
      "          intercept_scaling=1, max_iter=100, multi_class='ovr', n_jobs=2,\n",
      "          penalty='l2', random_state=401, solver='liblinear', tol=0.0001,\n",
      "          verbose=0, warm_start=False)\n",
      "{'std_train_score': array([ 0.00011207,  0.00011207,  0.00011207,  0.00011207,  0.00011207,\n",
      "        0.00011207,  0.00011207,  0.00011207]), 'rank_test_score': array([1, 1, 1, 1, 1, 1, 1, 1], dtype=int32), 'mean_score_time': array([ 0.01165175,  0.00802461,  0.00882252,  0.00784572,  0.00863258,\n",
      "        0.01134197,  0.02205936,  0.00840267]), 'std_test_score': array([ 0.00045424,  0.00045424,  0.00045424,  0.00045424,  0.00045424,\n",
      "        0.00045424,  0.00045424,  0.00045424]), 'split1_train_score': array([ 0.67065287,  0.67065287,  0.67065287,  0.67065287,  0.67065287,\n",
      "        0.67065287,  0.67065287,  0.67065287]), 'split0_test_score': array([ 0.67004881,  0.67004881,  0.67004881,  0.67004881,  0.67004881,\n",
      "        0.67004881,  0.67004881,  0.67004881]), 'mean_test_score': array([ 0.67051298,  0.67051298,  0.67051298,  0.67051298,  0.67051298,\n",
      "        0.67051298,  0.67051298,  0.67051298]), 'param_C': masked_array(data = [1.0 0.10000000000000001 0.01 0.001 0.0001 1.0000000000000001e-05\n",
      " 9.9999999999999995e-07 9.9999999999999995e-08],\n",
      "             mask = [False False False False False False False False],\n",
      "       fill_value = ?)\n",
      ", 'split2_train_score': array([ 0.67084382,  0.67084382,  0.67084382,  0.67084382,  0.67084382,\n",
      "        0.67084382,  0.67084382,  0.67084382]), 'split0_train_score': array([ 0.67091914,  0.67091914,  0.67091914,  0.67091914,  0.67091914,\n",
      "        0.67091914,  0.67091914,  0.67091914]), 'params': ({'C': 1.0}, {'C': 0.10000000000000001}, {'C': 0.01}, {'C': 0.001}, {'C': 0.0001}, {'C': 1.0000000000000001e-05}, {'C': 9.9999999999999995e-07}, {'C': 9.9999999999999995e-08}), 'std_fit_time': array([ 0.05342549,  0.01008702,  0.01171355,  0.01788686,  0.01294346,\n",
      "        0.00185015,  0.06667711,  0.00247257]), 'std_score_time': array([ 0.00318694,  0.00086122,  0.00094285,  0.00059512,  0.00160789,\n",
      "        0.00077265,  0.02079392,  0.00058652]), 'split2_test_score': array([ 0.67036048,  0.67036048,  0.67036048,  0.67036048,  0.67036048,\n",
      "        0.67036048,  0.67036048,  0.67036048]), 'mean_train_score': array([ 0.67080528,  0.67080528,  0.67080528,  0.67080528,  0.67080528,\n",
      "        0.67080528,  0.67080528,  0.67080528]), 'mean_fit_time': array([ 0.18386062,  0.20335333,  0.19902436,  0.18853132,  0.19073208,\n",
      "        0.15315167,  0.22900605,  0.11862572]), 'split1_test_score': array([ 0.67112965,  0.67112965,  0.67112965,  0.67112965,  0.67112965,\n",
      "        0.67112965,  0.67112965,  0.67112965])}\n",
      "0.668346893703\n"
     ]
    }
   ],
   "source": [
    "features = ['grade_val']\n",
    "target = ['loan_label']\n",
    "\n",
    "X=df_reduce[features]\n",
    "col = X.columns\n",
    "print col\n",
    "X = pd.get_dummies(X)\n",
    "X = scale(X)\n",
    "y=df_reduce[target].values.ravel()\n",
    "\n",
    "X_train, X_test, y_train, y_test = train_test_split(X, y,  stratify=y, test_size=.3, random_state=random_state)\n",
    "start = time()\n",
    "grid_log.fit(X_train,y_train)\n",
    "end = time()\n",
    "print \"{:.4f} seconds\".format(end - start)\n",
    "print grid_log.best_score_\n",
    "print grid_log.best_estimator_\n",
    "print grid_log.cv_results_\n",
    "y_pred_prob = grid_log.predict_proba(X_test)[:,1]\n",
    "\n",
    "print roc_auc_score(y_test, y_pred_prob)"
   ]
  },
  {
   "cell_type": "code",
   "execution_count": 75,
   "metadata": {},
   "outputs": [
    {
     "data": {
      "text/plain": [
       "array([<matplotlib.axes._subplots.AxesSubplot object at 0x11b744610>,\n",
       "       <matplotlib.axes._subplots.AxesSubplot object at 0x118baef90>], dtype=object)"
      ]
     },
     "execution_count": 75,
     "metadata": {},
     "output_type": "execute_result"
    },
    {
     "data": {
      "image/png": "[encoded data removed]",
      "text/plain": [
       "<matplotlib.figure.Figure at 0x11b744050>"
      ]
     },
     "metadata": {},
     "output_type": "display_data"
    }
   ],
   "source": [
    "# histogram of predicted probabilities grouped by actual response value\n",
    "df = pd.DataFrame(data = {'probability':y_pred_prob, 'actual':y_test})\n",
    "df.probability.hist(by=df.actual, sharex=True, sharey=True)"
   ]
  },
  {
   "cell_type": "code",
   "execution_count": 73,
   "metadata": {},
   "outputs": [
    {
     "data": {
      "text/plain": [
       "<matplotlib.text.Text at 0x11b745690>"
      ]
     },
     "execution_count": 73,
     "metadata": {},
     "output_type": "execute_result"
    },
    {
     "data": {
      "image/png": "[encoded data removed]",
      "text/plain": [
       "<matplotlib.figure.Figure at 0x11b2b2cd0>"
      ]
     },
     "metadata": {},
     "output_type": "display_data"
    }
   ],
   "source": [
    "# plot ROC curve\n",
    "from sklearn.metrics import roc_curve\n",
    "fpr, tpr, thresholds = roc_curve(y_test, y_pred_prob)\n",
    "plt.plot(fpr, tpr)\n",
    "plt.xlim([0.0, 1.0])\n",
    "plt.ylim([0.0, 1.0])\n",
    "plt.xlabel('False Positive Rate (1 - Specificity)')\n",
    "plt.ylabel('True Positive Rate (Sensitivity)')"
   ]
  },
  {
   "cell_type": "markdown",
   "metadata": {},
   "source": [
    "# Logistic Regression Let's Use Everything Else But Ratings"
   ]
  },
  {
   "cell_type": "markdown",
   "metadata": {},
   "source": [
    "### Run with emp_length as continuous"
   ]
  },
  {
   "cell_type": "code",
   "execution_count": 14,
   "metadata": {},
   "outputs": [
    {
     "data": {
      "text/plain": [
       "Index([u'index', u'loan_amnt', u'term', u'int_rate', u'grade', u'sub_grade', u'emp_title', u'emp_length', u'home_ownership', u'annual_inc', u'verification_status', u'loan_status', u'purpose', u'zip_code', u'addr_state', u'dti', u'delinq_2yrs', u'earliest_cr_line', u'inq_last_6mths', u'open_acc', u'pub_rec', u'revol_bal', u'revol_util', u'initial_list_status', u'collections_12_mths_ex_med', u'mort_acc', u'loan_label', u'emp_title_flag', u'fico_avg', u'f_norm_emp_title', u'fw_emp_title', u'emp_length_cat', u'fw_emp_title_gt0005', u'zip_gt001'], dtype='object')"
      ]
     },
     "execution_count": 14,
     "metadata": {},
     "output_type": "execute_result"
    }
   ],
   "source": [
    "df_reduce.columns"
   ]
  },
  {
   "cell_type": "code",
   "execution_count": 16,
   "metadata": {},
   "outputs": [
    {
     "name": "stdout",
     "output_type": "stream",
     "text": [
      "Index([u'loan_amnt', u'term', u'int_rate', u'emp_length', u'home_ownership',\n",
      "       u'annual_inc', u'verification_status', u'purpose', u'dti',\n",
      "       u'delinq_2yrs', u'earliest_cr_line', u'inq_last_6mths', u'open_acc',\n",
      "       u'pub_rec', u'revol_bal', u'revol_util', u'initial_list_status',\n",
      "       u'collections_12_mths_ex_med', u'mort_acc', u'emp_title_flag',\n",
      "       u'fico_avg'],\n",
      "      dtype='object')\n"
     ]
    }
   ],
   "source": [
    "features = [u'loan_amnt', 'term', 'int_rate', 'emp_length', #'emp_title', \n",
    "            u'home_ownership', u'annual_inc',u'verification_status', u'purpose', \n",
    "            #u'zip_code',#u'addr_state', \n",
    "            u'dti', u'delinq_2yrs', u'earliest_cr_line', u'inq_last_6mths', u'open_acc', u'pub_rec', u'revol_bal', \n",
    "            u'revol_util', u'initial_list_status', u'collections_12_mths_ex_med', u'mort_acc',u'emp_title_flag',  \n",
    "            u'fico_avg']\n",
    "\n",
    "target = ['loan_label']\n",
    "\n",
    "X=df_reduce[features]\n",
    "print X.columns\n",
    "X = pd.get_dummies(X)\n",
    "#col = X.columns\n",
    "print X.shape\n",
    "X = scale(X)\n",
    "y=df_reduce[target].values.ravel()\n",
    "\n",
    "X_train, X_test, y_train, y_test = train_test_split(X, y,  stratify=y, test_size=.3, random_state=random_state)"
   ]
  },
  {
   "cell_type": "code",
   "execution_count": 17,
   "metadata": {},
   "outputs": [
    {
     "data": {
      "text/plain": [
       "(162740, 39)"
      ]
     },
     "execution_count": 17,
     "metadata": {},
     "output_type": "execute_result"
    }
   ],
   "source": [
    "X_train.shape"
   ]
  },
  {
   "cell_type": "code",
   "execution_count": 21,
   "metadata": {},
   "outputs": [
    {
     "name": "stdout",
     "output_type": "stream",
     "text": [
      "10.5715 seconds\n",
      "0.688885708437\n",
      "LogisticRegression(C=1.0, class_weight=None, dual=False, fit_intercept=True,\n",
      "          intercept_scaling=1, max_iter=100, multi_class='ovr', n_jobs=-1,\n",
      "          penalty='l2', random_state=401, solver='liblinear', tol=0.0001,\n",
      "          verbose=0, warm_start=False)\n"
     ]
    },
    {
     "data": {
      "text/plain": [
       "{'mean_fit_time': array([ 4.13636613,  4.71101737,  3.79354636,  3.02300064,  2.36839835,\n",
       "         1.29767036,  0.91975005,  0.69206262]),\n",
       " 'mean_score_time': array([ 0.05579066,  0.05880729,  0.06394704,  0.02731768,  0.0240976 ,\n",
       "         0.02514426,  0.02177866,  0.01631999]),\n",
       " 'mean_test_score': array([ 0.68888571,  0.68888418,  0.68887506,  0.68865119,  0.68608079,\n",
       "         0.67941793,  0.67568833,  0.67512025]),\n",
       " 'mean_train_score': array([ 0.6906716 ,  0.69066985,  0.69065155,  0.69037541,  0.68766157,\n",
       "         0.68046039,  0.67634919,  0.67571606]),\n",
       " 'param_C': masked_array(data = [1.0 0.10000000000000001 0.01 0.001 0.0001 1.0000000000000001e-05\n",
       "  9.9999999999999995e-07 9.9999999999999995e-08],\n",
       "              mask = [False False False False False False False False],\n",
       "        fill_value = ?),\n",
       " 'params': ({'C': 1.0},\n",
       "  {'C': 0.10000000000000001},\n",
       "  {'C': 0.01},\n",
       "  {'C': 0.001},\n",
       "  {'C': 0.0001},\n",
       "  {'C': 1.0000000000000001e-05},\n",
       "  {'C': 9.9999999999999995e-07},\n",
       "  {'C': 9.9999999999999995e-08}),\n",
       " 'rank_test_score': array([1, 2, 3, 4, 5, 6, 7, 8], dtype=int32),\n",
       " 'split0_test_score': array([ 0.69048778,  0.69048667,  0.69048552,  0.69028944,  0.68782105,\n",
       "         0.68134042,  0.67774412,  0.67720589]),\n",
       " 'split0_train_score': array([ 0.69020931,  0.69020745,  0.69018673,  0.68989564,  0.68720567,\n",
       "         0.68025389,  0.67630517,  0.67569764]),\n",
       " 'split1_test_score': array([ 0.68837337,  0.68837266,  0.68836646,  0.68819326,  0.68574033,\n",
       "         0.67913263,  0.67543263,  0.67487182]),\n",
       " 'split1_train_score': array([ 0.69077596,  0.69077467,  0.69075902,  0.69050215,  0.68776736,\n",
       "         0.68039447,  0.67618139,  0.67553288]),\n",
       " 'split2_test_score': array([ 0.68779598,  0.6877932 ,  0.6877732 ,  0.68747086,  0.68468098,\n",
       "         0.67778073,  0.67388825,  0.67328304]),\n",
       " 'split2_train_score': array([ 0.69102954,  0.69102742,  0.69100889,  0.69072845,  0.68801168,\n",
       "         0.6807328 ,  0.67656102,  0.67591768]),\n",
       " 'std_fit_time': array([ 0.24304071,  0.02464302,  0.01771434,  0.09609   ,  0.09263539,\n",
       "         0.20412023,  0.01671875,  0.05242725]),\n",
       " 'std_score_time': array([ 0.01012904,  0.01644066,  0.03828296,  0.00612512,  0.00219737,\n",
       "         0.00060715,  0.00156757,  0.00045921]),\n",
       " 'std_test_score': array([ 0.0011571 ,  0.00115757,  0.00116424,  0.00119537,  0.00130433,\n",
       "         0.00146717,  0.0015845 ,  0.0016111 ]),\n",
       " 'std_train_score': array([ 0.00034289,  0.00034286,  0.00034414,  0.00035161,  0.00033745,\n",
       "         0.000201  ,  0.00015808,  0.00015764])}"
      ]
     },
     "execution_count": 21,
     "metadata": {},
     "output_type": "execute_result"
    }
   ],
   "source": [
    "start = time()\n",
    "grid_log.fit(X_train,y_train)\n",
    "end = time()\n",
    "print \"{:.4f} seconds\".format(end - start)\n",
    "print grid_log.best_score_\n",
    "print grid_log.best_estimator_\n",
    "grid_log.cv_results_"
   ]
  },
  {
   "cell_type": "code",
   "execution_count": 22,
   "metadata": {},
   "outputs": [
    {
     "data": {
      "text/plain": [
       "0.68783843569982017"
      ]
     },
     "execution_count": 22,
     "metadata": {},
     "output_type": "execute_result"
    }
   ],
   "source": [
    "y_pred_prob = grid_log.predict_proba(X_test)[:,1]\n",
    "#print zip(list(col),logreg.coef_[0])\n",
    "roc_auc_score(y_test, y_pred_prob)"
   ]
  },
  {
   "cell_type": "markdown",
   "metadata": {},
   "source": [
    "### Emp_length as Categorical"
   ]
  },
  {
   "cell_type": "code",
   "execution_count": 34,
   "metadata": {},
   "outputs": [
    {
     "data": {
      "text/plain": [
       "Index([u'index', u'loan_amnt', u'term', u'int_rate', u'grade', u'sub_grade',\n",
       "       u'emp_title', u'emp_length', u'home_ownership', u'annual_inc',\n",
       "       u'verification_status', u'loan_status', u'purpose', u'zip_code',\n",
       "       u'addr_state', u'dti', u'delinq_2yrs', u'earliest_cr_line',\n",
       "       u'inq_last_6mths', u'open_acc', u'pub_rec', u'revol_bal', u'revol_util',\n",
       "       u'initial_list_status', u'collections_12_mths_ex_med', u'mort_acc',\n",
       "       u'loan_label', u'emp_title_flag', u'fico_avg', u'f_norm_emp_title',\n",
       "       u'fw_emp_title', u'emp_length_cat'],\n",
       "      dtype='object')"
      ]
     },
     "execution_count": 34,
     "metadata": {},
     "output_type": "execute_result"
    }
   ],
   "source": [
    "df_reduce.columns"
   ]
  },
  {
   "cell_type": "code",
   "execution_count": 39,
   "metadata": {},
   "outputs": [],
   "source": [
    "#X=df_reduce[features]\n",
    "#print X.columns\n",
    "X = pd.get_dummies(X)"
   ]
  },
  {
   "cell_type": "code",
   "execution_count": null,
   "metadata": {
    "collapsed": true
   },
   "outputs": [],
   "source": [
    "#0.688128783414"
   ]
  },
  {
   "cell_type": "code",
   "execution_count": 97,
   "metadata": {},
   "outputs": [
    {
     "name": "stdout",
     "output_type": "stream",
     "text": [
      "Index([u'loan_amnt', u'term', u'int_rate', u'home_ownership', u'annual_inc', u'verification_status', u'purpose', u'dti', u'delinq_2yrs', u'earliest_cr_line', u'inq_last_6mths', u'open_acc', u'pub_rec', u'revol_bal', u'revol_util', u'initial_list_status', u'collections_12_mths_ex_med', u'mort_acc', u'emp_title_flag', u'fico_avg', u'emp_length_cat'], dtype='object')\n",
      "(232487, 49)\n",
      "(162740, 49)\n",
      "13.9994 seconds\n",
      "0.689225677901\n",
      "LogisticRegression(C=1.0, class_weight=None, dual=False, fit_intercept=True,\n",
      "          intercept_scaling=1, max_iter=100, multi_class='ovr', n_jobs=4,\n",
      "          penalty='l2', random_state=401, solver='liblinear', tol=0.0001,\n",
      "          verbose=0, warm_start=False)\n",
      "{'std_train_score': array([ 0.00032359,  0.00032358,  0.00032413,  0.00033424,  0.00032347,\n",
      "        0.00016741,  0.00012725,  0.00012916]), 'rank_test_score': array([1, 2, 3, 4, 5, 6, 7, 8], dtype=int32), 'mean_score_time': array([ 0.02640891,  0.03433069,  0.0208323 ,  0.01900705,  0.03239401,\n",
      "        0.02123006,  0.02079097,  0.01837635]), 'std_test_score': array([ 0.00108141,  0.0010836 ,  0.0010952 ,  0.00117401,  0.00129206,\n",
      "        0.00144503,  0.00155427,  0.00156709]), 'split1_train_score': array([ 0.69102241,  0.69102087,  0.69100683,  0.69075699,  0.68801949,\n",
      "        0.68063731,  0.67647077,  0.67583681]), 'split0_test_score': array([ 0.69073458,  0.69073765,  0.69074701,  0.69064224,  0.68819024,\n",
      "        0.68169386,  0.67813067,  0.67758585]), 'mean_test_score': array([ 0.68922568,  0.6892256 ,  0.68921784,  0.689002  ,  0.68641379,\n",
      "        0.67972687,  0.67603214,  0.67547572]), 'param_C': masked_array(data = [1.0 0.10000000000000001 0.01 0.001 0.0001 1.0000000000000001e-05\n",
      " 9.9999999999999995e-07 9.9999999999999995e-08],\n",
      "             mask = [False False False False False False False False],\n",
      "       fill_value = ?)\n",
      ", 'split2_train_score': array([ 0.69125204,  0.69125043,  0.69123026,  0.69094073,  0.68821326,\n",
      "        0.68091745,  0.67678227,  0.67615184]), 'split0_train_score': array([ 0.69048022,  0.69047865,  0.69045875,  0.69015792,  0.68745103,\n",
      "        0.68051804,  0.67661689,  0.6760196 ]), 'params': ({'C': 1.0}, {'C': 0.10000000000000001}, {'C': 0.01}, {'C': 0.001}, {'C': 0.0001}, {'C': 1.0000000000000001e-05}, {'C': 9.9999999999999995e-07}, {'C': 9.9999999999999995e-08}), 'std_fit_time': array([ 0.25725811,  0.18145684,  0.05420399,  0.03935194,  0.02911739,\n",
      "        0.03022222,  0.01632826,  0.0317533 ]), 'std_score_time': array([ 0.00076469,  0.01635659,  0.00074271,  0.00073349,  0.01453553,\n",
      "        0.00122872,  0.00076491,  0.00123788]), 'split2_test_score': array([ 0.68825539,  0.68825379,  0.68824007,  0.68795905,  0.68515504,\n",
      "        0.67826337,  0.67441651,  0.673834  ]), 'mean_train_score': array([ 0.69091822,  0.69091665,  0.69089862,  0.69061854,  0.68789459,\n",
      "        0.68069094,  0.67662331,  0.67600275]), 'mean_fit_time': array([ 3.24636134,  2.90906366,  2.58161394,  2.08575002,  1.409355  ,\n",
      "        0.90547554,  0.68391474,  0.55211639]), 'split1_test_score': array([ 0.68868706,  0.68868537,  0.68866645,  0.68840469,  0.6858961 ,\n",
      "        0.67922337,  0.67554923,  0.67500732])}\n",
      "0.688128783414\n"
     ]
    }
   ],
   "source": [
    "features = [u'loan_amnt', 'term', 'int_rate', #'emp_length', 'emp_title', \n",
    "            u'home_ownership', u'annual_inc',u'verification_status', u'purpose', \n",
    "            #u'zip_code',#u'addr_state', \n",
    "            u'dti', u'delinq_2yrs', u'earliest_cr_line', u'inq_last_6mths', u'open_acc', u'pub_rec', u'revol_bal', \n",
    "            u'revol_util', u'initial_list_status', u'collections_12_mths_ex_med', u'mort_acc',u'emp_title_flag',  \n",
    "            u'fico_avg', #'fw_emp_title', \n",
    "            'emp_length_cat'\n",
    "           ]\n",
    "\n",
    "target = ['loan_label']\n",
    "\n",
    "X=df_reduce[features]\n",
    "print X.columns\n",
    "X = pd.get_dummies(X)\n",
    "col = X.columns\n",
    "print X.shape\n",
    "X = scale(X)\n",
    "y=df_reduce[target].values.ravel()\n",
    "print X_train.shape\n",
    "\n",
    "X_train, X_test, y_train, y_test = train_test_split(X, y,  stratify=y, test_size=.3, random_state=random_state)\n",
    "start = time()\n",
    "grid_log.fit(X_train,y_train)\n",
    "end = time()\n",
    "print \"{:.4f} seconds\".format(end - start)\n",
    "print grid_log.best_score_\n",
    "print grid_log.best_estimator_\n",
    "print grid_log.cv_results_\n",
    "y_pred_prob = grid_log.predict_proba(X_test)[:,1]\n",
    "\n",
    "print roc_auc_score(y_test, y_pred_prob)"
   ]
  },
  {
   "cell_type": "code",
   "execution_count": 105,
   "metadata": {},
   "outputs": [],
   "source": [
    "t = pd.DataFrame(zip(col, logreg.coef_[0]), columns=['features','coef'])"
   ]
  },
  {
   "cell_type": "code",
   "execution_count": 109,
   "metadata": {},
   "outputs": [
    {
     "data": {
      "text/html": [
       "<div>\n",
       "<table border=\"1\" class=\"dataframe\">\n",
       "  <thead>\n",
       "    <tr style=\"text-align: right;\">\n",
       "      <th></th>\n",
       "      <th>features</th>\n",
       "      <th>coef</th>\n",
       "    </tr>\n",
       "  </thead>\n",
       "  <tbody>\n",
       "    <tr>\n",
       "      <th>1</th>\n",
       "      <td>int_rate</td>\n",
       "      <td>0.527440</td>\n",
       "    </tr>\n",
       "    <tr>\n",
       "      <th>14</th>\n",
       "      <td>fico_avg</td>\n",
       "      <td>0.120422</td>\n",
       "    </tr>\n",
       "    <tr>\n",
       "      <th>3</th>\n",
       "      <td>dti</td>\n",
       "      <td>0.115545</td>\n",
       "    </tr>\n",
       "    <tr>\n",
       "      <th>9</th>\n",
       "      <td>revol_bal</td>\n",
       "      <td>0.111762</td>\n",
       "    </tr>\n",
       "    <tr>\n",
       "      <th>0</th>\n",
       "      <td>loan_amnt</td>\n",
       "      <td>0.107061</td>\n",
       "    </tr>\n",
       "    <tr>\n",
       "      <th>2</th>\n",
       "      <td>annual_inc</td>\n",
       "      <td>0.097826</td>\n",
       "    </tr>\n",
       "    <tr>\n",
       "      <th>13</th>\n",
       "      <td>emp_title_flag</td>\n",
       "      <td>0.083437</td>\n",
       "    </tr>\n",
       "    <tr>\n",
       "      <th>6</th>\n",
       "      <td>inq_last_6mths</td>\n",
       "      <td>0.080175</td>\n",
       "    </tr>\n",
       "    <tr>\n",
       "      <th>5</th>\n",
       "      <td>earliest_cr_line</td>\n",
       "      <td>0.066428</td>\n",
       "    </tr>\n",
       "    <tr>\n",
       "      <th>12</th>\n",
       "      <td>mort_acc</td>\n",
       "      <td>0.055585</td>\n",
       "    </tr>\n",
       "    <tr>\n",
       "      <th>19</th>\n",
       "      <td>home_ownership_RENT</td>\n",
       "      <td>0.050605</td>\n",
       "    </tr>\n",
       "    <tr>\n",
       "      <th>17</th>\n",
       "      <td>home_ownership_MORTGAGE</td>\n",
       "      <td>0.048962</td>\n",
       "    </tr>\n",
       "    <tr>\n",
       "      <th>8</th>\n",
       "      <td>pub_rec</td>\n",
       "      <td>0.034761</td>\n",
       "    </tr>\n",
       "    <tr>\n",
       "      <th>7</th>\n",
       "      <td>open_acc</td>\n",
       "      <td>0.033608</td>\n",
       "    </tr>\n",
       "    <tr>\n",
       "      <th>35</th>\n",
       "      <td>purpose_wedding</td>\n",
       "      <td>0.031137</td>\n",
       "    </tr>\n",
       "    <tr>\n",
       "      <th>48</th>\n",
       "      <td>emp_length_cat_10</td>\n",
       "      <td>0.030838</td>\n",
       "    </tr>\n",
       "    <tr>\n",
       "      <th>39</th>\n",
       "      <td>emp_length_cat_1</td>\n",
       "      <td>0.030308</td>\n",
       "    </tr>\n",
       "    <tr>\n",
       "      <th>10</th>\n",
       "      <td>revol_util</td>\n",
       "      <td>0.029249</td>\n",
       "    </tr>\n",
       "    <tr>\n",
       "      <th>21</th>\n",
       "      <td>verification_status_Source Verified</td>\n",
       "      <td>0.026702</td>\n",
       "    </tr>\n",
       "    <tr>\n",
       "      <th>20</th>\n",
       "      <td>verification_status_Not Verified</td>\n",
       "      <td>0.026620</td>\n",
       "    </tr>\n",
       "    <tr>\n",
       "      <th>23</th>\n",
       "      <td>purpose_car</td>\n",
       "      <td>0.025739</td>\n",
       "    </tr>\n",
       "    <tr>\n",
       "      <th>15</th>\n",
       "      <td>term_ 36 months</td>\n",
       "      <td>0.024169</td>\n",
       "    </tr>\n",
       "    <tr>\n",
       "      <th>16</th>\n",
       "      <td>term_ 60 months</td>\n",
       "      <td>0.024169</td>\n",
       "    </tr>\n",
       "    <tr>\n",
       "      <th>31</th>\n",
       "      <td>purpose_other</td>\n",
       "      <td>0.023409</td>\n",
       "    </tr>\n",
       "    <tr>\n",
       "      <th>47</th>\n",
       "      <td>emp_length_cat_9</td>\n",
       "      <td>0.018024</td>\n",
       "    </tr>\n",
       "    <tr>\n",
       "      <th>25</th>\n",
       "      <td>purpose_debt_consolidation</td>\n",
       "      <td>0.015280</td>\n",
       "    </tr>\n",
       "    <tr>\n",
       "      <th>4</th>\n",
       "      <td>delinq_2yrs</td>\n",
       "      <td>0.014875</td>\n",
       "    </tr>\n",
       "    <tr>\n",
       "      <th>33</th>\n",
       "      <td>purpose_small_business</td>\n",
       "      <td>0.012876</td>\n",
       "    </tr>\n",
       "    <tr>\n",
       "      <th>46</th>\n",
       "      <td>emp_length_cat_8</td>\n",
       "      <td>0.012188</td>\n",
       "    </tr>\n",
       "    <tr>\n",
       "      <th>27</th>\n",
       "      <td>purpose_house</td>\n",
       "      <td>0.011125</td>\n",
       "    </tr>\n",
       "    <tr>\n",
       "      <th>42</th>\n",
       "      <td>emp_length_cat_4</td>\n",
       "      <td>0.008800</td>\n",
       "    </tr>\n",
       "    <tr>\n",
       "      <th>44</th>\n",
       "      <td>emp_length_cat_6</td>\n",
       "      <td>0.007796</td>\n",
       "    </tr>\n",
       "    <tr>\n",
       "      <th>38</th>\n",
       "      <td>emp_length_cat_0</td>\n",
       "      <td>0.007541</td>\n",
       "    </tr>\n",
       "    <tr>\n",
       "      <th>45</th>\n",
       "      <td>emp_length_cat_7</td>\n",
       "      <td>0.006183</td>\n",
       "    </tr>\n",
       "    <tr>\n",
       "      <th>30</th>\n",
       "      <td>purpose_moving</td>\n",
       "      <td>0.005001</td>\n",
       "    </tr>\n",
       "    <tr>\n",
       "      <th>36</th>\n",
       "      <td>initial_list_status_f</td>\n",
       "      <td>0.004832</td>\n",
       "    </tr>\n",
       "    <tr>\n",
       "      <th>37</th>\n",
       "      <td>initial_list_status_w</td>\n",
       "      <td>0.004832</td>\n",
       "    </tr>\n",
       "    <tr>\n",
       "      <th>34</th>\n",
       "      <td>purpose_vacation</td>\n",
       "      <td>0.004651</td>\n",
       "    </tr>\n",
       "    <tr>\n",
       "      <th>26</th>\n",
       "      <td>purpose_home_improvement</td>\n",
       "      <td>0.004168</td>\n",
       "    </tr>\n",
       "    <tr>\n",
       "      <th>40</th>\n",
       "      <td>emp_length_cat_2</td>\n",
       "      <td>0.003460</td>\n",
       "    </tr>\n",
       "    <tr>\n",
       "      <th>24</th>\n",
       "      <td>purpose_credit_card</td>\n",
       "      <td>0.003310</td>\n",
       "    </tr>\n",
       "    <tr>\n",
       "      <th>41</th>\n",
       "      <td>emp_length_cat_3</td>\n",
       "      <td>0.002820</td>\n",
       "    </tr>\n",
       "    <tr>\n",
       "      <th>28</th>\n",
       "      <td>purpose_major_purchase</td>\n",
       "      <td>0.002790</td>\n",
       "    </tr>\n",
       "    <tr>\n",
       "      <th>29</th>\n",
       "      <td>purpose_medical</td>\n",
       "      <td>0.002681</td>\n",
       "    </tr>\n",
       "    <tr>\n",
       "      <th>22</th>\n",
       "      <td>verification_status_Verified</td>\n",
       "      <td>0.002097</td>\n",
       "    </tr>\n",
       "    <tr>\n",
       "      <th>43</th>\n",
       "      <td>emp_length_cat_5</td>\n",
       "      <td>0.001694</td>\n",
       "    </tr>\n",
       "    <tr>\n",
       "      <th>32</th>\n",
       "      <td>purpose_renewable_energy</td>\n",
       "      <td>0.000969</td>\n",
       "    </tr>\n",
       "    <tr>\n",
       "      <th>18</th>\n",
       "      <td>home_ownership_OWN</td>\n",
       "      <td>0.000803</td>\n",
       "    </tr>\n",
       "    <tr>\n",
       "      <th>11</th>\n",
       "      <td>collections_12_mths_ex_med</td>\n",
       "      <td>0.000581</td>\n",
       "    </tr>\n",
       "  </tbody>\n",
       "</table>\n",
       "</div>"
      ],
      "text/plain": [
       "                               features      coef\n",
       "1                              int_rate  0.527440\n",
       "14                             fico_avg  0.120422\n",
       "3                                   dti  0.115545\n",
       "9                             revol_bal  0.111762\n",
       "0                             loan_amnt  0.107061\n",
       "2                            annual_inc  0.097826\n",
       "13                       emp_title_flag  0.083437\n",
       "6                        inq_last_6mths  0.080175\n",
       "5                      earliest_cr_line  0.066428\n",
       "12                             mort_acc  0.055585\n",
       "19                  home_ownership_RENT  0.050605\n",
       "17              home_ownership_MORTGAGE  0.048962\n",
       "8                               pub_rec  0.034761\n",
       "7                              open_acc  0.033608\n",
       "35                      purpose_wedding  0.031137\n",
       "48                    emp_length_cat_10  0.030838\n",
       "39                     emp_length_cat_1  0.030308\n",
       "10                           revol_util  0.029249\n",
       "21  verification_status_Source Verified  0.026702\n",
       "20     verification_status_Not Verified  0.026620\n",
       "23                          purpose_car  0.025739\n",
       "15                      term_ 36 months  0.024169\n",
       "16                      term_ 60 months  0.024169\n",
       "31                        purpose_other  0.023409\n",
       "47                     emp_length_cat_9  0.018024\n",
       "25           purpose_debt_consolidation  0.015280\n",
       "4                           delinq_2yrs  0.014875\n",
       "33               purpose_small_business  0.012876\n",
       "46                     emp_length_cat_8  0.012188\n",
       "27                        purpose_house  0.011125\n",
       "42                     emp_length_cat_4  0.008800\n",
       "44                     emp_length_cat_6  0.007796\n",
       "38                     emp_length_cat_0  0.007541\n",
       "45                     emp_length_cat_7  0.006183\n",
       "30                       purpose_moving  0.005001\n",
       "36                initial_list_status_f  0.004832\n",
       "37                initial_list_status_w  0.004832\n",
       "34                     purpose_vacation  0.004651\n",
       "26             purpose_home_improvement  0.004168\n",
       "40                     emp_length_cat_2  0.003460\n",
       "24                  purpose_credit_card  0.003310\n",
       "41                     emp_length_cat_3  0.002820\n",
       "28               purpose_major_purchase  0.002790\n",
       "29                      purpose_medical  0.002681\n",
       "22         verification_status_Verified  0.002097\n",
       "43                     emp_length_cat_5  0.001694\n",
       "32             purpose_renewable_energy  0.000969\n",
       "18                   home_ownership_OWN  0.000803\n",
       "11           collections_12_mths_ex_med  0.000581"
      ]
     },
     "execution_count": 109,
     "metadata": {},
     "output_type": "execute_result"
    }
   ],
   "source": [
    "t['coef']=abs(t.coef)\n",
    "t.sort_values(by='coef', ascending=False)"
   ]
  },
  {
   "cell_type": "markdown",
   "metadata": {},
   "source": [
    "## Conclusion: Emp Title as a Categorical Feature Improves AUC even with penalization Now Let's Run Without Modified Zip Code"
   ]
  },
  {
   "cell_type": "code",
   "execution_count": 20,
   "metadata": {
    "collapsed": true
   },
   "outputs": [],
   "source": [
    "### Include Zipcode"
   ]
  },
  {
   "cell_type": "code",
   "execution_count": 19,
   "metadata": {},
   "outputs": [
    {
     "name": "stdout",
     "output_type": "stream",
     "text": [
      "Index([u'loan_amnt', u'term', u'int_rate', u'home_ownership', u'annual_inc',\n",
      "       u'verification_status', u'purpose', u'zip_code', u'dti', u'delinq_2yrs',\n",
      "       u'earliest_cr_line', u'inq_last_6mths', u'open_acc', u'pub_rec',\n",
      "       u'revol_bal', u'revol_util', u'initial_list_status',\n",
      "       u'collections_12_mths_ex_med', u'mort_acc', u'emp_title_flag',\n",
      "       u'fico_avg', u'emp_length_cat'],\n",
      "      dtype='object')\n",
      "(232487, 914)\n",
      "379.7363 seconds\n",
      "0.680685641615\n",
      "LogisticRegression(C=0.0001, class_weight=None, dual=False,\n",
      "          fit_intercept=True, intercept_scaling=1, max_iter=100,\n",
      "          multi_class='ovr', n_jobs=4, penalty='l2', random_state=401,\n",
      "          solver='liblinear', tol=0.0001, verbose=0, warm_start=False)\n",
      "{'std_train_score': array([  1.78785878e-04,   1.78789624e-04,   1.79308121e-04,\n",
      "         1.80403992e-04,   1.54640918e-04,   8.09386065e-05,\n",
      "         1.78055455e-04,   1.90797393e-04]), 'rank_test_score': array([5, 4, 3, 2, 1, 6, 7, 8], dtype=int32), 'mean_score_time': array([ 1.15973973,  0.80228837,  0.89725169,  0.63263575,  0.56865692,\n",
      "        0.68806775,  0.32764101,  0.05069137]), 'std_test_score': array([ 0.00083745,  0.0008386 ,  0.00084888,  0.00082708,  0.00080402,\n",
      "        0.00108741,  0.00127858,  0.00131028]), 'split1_train_score': array([ 0.705174  ,  0.70517405,  0.70517059,  0.70492991,  0.70177126,\n",
      "        0.69216124,  0.686531  ,  0.68567107]), 'split0_test_score': array([ 0.68071954,  0.68073212,  0.68085474,  0.68154813,  0.6817998 ,\n",
      "        0.6790319 ,  0.67699603,  0.67665557]), 'mean_test_score': array([ 0.67953578,  0.67954668,  0.67965483,  0.68037852,  0.68068564,\n",
      "        0.67761415,  0.67536514,  0.67498873]), 'param_C': masked_array(data = [1.0 0.10000000000000001 0.01 0.001 0.0001 1.0000000000000001e-05\n",
      " 9.9999999999999995e-07 9.9999999999999995e-08],\n",
      "             mask = [False False False False False False False False],\n",
      "       fill_value = ?)\n",
      ", 'split2_train_score': array([ 0.70532406,  0.70532301,  0.70530868,  0.70500944,  0.70178239,\n",
      "        0.69235423,  0.68686675,  0.68602142]), 'split0_train_score': array([ 0.70489273,  0.70489187,  0.70487856,  0.70459323,  0.70144893,\n",
      "        0.69229705,  0.68693996,  0.68611413]), 'params': ({'C': 1.0}, {'C': 0.10000000000000001}, {'C': 0.01}, {'C': 0.001}, {'C': 0.0001}, {'C': 1.0000000000000001e-05}, {'C': 9.9999999999999995e-07}, {'C': 9.9999999999999995e-08}), 'std_fit_time': array([  3.97431089,   7.32787626,  12.00915939,   8.65127102,\n",
      "         1.24059501,  19.67506528,  19.52225556,   0.3507261 ]), 'std_score_time': array([ 0.42737581,  0.15790095,  0.41110492,  0.24438072,  0.23206762,\n",
      "        0.33058988,  0.25759468,  0.002677  ]), 'split2_test_score': array([ 0.67897558,  0.67898427,  0.67908743,  0.67980403,  0.67993197,\n",
      "        0.67638933,  0.67387345,  0.67345424]), 'mean_train_score': array([ 0.70513026,  0.70512964,  0.70511928,  0.70484419,  0.70166753,\n",
      "        0.69227084,  0.68677924,  0.68593554]), 'mean_fit_time': array([ 108.68559003,   94.37853233,   61.09158794,   48.62453   ,\n",
      "         46.76194795,   42.76143591,   38.41066106,    8.39982859]), 'split1_test_score': array([ 0.67891222,  0.67892365,  0.67902233,  0.6797834 ,  0.68032515,\n",
      "        0.67742123,  0.67522595,  0.67485638])}\n",
      "0.683477792815\n"
     ]
    }
   ],
   "source": [
    "features = [u'loan_amnt', 'term', 'int_rate', #'emp_length', 'emp_title', \n",
    "            u'home_ownership', u'annual_inc',u'verification_status', u'purpose', \n",
    "            u'zip_code',#u'addr_state', \n",
    "            u'dti', u'delinq_2yrs', u'earliest_cr_line', u'inq_last_6mths', u'open_acc', u'pub_rec', u'revol_bal', \n",
    "            u'revol_util', u'initial_list_status', u'collections_12_mths_ex_med', u'mort_acc',u'emp_title_flag',  \n",
    "            u'fico_avg', #'fw_emp_title', \n",
    "            'emp_length_cat'\n",
    "           ]\n",
    "\n",
    "target = ['loan_label']\n",
    "\n",
    "X=df_reduce[features]\n",
    "print X.columns\n",
    "X = pd.get_dummies(X)\n",
    "#col = X.columns\n",
    "print X.shape\n",
    "X = scale(X)\n",
    "y=df_reduce[target].values.ravel()\n",
    "\n",
    "X_train, X_test, y_train, y_test = train_test_split(X, y,  stratify=y, test_size=.3, random_state=random_state)\n",
    "start = time()\n",
    "grid_log.fit(X_train,y_train)\n",
    "end = time()\n",
    "print \"{:.4f} seconds\".format(end - start)\n",
    "print grid_log.best_score_\n",
    "print grid_log.best_estimator_\n",
    "print grid_log.cv_results_\n",
    "y_pred_prob = grid_log.predict_proba(X_test)[:,1]\n",
    "\n",
    "print roc_auc_score(y_test, y_pred_prob)"
   ]
  },
  {
   "cell_type": "code",
   "execution_count": 22,
   "metadata": {},
   "outputs": [
    {
     "data": {
      "text/plain": [
       "Index([u'index', u'loan_amnt', u'term', u'int_rate', u'grade', u'sub_grade',\n",
       "       u'emp_title', u'emp_length', u'home_ownership', u'annual_inc',\n",
       "       u'verification_status', u'loan_status', u'purpose', u'zip_code',\n",
       "       u'addr_state', u'dti', u'delinq_2yrs', u'earliest_cr_line',\n",
       "       u'inq_last_6mths', u'open_acc', u'pub_rec', u'revol_bal', u'revol_util',\n",
       "       u'initial_list_status', u'collections_12_mths_ex_med', u'mort_acc',\n",
       "       u'loan_label', u'emp_title_flag', u'fico_avg', u'f_norm_emp_title',\n",
       "       u'fw_emp_title', u'top200_fw_emp_title', u'emp_length_cat'],\n",
       "      dtype='object')"
      ]
     },
     "execution_count": 22,
     "metadata": {},
     "output_type": "execute_result"
    }
   ],
   "source": [
    "df_reduce.columns"
   ]
  },
  {
   "cell_type": "markdown",
   "metadata": {},
   "source": [
    "### Run With Transformed Zip Code (zip_gt001)"
   ]
  },
  {
   "cell_type": "code",
   "execution_count": 22,
   "metadata": {},
   "outputs": [
    {
     "name": "stdout",
     "output_type": "stream",
     "text": [
      "Index([u'loan_amnt', u'term', u'int_rate', u'home_ownership', u'annual_inc', u'verification_status', u'purpose', u'dti', u'delinq_2yrs', u'earliest_cr_line', u'inq_last_6mths', u'open_acc', u'pub_rec', u'revol_bal', u'revol_util', u'initial_list_status', u'collections_12_mths_ex_med', u'mort_acc', u'fico_avg', u'emp_length_cat', u'zip_gt001'], dtype='object')\n",
      "(232487, 180)\n",
      "41.5732 seconds\n",
      "0.685609094589\n",
      "LogisticRegression(C=0.001, class_weight=None, dual=False, fit_intercept=True,\n",
      "          intercept_scaling=1, max_iter=100, multi_class='ovr', n_jobs=4,\n",
      "          penalty='l2', random_state=401, solver='liblinear', tol=0.0001,\n",
      "          verbose=0, warm_start=False)\n",
      "{'std_train_score': array([ 0.00077044,  0.00077056,  0.00077173,  0.00078413,  0.00082267,\n",
      "        0.00090193,  0.00094073,  0.00094562]), 'rank_test_score': array([4, 3, 2, 1, 5, 6, 7, 8], dtype=int32), 'mean_score_time': array([ 0.02914373,  0.02278566,  0.0395333 ,  0.02247103,  0.01954508,\n",
      "        0.0249776 ,  0.02234467,  0.01945837]), 'std_test_score': array([ 0.00299472,  0.00299675,  0.00300928,  0.0030785 ,  0.00322939,\n",
      "        0.00319565,  0.00305565,  0.00302899]), 'split1_train_score': array([ 0.69236034,  0.69235837,  0.69234024,  0.6920603 ,  0.68919289,\n",
      "        0.68124124,  0.67668078,  0.67597738]), 'split0_test_score': array([ 0.68136429,  0.68136328,  0.68136163,  0.68127937,  0.67946631,\n",
      "        0.67380796,  0.67049429,  0.66997213]), 'mean_test_score': array([ 0.68556417,  0.68556627,  0.68558419,  0.68560909,  0.68402463,\n",
      "        0.6783265 ,  0.67481381,  0.67425261]), 'param_C': masked_array(data = [1.0 0.10000000000000001 0.01 0.001 0.0001 1.0000000000000001e-05\n",
      " 9.9999999999999995e-07 9.9999999999999995e-08],\n",
      "             mask = [False False False False False False False False],\n",
      "       fill_value = ?)\n",
      ", 'split2_train_score': array([ 0.69212756,  0.6921258 ,  0.69210747,  0.69182758,  0.68907404,\n",
      "        0.68148077,  0.67710294,  0.67642426]), 'split0_train_score': array([ 0.69386582,  0.69386422,  0.69384848,  0.69359508,  0.69087557,\n",
      "        0.68326301,  0.67885367,  0.67816911]), 'params': ({'C': 1.0}, {'C': 0.10000000000000001}, {'C': 0.01}, {'C': 0.001}, {'C': 0.0001}, {'C': 1.0000000000000001e-05}, {'C': 9.9999999999999995e-07}, {'C': 9.9999999999999995e-08}), 'std_fit_time': array([ 0.24097994,  0.11852489,  0.11734238,  0.12391805,  0.05961203,\n",
      "        0.07807238,  0.26837004,  0.07030527]), 'std_score_time': array([ 0.00172372,  0.00459058,  0.02689297,  0.00108322,  0.00134381,\n",
      "        0.00398277,  0.00204466,  0.00149234]), 'split2_test_score': array([ 0.68813658,  0.68813887,  0.688155  ,  0.68816873,  0.68654817,\n",
      "        0.68065897,  0.67686471,  0.67625033]), 'mean_train_score': array([ 0.69278457,  0.6927828 ,  0.6927654 ,  0.69249432,  0.68971417,\n",
      "        0.68199501,  0.67754579,  0.67685692]), 'mean_fit_time': array([ 9.83682028,  9.81859303,  7.99419816,  5.85152992,  4.81105502,\n",
      "        3.37365294,  2.61259604,  1.77645469]), 'split1_test_score': array([ 0.68719164,  0.68719666,  0.68723594,  0.68737918,  0.68605943,\n",
      "        0.68051257,  0.67708242,  0.67653535])}\n",
      "0.689775868835\n"
     ]
    }
   ],
   "source": [
    "#can remove emp_title_flag\n",
    "features = [u'loan_amnt', 'term', 'int_rate', #'emp_length', 'emp_title', \n",
    "            u'home_ownership', u'annual_inc',u'verification_status', u'purpose', \n",
    "            #u'zip_code',u'addr_state', \n",
    "            u'dti', u'delinq_2yrs', u'earliest_cr_line', u'inq_last_6mths', u'open_acc', u'pub_rec', u'revol_bal', \n",
    "            u'revol_util', u'initial_list_status', u'collections_12_mths_ex_med', u'mort_acc',#u'emp_title_flag',  \n",
    "            u'fico_avg', #'fw_emp_title', \n",
    "            'emp_length_cat', #u'fw_emp_title_gt0005', \n",
    "            u'zip_gt001'\n",
    "           ]\n",
    "\n",
    "target = ['loan_label']\n",
    "\n",
    "X=df_reduce[features]\n",
    "print X.columns\n",
    "X = pd.get_dummies(X)\n",
    "#col = X.columns\n",
    "print X.shape\n",
    "X = scale(X)\n",
    "y=df_reduce[target].values.ravel()\n",
    "\n",
    "X_train, X_test, y_train, y_test = train_test_split(X, y,  stratify=y, test_size=.3, random_state=random_state)\n",
    "start = time()\n",
    "grid_log.fit(X_train,y_train)\n",
    "end = time()\n",
    "print \"{:.4f} seconds\".format(end - start)\n",
    "print grid_log.best_score_\n",
    "print grid_log.best_estimator_\n",
    "print grid_log.cv_results_\n",
    "y_pred_prob = grid_log.predict_proba(X_test)[:,1]\n",
    "\n",
    "print roc_auc_score(y_test, y_pred_prob)"
   ]
  },
  {
   "cell_type": "markdown",
   "metadata": {},
   "source": [
    "## Run With Fuzzy Employee Title and AUC Improves"
   ]
  },
  {
   "cell_type": "code",
   "execution_count": 36,
   "metadata": {},
   "outputs": [
    {
     "name": "stdout",
     "output_type": "stream",
     "text": [
      "Index([u'loan_amnt', u'term', u'int_rate', u'home_ownership', u'annual_inc', u'verification_status', u'purpose', u'dti', u'delinq_2yrs', u'earliest_cr_line', u'inq_last_6mths', u'open_acc', u'pub_rec', u'revol_bal', u'revol_util', u'initial_list_status', u'collections_12_mths_ex_med', u'mort_acc', u'fico_avg', u'emp_length_cat', u'fw_emp_title_gt0005'], dtype='object')\n",
      "(232487, 201)\n",
      "48.1230 seconds\n",
      "0.685778638284\n",
      "LogisticRegression(C=0.001, class_weight=None, dual=False, fit_intercept=True,\n",
      "          intercept_scaling=1, max_iter=100, multi_class='ovr', n_jobs=4,\n",
      "          penalty='l2', random_state=401, solver='liblinear', tol=0.0001,\n",
      "          verbose=0, warm_start=False)\n",
      "{'std_train_score': array([ 0.00062469,  0.00062472,  0.00062409,  0.00062348,  0.00063302,\n",
      "        0.00072666,  0.00078726,  0.00079205]), 'rank_test_score': array([4, 3, 2, 1, 5, 6, 7, 8], dtype=int32), 'mean_score_time': array([ 0.02883061,  0.02285536,  0.02310069,  0.02600805,  0.02460059,\n",
      "        0.02253064,  0.02152681,  0.01767731]), 'std_test_score': array([ 0.00232681,  0.00232654,  0.00232072,  0.00232186,  0.00237873,\n",
      "        0.00229962,  0.0021969 ,  0.00217993]), 'split1_train_score': array([ 0.69362531,  0.69362483,  0.69361664,  0.69338253,  0.69066068,\n",
      "        0.68301394,  0.67862315,  0.67795746]), 'split0_test_score': array([ 0.68232767,  0.68233452,  0.6824074 ,  0.68268212,  0.68137181,\n",
      "        0.67594272,  0.67274452,  0.67225327]), 'mean_test_score': array([ 0.68544686,  0.68545304,  0.68551744,  0.68577864,  0.68448602,\n",
      "        0.67897707,  0.67566584,  0.67515284]), 'param_C': masked_array(data = [1.0 0.10000000000000001 0.01 0.001 0.0001 1.0000000000000001e-05\n",
      " 9.9999999999999995e-07 9.9999999999999995e-08],\n",
      "             mask = [False False False False False False False False],\n",
      "       fill_value = ?)\n",
      ", 'split2_train_score': array([ 0.69404005,  0.69403898,  0.6940259 ,  0.69377245,  0.69111825,\n",
      "        0.68374179,  0.67942912,  0.67876748]), 'split0_train_score': array([ 0.69510824,  0.69510767,  0.69509683,  0.69485627,  0.69217249,\n",
      "        0.68478458,  0.68054331,  0.67988921]), 'params': ({'C': 1.0}, {'C': 0.10000000000000001}, {'C': 0.01}, {'C': 0.001}, {'C': 0.0001}, {'C': 1.0000000000000001e-05}, {'C': 9.9999999999999995e-07}, {'C': 9.9999999999999995e-08}), 'std_fit_time': array([ 0.33757426,  0.24449285,  0.20438295,  0.1034947 ,  0.08187002,\n",
      "        0.02579919,  0.10250991,  0.11012037]), 'std_score_time': array([ 0.00262103,  0.00393018,  0.00301129,  0.00383213,  0.00436181,\n",
      "        0.00346091,  0.00147354,  0.00313509]), 'split2_test_score': array([ 0.6860987 ,  0.68610383,  0.68616449,  0.68638075,  0.68494139,\n",
      "        0.67948087,  0.67621056,  0.67569571]), 'mean_train_score': array([ 0.69425786,  0.69425716,  0.69424646,  0.69400375,  0.69131714,\n",
      "        0.68384677,  0.67953186,  0.67887138]), 'mean_fit_time': array([ 10.39058701,  11.20875104,   9.83437395,   8.14527432,\n",
      "         5.07670975,   3.40432803,   2.55350661,   1.94870631]), 'split1_test_score': array([ 0.68791422,  0.68792076,  0.68798041,  0.68827305,  0.68714485,\n",
      "        0.68150762,  0.67804245,  0.67750954])}\n",
      "0.693464496054\n"
     ]
    }
   ],
   "source": [
    "features = [u'loan_amnt', 'term', 'int_rate',  \n",
    "            u'home_ownership', u'annual_inc',u'verification_status', u'purpose', \n",
    "            u'dti', u'delinq_2yrs', u'earliest_cr_line', u'inq_last_6mths', u'open_acc', u'pub_rec', u'revol_bal', \n",
    "            u'revol_util', u'initial_list_status', u'collections_12_mths_ex_med', u'mort_acc',#u'emp_title_flag',  \n",
    "            u'fico_avg', 'emp_length_cat', u'fw_emp_title_gt0005'\n",
    "           ]\n",
    "\n",
    "target = ['loan_label']\n",
    "\n",
    "X=df_reduce[features]\n",
    "print X.columns\n",
    "X = pd.get_dummies(X)\n",
    "#col = X.columns\n",
    "print X.shape\n",
    "X = scale(X)\n",
    "y=df_reduce[target].values.ravel()\n",
    "\n",
    "X_train, X_test, y_train, y_test = train_test_split(X, y,  stratify=y, test_size=.3, random_state=random_state)\n",
    "start = time()\n",
    "grid_log.fit(X_train,y_train)\n",
    "end = time()\n",
    "print \"{:.4f} seconds\".format(end - start)\n",
    "print grid_log.best_score_\n",
    "print grid_log.best_estimator_\n",
    "print grid_log.cv_results_\n",
    "y_pred_prob = grid_log.predict_proba(X_test)[:,1]\n",
    "\n",
    "print roc_auc_score(y_test, y_pred_prob)"
   ]
  },
  {
   "cell_type": "code",
   "execution_count": 37,
   "metadata": {},
   "outputs": [
    {
     "data": {
      "text/plain": [
       "array([<matplotlib.axes._subplots.AxesSubplot object at 0x11ed0ae90>,\n",
       "       <matplotlib.axes._subplots.AxesSubplot object at 0x120d08c50>], dtype=object)"
      ]
     },
     "execution_count": 37,
     "metadata": {},
     "output_type": "execute_result"
    },
    {
     "data": {
      "image/png": "[encoded data removed]",
      "text/plain": [
       "<matplotlib.figure.Figure at 0x11ca41890>"
      ]
     },
     "metadata": {},
     "output_type": "display_data"
    }
   ],
   "source": [
    "# histogram of predicted probabilities grouped by actual response value\n",
    "df = pd.DataFrame(data = {'probability':y_pred_prob, 'actual':y_test})\n",
    "df.probability.hist(by=df.actual, sharex=True, sharey=True)"
   ]
  },
  {
   "cell_type": "code",
   "execution_count": 38,
   "metadata": {},
   "outputs": [
    {
     "data": {
      "text/plain": [
       "<matplotlib.text.Text at 0x11bb4a710>"
      ]
     },
     "execution_count": 38,
     "metadata": {},
     "output_type": "execute_result"
    },
    {
     "data": {
      "image/png": "[encoded data removed]",
      "text/plain": [
       "<matplotlib.figure.Figure at 0x11afe28d0>"
      ]
     },
     "metadata": {},
     "output_type": "display_data"
    }
   ],
   "source": [
    "# plot ROC curve\n",
    "from sklearn.metrics import roc_curve\n",
    "fpr, tpr, thresholds = roc_curve(y_test, y_pred_prob)\n",
    "plt.plot(fpr, tpr)\n",
    "plt.xlabel('False Positive Rate (1 - Specificity)')\n",
    "plt.ylabel('True Positive Rate (Sensitivity)')"
   ]
  },
  {
   "cell_type": "code",
   "execution_count": null,
   "metadata": {
    "collapsed": true
   },
   "outputs": [],
   "source": []
  },
  {
   "cell_type": "markdown",
   "metadata": {
    "collapsed": true
   },
   "source": [
    "### Run with Both Fuzzy and Zip Transformers"
   ]
  },
  {
   "cell_type": "code",
   "execution_count": 20,
   "metadata": {},
   "outputs": [
    {
     "name": "stdout",
     "output_type": "stream",
     "text": [
      "Index([u'loan_amnt', u'term', u'int_rate', u'home_ownership', u'annual_inc', u'verification_status', u'purpose', u'dti', u'delinq_2yrs', u'earliest_cr_line', u'inq_last_6mths', u'open_acc', u'pub_rec', u'revol_bal', u'revol_util', u'initial_list_status', u'collections_12_mths_ex_med', u'mort_acc', u'fico_avg', u'emp_length_cat', u'fw_emp_title_gt0005', u'zip_gt001'], dtype='object')\n",
      "(232487, 333)\n",
      "75.5427 seconds\n",
      "0.685152021509\n",
      "LogisticRegression(C=0.001, class_weight=None, dual=False, fit_intercept=True,\n",
      "          intercept_scaling=1, max_iter=100, multi_class='ovr', n_jobs=4,\n",
      "          penalty='l2', random_state=401, solver='liblinear', tol=0.0001,\n",
      "          verbose=0, warm_start=False)\n",
      "{'std_train_score': array([ 0.00062163,  0.00062175,  0.00062158,  0.00062286,  0.00064284,\n",
      "        0.00073161,  0.00077874,  0.00078582]), 'rank_test_score': array([4, 3, 2, 1, 5, 6, 7, 8], dtype=int32), 'mean_score_time': array([ 0.1218853 ,  0.08141255,  0.02843936,  0.030598  ,  0.031907  ,\n",
      "        0.03466805,  0.02649363,  0.0216856 ]), 'std_test_score': array([ 0.00213655,  0.0021363 ,  0.00213735,  0.00213982,  0.00216586,\n",
      "        0.00216777,  0.00212157,  0.00210572]), 'split1_train_score': array([ 0.69682475,  0.69682353,  0.6968149 ,  0.69657068,  0.69370708,\n",
      "        0.6855494 ,  0.68088459,  0.68017525]), 'split0_test_score': array([ 0.68172705,  0.68173554,  0.68180968,  0.68218681,  0.68135827,\n",
      "        0.67646198,  0.67343479,  0.67296546]), 'mean_test_score': array([ 0.68468618,  0.68469473,  0.68477173,  0.68515202,  0.68435591,\n",
      "        0.67950493,  0.6764229 ,  0.6759312 ]), 'param_C': masked_array(data = [1.0 0.10000000000000001 0.01 0.001 0.0001 1.0000000000000001e-05\n",
      " 9.9999999999999995e-07 9.9999999999999995e-08],\n",
      "             mask = [False False False False False False False False],\n",
      "       fill_value = ?)\n",
      ", 'split2_train_score': array([ 0.69695109,  0.69694946,  0.69693238,  0.69665157,  0.69386843,\n",
      "        0.68602435,  0.68146109,  0.68076323]), 'split0_train_score': array([ 0.69820205,  0.69820091,  0.69818828,  0.69793055,  0.69514424,\n",
      "        0.68728335,  0.68274754,  0.68205655]), 'params': ({'C': 1.0}, {'C': 0.10000000000000001}, {'C': 0.01}, {'C': 0.001}, {'C': 0.0001}, {'C': 1.0000000000000001e-05}, {'C': 9.9999999999999995e-07}, {'C': 9.9999999999999995e-08}), 'std_fit_time': array([ 2.83641508,  1.96110039,  0.43855323,  0.19951995,  0.0982266 ,\n",
      "        0.20865097,  0.18108041,  0.14038519]), 'std_score_time': array([ 0.00294796,  0.07155794,  0.00114793,  0.00046186,  0.00291788,\n",
      "        0.00426159,  0.00319066,  0.00484208]), 'split2_test_score': array([ 0.68563665,  0.68564705,  0.68573111,  0.68611127,  0.68530973,\n",
      "        0.68070358,  0.67768246,  0.67718085]), 'mean_train_score': array([ 0.69732596,  0.69732463,  0.69731185,  0.69705093,  0.69423992,\n",
      "        0.6862857 ,  0.68169774,  0.68099835]), 'mean_fit_time': array([ 19.73619199,  17.37804977,  14.50368738,  12.42628368,\n",
      "         7.81733974,   5.11196836,   3.80276807,   2.78037739]), 'split1_test_score': array([ 0.68669483,  0.68670161,  0.6867744 ,  0.68715798,  0.68639974,\n",
      "        0.68134922,  0.67815144,  0.67764728])}\n",
      "0.692483948335\n"
     ]
    }
   ],
   "source": [
    "\n",
    "features = [u'loan_amnt', 'term', 'int_rate', #'emp_length', 'emp_title', \n",
    "            u'home_ownership', u'annual_inc',u'verification_status', u'purpose', \n",
    "            #u'zip_code',u'addr_state', \n",
    "            u'dti', u'delinq_2yrs', u'earliest_cr_line', u'inq_last_6mths', u'open_acc', u'pub_rec', u'revol_bal', \n",
    "            u'revol_util', u'initial_list_status', u'collections_12_mths_ex_med', u'mort_acc',#u'emp_title_flag',  \n",
    "            u'fico_avg', #'fw_emp_title', \n",
    "            'emp_length_cat', u'fw_emp_title_gt0005', \n",
    "            u'zip_gt001'\n",
    "           ]\n",
    "\n",
    "target = ['loan_label']\n",
    "\n",
    "X=df_reduce[features]\n",
    "print X.columns\n",
    "X = pd.get_dummies(X)\n",
    "#col = X.columns\n",
    "print X.shape\n",
    "X = scale(X)\n",
    "y=df_reduce[target].values.ravel()\n",
    "\n",
    "X_train, X_test, y_train, y_test = train_test_split(X, y,  stratify=y, test_size=.3, random_state=random_state)\n",
    "start = time()\n",
    "grid_log.fit(X_train,y_train)\n",
    "end = time()\n",
    "print \"{:.4f} seconds\".format(end - start)\n",
    "print grid_log.best_score_\n",
    "print grid_log.best_estimator_\n",
    "print grid_log.cv_results_\n",
    "y_pred_prob = grid_log.predict_proba(X_test)[:,1]\n",
    "\n",
    "print roc_auc_score(y_test, y_pred_prob)"
   ]
  },
  {
   "cell_type": "code",
   "execution_count": 39,
   "metadata": {
    "collapsed": true
   },
   "outputs": [],
   "source": [
    "df_reduce.to_pickle('df_log_reg.p')"
   ]
  },
  {
   "cell_type": "code",
   "execution_count": null,
   "metadata": {
    "collapsed": true
   },
   "outputs": [],
   "source": []
  }
 ],
 "metadata": {
  "anaconda-cloud": {},
  "kernelspec": {
   "display_name": "Python 3",
   "language": "python",
   "name": "python3"
  },
  "language_info": {
   "codemirror_mode": {
    "name": "ipython",
    "version": 3
   },
   "file_extension": ".py",
   "mimetype": "text/x-python",
   "name": "python",
   "nbconvert_exporter": "python",
   "pygments_lexer": "ipython3",
   "version": "3.6.8"
  }
 },
 "nbformat": 4,
 "nbformat_minor": 1
}
