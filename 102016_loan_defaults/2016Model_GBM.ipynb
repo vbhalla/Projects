{
 "cells": [
  {
   "cell_type": "markdown",
   "metadata": {},
   "source": [
    "# Vishal Bhalla | 10/30/2016\n",
    "\n",
    "## Gradient Boosting Model\n",
    "\n",
    "Below requires the output from the feature extraction notebook, 4_GeoEmpTitle_Feature_Extraction."
   ]
  },
  {
   "cell_type": "markdown",
   "metadata": {},
   "source": [
    "GradientBoostingClassifier(criterion='friedman_mse', init=None,\n",
    "              learning_rate=0.04, loss='deviance', max_depth=2,\n",
    "              max_features=None, max_leaf_nodes=None,\n",
    "              min_impurity_split=1e-07, min_samples_leaf=200,\n",
    "              min_samples_split=2, min_weight_fraction_leaf=0.0,\n",
    "              n_estimators=2000, presort='auto', random_state=401,\n",
    "              subsample=1.0, verbose=0, warm_start=False)\n"
   ]
  },
  {
   "cell_type": "code",
   "execution_count": 1,
   "metadata": {},
   "outputs": [],
   "source": [
    "import pandas as pd\n",
    "import numpy as np\n",
    "from datetime import datetime\n",
    "\n",
    "from sklearn.model_selection import train_test_split\n",
    "from time import time\n",
    "from sklearn.metrics import f1_score\n",
    "from sklearn.preprocessing import scale"
   ]
  },
  {
   "cell_type": "code",
   "execution_count": 2,
   "metadata": {},
   "outputs": [],
   "source": [
    "random_state=401\n",
    "n_jobs = 1"
   ]
  },
  {
   "cell_type": "code",
   "execution_count": 3,
   "metadata": {},
   "outputs": [
    {
     "name": "stdout",
     "output_type": "stream",
     "text": [
      "C:\\Users\\Vishal\\Dropbox\\Coursework\\DS\\KLC\\Necessary\\Model Generation 2014 Scripts\\Data\n"
     ]
    }
   ],
   "source": [
    "cd Data"
   ]
  },
  {
   "cell_type": "code",
   "execution_count": 4,
   "metadata": {},
   "outputs": [],
   "source": [
    "#Import output from other notebooks\n",
    "df_reduce = pd.read_pickle('join_fw_zip_out_117.p')\n"
   ]
  },
  {
   "cell_type": "code",
   "execution_count": 5,
   "metadata": {},
   "outputs": [
    {
     "data": {
      "text/plain": [
       "(232487, 38)"
      ]
     },
     "execution_count": 5,
     "metadata": {},
     "output_type": "execute_result"
    }
   ],
   "source": [
    "df_reduce.shape"
   ]
  },
  {
   "cell_type": "code",
   "execution_count": 6,
   "metadata": {},
   "outputs": [],
   "source": [
    "#df_reduce = dfc.copy()\n",
    "#df_reduce = dfc.copy()\n",
    "#del dfc"
   ]
  },
  {
   "cell_type": "code",
   "execution_count": 7,
   "metadata": {
    "collapsed": true
   },
   "outputs": [],
   "source": [
    "grades = {\n",
    "'A1': 1,\n",
    "'A2': 2,\n",
    "'A3': 3,\n",
    "'A4': 4,\n",
    "'A5': 5,\n",
    "'B1': 6,\n",
    "'B2': 7,\n",
    "'B3': 8,\n",
    "'B4': 9,\n",
    "'B5': 10,\n",
    "'C1': 11,\n",
    "'C2': 12,\n",
    "'C3': 13,\n",
    "'C4': 14,\n",
    "'C5': 15,\n",
    "'D1': 16,\n",
    "'D2': 17,\n",
    "'D3': 18,\n",
    "'D4': 19,\n",
    "'D5': 20,\n",
    "'E1': 21,\n",
    "'E2': 22,\n",
    "'E3': 23,\n",
    "'E4': 24,\n",
    "'E5': 25,\n",
    "'F1': 26,\n",
    "'F2': 27,\n",
    "'F3': 28,\n",
    "'F4': 29,\n",
    "'F5': 30,\n",
    "'G1': 31,\n",
    "'G2': 32,\n",
    "'G3': 33,\n",
    "'G4': 34,\n",
    "'G5': 35\n",
    "}"
   ]
  },
  {
   "cell_type": "code",
   "execution_count": 8,
   "metadata": {},
   "outputs": [],
   "source": [
    "#df_reduce['grade_val'] = df_reduce.sub_grade.map(grades)\n",
    "df_reduce['emp_length_cat'] = df_reduce.emp_length_cat.astype('category')"
   ]
  },
  {
   "cell_type": "code",
   "execution_count": 9,
   "metadata": {},
   "outputs": [],
   "source": [
    "#from sklearn.model_selection import GridSearchCV\n",
    "from sklearn.model_selection import RandomizedSearchCV\n",
    "from sklearn.model_selection import StratifiedShuffleSplit\n",
    "from sklearn.preprocessing import scale\n",
    "from sklearn.metrics import make_scorer, f1_score, accuracy_score, classification_report, roc_auc_score\n",
    "from sklearn.model_selection import train_test_split"
   ]
  },
  {
   "cell_type": "code",
   "execution_count": 10,
   "metadata": {},
   "outputs": [],
   "source": [
    "def my_scorer(clf, X, y):\n",
    "    y_pred_prob = clf.predict_proba(X)[:,1]\n",
    "    return roc_auc_score(y, y_pred_prob)"
   ]
  },
  {
   "cell_type": "code",
   "execution_count": 11,
   "metadata": {},
   "outputs": [],
   "source": [
    "sss = StratifiedShuffleSplit(n_splits=3, test_size=0.2, random_state=random_state)\n",
    "scoring_function = my_scorer"
   ]
  },
  {
   "cell_type": "code",
   "execution_count": 12,
   "metadata": {},
   "outputs": [
    {
     "name": "stdout",
     "output_type": "stream",
     "text": [
      "Index([u'loan_amnt', u'term', u'int_rate', u'home_ownership', u'annual_inc', u'verification_status', u'purpose', u'dti', u'delinq_2yrs', u'earliest_cr_line', u'inq_last_6mths', u'open_acc', u'pub_rec', u'revol_bal', u'revol_util', u'initial_list_status', u'collections_12_mths_ex_med', u'mort_acc', u'fico_avg', u'emp_length_cat', u'fw_emp_title_gt27', u'Unemployed_Rate', u'Child_Rate', u'RE_Tax_Rate', u'sub_grade'], dtype='object')\n",
      "Index([u'loan_amnt', u'int_rate', u'annual_inc', u'dti', u'delinq_2yrs', u'earliest_cr_line', u'inq_last_6mths', u'open_acc', u'pub_rec', u'revol_bal',\n",
      "       ...\n",
      "       u'sub_grade_F1', u'sub_grade_F2', u'sub_grade_F3', u'sub_grade_F4', u'sub_grade_F5', u'sub_grade_G1', u'sub_grade_G2', u'sub_grade_G3', u'sub_grade_G4', u'sub_grade_G5'], dtype='object', length=243)\n",
      "(232487L, 243L)\n"
     ]
    }
   ],
   "source": [
    "features = [u'loan_amnt', 'term', 'int_rate',  \n",
    "            u'home_ownership', u'annual_inc',u'verification_status', u'purpose', \n",
    "            u'dti', u'delinq_2yrs', u'earliest_cr_line', u'inq_last_6mths', u'open_acc', u'pub_rec', u'revol_bal', \n",
    "            u'revol_util', u'initial_list_status', u'collections_12_mths_ex_med', u'mort_acc',#u'emp_title_flag',  \n",
    "            u'fico_avg', 'emp_length_cat', #u'fw_emp_title_gt35','fw_emp_title_gt2',\n",
    "            'fw_emp_title_gt27', \n",
    "            u'Unemployed_Rate', u'Child_Rate', \n",
    "            u'RE_Tax_Rate', \n",
    "            #u'jw_emp_match', \n",
    "            #u'jw_gt_25', u'grade_val',\n",
    "            'sub_grade'\n",
    "           ]\n",
    "\n",
    "target = ['loan_label']\n",
    "\n",
    "X=df_reduce[features]\n",
    "print X.columns\n",
    "X = pd.get_dummies(X)\n",
    "col = X.columns\n",
    "print col\n",
    "X = scale(X)\n",
    "print X.shape\n",
    "y=df_reduce[target].values.ravel()\n",
    "\n",
    "X_train, X_test, y_train, y_test = train_test_split(X, y,  stratify=y, test_size=.3, random_state=random_state)"
   ]
  },
  {
   "cell_type": "markdown",
   "metadata": {},
   "source": [
    "### Parameter Tuning\n",
    "1. min_samples_split = 500,1000 : This should be ~0.5-1% of total values. Since this is imbalanced class problem, we’ll take a small value from the range.\n",
    "2. min_samples_leaf = 50 : Can be selected based on intuition. This is just used for preventing overfitting and again a small value because of imbalanced classes.\n",
    "3. max_depth = 8 : Should be chosen (5-8) based on the number of observations and predictors. This has 87K rows and 49 columns so lets take 8 here.\n",
    "4. max_features = ‘sqrt’ : Its a general thumb-rule to start with square root.\n",
    "\n",
    "Steps, run for min sampels and max depth.  Then also see if you can replicate with lower ntrees to 100 to see if you get the same outputs as compared to 1000 trees.  Max depth was the most influential with 2 beating out 5.  lower learn rate did better as well.\n",
    "\n",
    "1.Num trees/learning rate for speed\n",
    "2.max_depth and num_samples_split\n",
    "3.min_samples per leaf (see if min_samples or num_samples_split is more sen)\n",
    "4.tune max features\n"
   ]
  },
  {
   "cell_type": "code",
   "execution_count": 13,
   "metadata": {
    "collapsed": true
   },
   "outputs": [],
   "source": [
    "from sklearn.ensemble import GradientBoostingClassifier\n",
    "from sklearn.model_selection import RandomizedSearchCV "
   ]
  },
  {
   "cell_type": "code",
   "execution_count": 20,
   "metadata": {},
   "outputs": [
    {
     "name": "stdout",
     "output_type": "stream",
     "text": [
      "150 0.692231613275 10.0228333354\n",
      "200 0.693725141834 13.8000333349\n",
      "250 0.694590432529 16.6191499988\n",
      "300 0.69508098771 20.1582333366\n",
      "350 0.695425878675 23.3032333334\n",
      "400 0.69562276498 26.883100001\n",
      "450 0.695739329956 30.1652999997\n",
      "500 0.695816722801 32.7237999996\n",
      "550 0.69590184614 35.8766499996\n",
      "600 0.695937808465 38.5164000034\n",
      "650 0.695943786557 41.9030833324\n",
      "700 0.696000416278 44.857766668\n",
      "750 0.695993342203 48.1392666658\n",
      "800 0.695958546192 51.1695500016\n",
      "850 0.695966997573 54.2514500022\n",
      "900 0.696046392884 58.8308166663\n",
      "950 0.696020989901 63.089716665\n",
      "1000 0.696044638529 62.5576666673\n",
      "1050 0.6959772795 66.031766665\n",
      "1100 0.695934553726 67.3217333317\n",
      "         auc   duration  n_iterations\n",
      "0   0.692232  10.022833           150\n",
      "1   0.693725  13.800033           200\n",
      "2   0.694590  16.619150           250\n",
      "3   0.695081  20.158233           300\n",
      "4   0.695426  23.303233           350\n",
      "5   0.695623  26.883100           400\n",
      "6   0.695739  30.165300           450\n",
      "7   0.695817  32.723800           500\n",
      "8   0.695902  35.876650           550\n",
      "9   0.695938  38.516400           600\n",
      "10  0.695944  41.903083           650\n",
      "11  0.696000  44.857767           700\n",
      "12  0.695993  48.139267           750\n",
      "13  0.695959  51.169550           800\n",
      "14  0.695967  54.251450           850\n",
      "15  0.696046  58.830817           900\n",
      "16  0.696021  63.089717           950\n",
      "17  0.696045  62.557667          1000\n",
      "18  0.695977  66.031767          1050\n",
      "19  0.695935  67.321733          1100\n"
     ]
    }
   ],
   "source": [
    "range_ntrees = np.arange(150,1150,50)\n",
    "\n",
    "scores = []\n",
    "for n in range_ntrees:\n",
    "    start = time()  \n",
    "    gbm = GradientBoostingClassifier(random_state=random_state, n_estimators=n, learning_rate=.04, min_samples_leaf=1100)\n",
    "    gbm.fit(X_train,y_train)\n",
    "    y_pred_prob1 = gbm.predict_proba(X_test)[:,1]\n",
    "    score = roc_auc_score(y_test, y_pred_prob1)\n",
    "    end = time()\n",
    "    duration = (end - start)/60\n",
    "    print n, score, duration\n",
    "    scores.append(dict(n_iterations=n, auc=score, duration=duration))\n",
    "    \n",
    "scores = pd.DataFrame(scores)\n",
    "print scores\n"
   ]
  },
  {
   "cell_type": "markdown",
   "metadata": {},
   "source": [
    "## HERE!!!! After you Select Optimum Amount of Trees, then run Next one"
   ]
  },
  {
   "cell_type": "code",
   "execution_count": 14,
   "metadata": {},
   "outputs": [
    {
     "name": "stdout",
     "output_type": "stream",
     "text": [
      "115047.8940 seconds\n",
      "0.692483702402\n",
      "GradientBoostingClassifier(criterion='friedman_mse', init=None,\n",
      "              learning_rate=0.04, loss='deviance', max_depth=3,\n",
      "              max_features=None, max_leaf_nodes=None,\n",
      "              min_impurity_split=1e-07, min_samples_leaf=2200,\n",
      "              min_samples_split=2, min_weight_fraction_leaf=0.0,\n",
      "              n_estimators=700, presort='auto', random_state=401,\n",
      "              subsample=1.0, verbose=0, warm_start=False)\n",
      "Test Score 0.695898034618\n"
     ]
    },
    {
     "data": {
      "text/plain": [
       "{'mean_fit_time': array([ 5247.14200004,  2012.39199996,  1998.00499988,  5403.66766667,\n",
       "         3624.73600006,  3498.89366674,  5986.85966659,  5677.12266668,\n",
       "         1949.82833338,  1964.93799996]),\n",
       " 'mean_score_time': array([ 3.11333323,  1.77566663,  1.78266676,  3.15266665,  2.33533335,\n",
       "         2.32999992,  3.20166667,  3.19933335,  1.73433336,  1.71466668]),\n",
       " 'mean_test_score': array([ 0.68638291,  0.69238136,  0.6924837 ,  0.6849404 ,  0.69156642,\n",
       "         0.69195346,  0.68930824,  0.6899715 ,  0.69130568,  0.69146559]),\n",
       " 'mean_train_score': array([ 0.77920873,  0.71450835,  0.71329014,  0.79087174,  0.7364272 ,\n",
       "         0.73150693,  0.7759416 ,  0.76349714,  0.72229293,  0.72441504]),\n",
       " 'param_learning_rate': masked_array(data = [0.08 0.04 0.04 0.08 0.04 0.04 0.04 0.04 0.08 0.08],\n",
       "              mask = [False False False False False False False False False False],\n",
       "        fill_value = ?),\n",
       " 'param_max_depth': masked_array(data = [8 3 3 8 5 5 8 8 3 3],\n",
       "              mask = [False False False False False False False False False False],\n",
       "        fill_value = ?),\n",
       " 'param_min_samples_leaf': masked_array(data = [2200 1600 2200 1600 1600 2200 1100 1600 2200 1600],\n",
       "              mask = [False False False False False False False False False False],\n",
       "        fill_value = ?),\n",
       " 'params': ({'learning_rate': 0.08, 'max_depth': 8, 'min_samples_leaf': 2200},\n",
       "  {'learning_rate': 0.04, 'max_depth': 3, 'min_samples_leaf': 1600},\n",
       "  {'learning_rate': 0.04, 'max_depth': 3, 'min_samples_leaf': 2200},\n",
       "  {'learning_rate': 0.08, 'max_depth': 8, 'min_samples_leaf': 1600},\n",
       "  {'learning_rate': 0.04, 'max_depth': 5, 'min_samples_leaf': 1600},\n",
       "  {'learning_rate': 0.04, 'max_depth': 5, 'min_samples_leaf': 2200},\n",
       "  {'learning_rate': 0.04, 'max_depth': 8, 'min_samples_leaf': 1100},\n",
       "  {'learning_rate': 0.04, 'max_depth': 8, 'min_samples_leaf': 1600},\n",
       "  {'learning_rate': 0.08, 'max_depth': 3, 'min_samples_leaf': 2200},\n",
       "  {'learning_rate': 0.08, 'max_depth': 3, 'min_samples_leaf': 1600}),\n",
       " 'rank_test_score': array([ 9,  2,  1, 10,  4,  3,  8,  7,  6,  5]),\n",
       " 'split0_test_score': array([ 0.68334898,  0.68771709,  0.68753611,  0.68176391,  0.68773093,\n",
       "         0.68762568,  0.68685217,  0.68682047,  0.68691943,  0.68739891]),\n",
       " 'split0_train_score': array([ 0.78026959,  0.71592936,  0.71451734,  0.79226425,  0.73748421,\n",
       "         0.7327302 ,  0.77536232,  0.76318405,  0.72300474,  0.72516827]),\n",
       " 'split1_test_score': array([ 0.68817593,  0.69583486,  0.69619576,  0.6880163 ,  0.69372426,\n",
       "         0.69462376,  0.6908999 ,  0.69188656,  0.69443719,  0.69449865]),\n",
       " 'split1_train_score': array([ 0.77733297,  0.71347081,  0.712475  ,  0.78731375,  0.73532101,\n",
       "         0.73050128,  0.77508241,  0.76172046,  0.72176216,  0.72351648]),\n",
       " 'split2_test_score': array([ 0.68762383,  0.69359212,  0.69371924,  0.68504098,  0.69324407,\n",
       "         0.69361094,  0.69017265,  0.69120748,  0.69256042,  0.69249922]),\n",
       " 'split2_train_score': array([ 0.78002362,  0.71412488,  0.71287808,  0.79303721,  0.73647639,\n",
       "         0.7312893 ,  0.77738007,  0.7655869 ,  0.72211187,  0.72456038]),\n",
       " 'std_fit_time': array([ 139.88641153,    4.44072617,   14.80412086,   53.28536381,\n",
       "          28.4140731 ,   35.33964898,   45.96789138,   56.16487103,\n",
       "          12.68589016,    7.40098544]),\n",
       " 'std_score_time': array([ 0.03026916,  0.01388841,  0.00618237,  0.03975204,  0.00419001,\n",
       "         0.00848534,  0.01359732,  0.03664538,  0.00758658,  0.00377124]),\n",
       " 'std_test_score': array([ 0.00215712,  0.00342287,  0.00364164,  0.00255352,  0.00271918,\n",
       "         0.00308801,  0.0017619 ,  0.0022453 ,  0.00319478,  0.00298919]),\n",
       " 'std_train_score': array([ 0.00133015,  0.00103968,  0.00088323,  0.00253559,  0.00088381,\n",
       "         0.00092287,  0.00102355,  0.00159392,  0.00052319,  0.00068213])}"
      ]
     },
     "execution_count": 14,
     "metadata": {},
     "output_type": "execute_result"
    }
   ],
   "source": [
    "range_depth = [3,5,8] #greater than 9 if it performs better\n",
    "range_min_samples_leaf = [1100, 1600, 2200] #1100\n",
    "range_learn_rate = [.04, .08]\n",
    "\n",
    "parameters=dict(learning_rate=range_learn_rate, max_depth=range_depth, \n",
    "                min_samples_leaf=range_min_samples_leaf)\n",
    "\n",
    "gbm = GradientBoostingClassifier(random_state=random_state, n_estimators=700)\n",
    "grid_rand_gbm = RandomizedSearchCV(estimator=gbm, param_distributions=parameters, cv=sss, n_jobs=n_jobs, scoring=my_scorer, refit=True)\n",
    "\n",
    "\n",
    "#import caffeine\n",
    "start = time()\n",
    "grid_rand_gbm.fit(X_train,y_train)\n",
    "end = time()\n",
    "print \"{:.4f} seconds\".format(end - start)\n",
    "print grid_rand_gbm.best_score_\n",
    "print grid_rand_gbm.best_estimator_\n",
    "y_pred_prob1 = grid_rand_gbm.predict_proba(X_test)[:,1]\n",
    "score = roc_auc_score(y_test, y_pred_prob1)\n",
    "print \"Test Score\",score\n",
    "grid_rand_gbm.cv_results_\n",
    "#caffeine.off()"
   ]
  },
  {
   "cell_type": "code",
   "execution_count": null,
   "metadata": {
    "collapsed": true
   },
   "outputs": [],
   "source": []
  },
  {
   "cell_type": "code",
   "execution_count": null,
   "metadata": {
    "collapsed": true
   },
   "outputs": [],
   "source": []
  },
  {
   "cell_type": "code",
   "execution_count": null,
   "metadata": {
    "collapsed": true
   },
   "outputs": [],
   "source": []
  },
  {
   "cell_type": "code",
   "execution_count": null,
   "metadata": {
    "collapsed": true
   },
   "outputs": [],
   "source": []
  },
  {
   "cell_type": "markdown",
   "metadata": {},
   "source": [
    "## Haven't done anything here"
   ]
  },
  {
   "cell_type": "code",
   "execution_count": 19,
   "metadata": {},
   "outputs": [
    {
     "data": {
      "text/plain": [
       "{'mean_fit_time': array([ 3466.15633329,   853.921     ,  4037.03700002,  1398.16399995,\n",
       "         3791.23133334,  5057.92233332,  4508.09033322,   846.14733338,\n",
       "         1370.74533335,   859.42100008]),\n",
       " 'mean_score_time': array([ 2.21833324,  0.93966667,  2.31900001,  1.29233336,  2.06133334,\n",
       "         2.35633334,  2.26266678,  0.93566672,  1.23866661,  0.96900002]),\n",
       " 'mean_test_score': array([ 0.6922072 ,  0.69229065,  0.68762318,  0.69297316,  0.6873265 ,\n",
       "         0.6836477 ,  0.6913673 ,  0.69285772,  0.69257861,  0.69172028]),\n",
       " 'mean_train_score': array([ 0.73953131,  0.70658174,  0.77225418,  0.71041583,  0.80093606,\n",
       "         0.84031426,  0.74962506,  0.70665486,  0.71954979,  0.70138868]),\n",
       " 'param_learning_rate': masked_array(data = [0.04 0.08 0.08 0.04 0.08 0.08 0.02 0.08 0.08 0.04],\n",
       "              mask = [False False False False False False False False False False],\n",
       "        fill_value = ?),\n",
       " 'param_max_depth': masked_array(data = [7 2 9 3 7 9 7 2 3 2],\n",
       "              mask = [False False False False False False False False False False],\n",
       "        fill_value = ?),\n",
       " 'param_min_samples_leaf': masked_array(data = [2200 2200 2200 1100 500 500 500 1100 1100 2200],\n",
       "              mask = [False False False False False False False False False False],\n",
       "        fill_value = ?),\n",
       " 'params': ({'learning_rate': 0.04, 'max_depth': 7, 'min_samples_leaf': 2200},\n",
       "  {'learning_rate': 0.08, 'max_depth': 2, 'min_samples_leaf': 2200},\n",
       "  {'learning_rate': 0.08, 'max_depth': 9, 'min_samples_leaf': 2200},\n",
       "  {'learning_rate': 0.04, 'max_depth': 3, 'min_samples_leaf': 1100},\n",
       "  {'learning_rate': 0.08, 'max_depth': 7, 'min_samples_leaf': 500},\n",
       "  {'learning_rate': 0.08, 'max_depth': 9, 'min_samples_leaf': 500},\n",
       "  {'learning_rate': 0.02, 'max_depth': 7, 'min_samples_leaf': 500},\n",
       "  {'learning_rate': 0.08, 'max_depth': 2, 'min_samples_leaf': 1100},\n",
       "  {'learning_rate': 0.08, 'max_depth': 3, 'min_samples_leaf': 1100},\n",
       "  {'learning_rate': 0.04, 'max_depth': 2, 'min_samples_leaf': 2200}),\n",
       " 'rank_test_score': array([ 5,  4,  8,  1,  9, 10,  7,  2,  3,  6]),\n",
       " 'split0_test_score': array([ 0.68827924,  0.68723762,  0.68581791,  0.6881575 ,  0.6850123 ,\n",
       "         0.6827605 ,  0.68727454,  0.68812558,  0.68860095,  0.68617674]),\n",
       " 'split0_train_score': array([ 0.74018901,  0.70750711,  0.77247356,  0.71132689,  0.8016417 ,\n",
       "         0.83745985,  0.74983265,  0.70758257,  0.72016945,  0.70249157]),\n",
       " 'split1_test_score': array([ 0.69422398,  0.69531683,  0.68796335,  0.69580363,  0.68691759,\n",
       "         0.6824736 ,  0.69340951,  0.69535002,  0.69487234,  0.69505741]),\n",
       " 'split1_train_score': array([ 0.73881722,  0.70600632,  0.77229737,  0.70985335,  0.8006824 ,\n",
       "         0.84217434,  0.74872569,  0.70605813,  0.71852297,  0.70085546]),\n",
       " 'split2_test_score': array([ 0.69411838,  0.69431749,  0.68908827,  0.69495836,  0.6900496 ,\n",
       "         0.68570901,  0.69341786,  0.69509756,  0.69426255,  0.6939267 ]),\n",
       " 'split2_train_score': array([ 0.7395877 ,  0.70623179,  0.77199162,  0.71006724,  0.80048409,\n",
       "         0.84130858,  0.75031685,  0.70632386,  0.71995696,  0.700819  ]),\n",
       " 'std_fit_time': array([ 30.66603872,   1.64664095,   8.93846782,   4.38951303,\n",
       "         21.56379553,  48.03158073,  26.55067182,   1.07520059,\n",
       "         13.24655796,   1.35141582]),\n",
       " 'std_score_time': array([ 0.03929655,  0.00873046,  0.00962636,  0.02854625,  0.00309125,\n",
       "         0.01161424,  0.01347428,  0.01562765,  0.00410961,  0.01023061]),\n",
       " 'std_test_score': array([ 0.00277782,  0.00359625,  0.00135661,  0.00342263,  0.0020767 ,\n",
       "         0.00146226,  0.00289402,  0.00334772,  0.00282363,  0.00394696]),\n",
       " 'std_train_score': array([ 0.00056145,  0.00066078,  0.00019911,  0.00065011,  0.00050548,\n",
       "         0.00204908,  0.00066597,  0.0006649 ,  0.00073124,  0.00078   ])}"
      ]
     },
     "execution_count": 19,
     "metadata": {},
     "output_type": "execute_result"
    }
   ],
   "source": [
    "#range_ntrees = 500 #[500,2000] leave at 500 for now \n",
    "range_depth = [2,3,7,9] #greater than 9 if it performs better\n",
    "range_min_samples_leaf = [500,1100,2200] #1100\n",
    "range_learn_rate = [.02, .04, .08] #0.01-0.05\n",
    "\n",
    "\n",
    "parameters=dict(learning_rate=range_learn_rate, max_depth=range_depth, \n",
    "                min_samples_leaf=range_min_samples_leaf)\n",
    "\n",
    "gbm = GradientBoostingClassifier(random_state=random_state, n_estimators=500)\n",
    "grid_rand_gbm = RandomizedSearchCV(estimator=gbm, param_distributions=parameters, cv=sss, n_jobs=1, scoring=my_scorer, refit=True)\n",
    "\n",
    "#import caffeine\n",
    "start = time()\n",
    "grid_rand_gbm.fit(X_train,y_train)\n",
    "end = time()\n",
    "print \"{:.4f} seconds\".format(end - start)\n",
    "print grid_rand_gbm.best_score_\n",
    "print grid_rand_gbm.best_estimator_\n",
    "y_pred_prob1 = grid_rand_gbm.predict_proba(X_test)[:,1]\n",
    "score = roc_auc_score(y_test, y_pred_prob1)\n",
    "print \"Test Score\",score\n",
    "grid_rand_gbm.cv_results_\n",
    "#caffeine.off()"
   ]
  },
  {
   "cell_type": "code",
   "execution_count": null,
   "metadata": {
    "collapsed": true
   },
   "outputs": [],
   "source": []
  },
  {
   "cell_type": "code",
   "execution_count": null,
   "metadata": {
    "collapsed": true
   },
   "outputs": [],
   "source": []
  }
 ],
 "metadata": {
  "anaconda-cloud": {},
  "kernelspec": {
   "display_name": "Python 3",
   "language": "python",
   "name": "python3"
  },
  "language_info": {
   "codemirror_mode": {
    "name": "ipython",
    "version": 3
   },
   "file_extension": ".py",
   "mimetype": "text/x-python",
   "name": "python",
   "nbconvert_exporter": "python",
   "pygments_lexer": "ipython3",
   "version": "3.6.8"
  }
 },
 "nbformat": 4,
 "nbformat_minor": 1
}
