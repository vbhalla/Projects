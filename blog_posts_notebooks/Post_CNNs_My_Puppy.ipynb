{
 "cells": [
  {
   "cell_type": "markdown",
   "metadata": {},
   "source": [
    "# CNNs Deep Learning Post\n",
    "\n",
    "---\n",
    "I have been looking for a fun computer vision use-case that would enable me play around with a CNN implementation as I haven't worked on too many deep learning problems.  I like many others don't regularly organize and backup my wife and my iphone pictures.  As I was going through the thousands of pictures, I realized a common theme: \n",
    "\n",
    "<img src=\"./support_notebooks_markdown/Cnns_Post_Supporting_Files/Lass.jpg\" width=\"150\">\n",
    "\n",
    "The above is my beloved puppy and she has been the object of much of our photography (we're a bit obsessed), unfortunately every one of my images is labelled is some non-descriptive format i.e. 000224444.jpg.  \n",
    "\n",
    "This could be a fun use-case for a convolutional neural network (CNNs) as they are pretty good for computer vision, right?\n",
    "> I would want to build a model that could accurately find my dog and/or identify a person and then run it through all the photos on my harddrive identifying which ones contained my pup.  I can then move those over to a relevant folder and then inspect the remainder, right?\n"
   ]
  },
  {
   "cell_type": "markdown",
   "metadata": {},
   "source": [
    "First thing I'd need is access to a large number of images that I can train on.  Luckily I found 2 of these datasets on Udacity:\n",
    "- [dog dataset](https://s3-us-west-1.amazonaws.com/udacity-aind/dog-project/dogImages.zip) \n",
    "- [people dataset](https://s3-us-west-1.amazonaws.com/udacity-aind/dog-project/lfw.zip)\n",
    "\n",
    "I'd chosen to use pyTorch as I've heard good things related to it's Python first approach: [pytorch](https://pytorch.org/docs/stable/index.html)"
   ]
  },
  {
   "cell_type": "code",
   "execution_count": 9,
   "metadata": {},
   "outputs": [
    {
     "name": "stdout",
     "output_type": "stream",
     "text": [
      "total 0\r\n",
      "drwxr-xr-x@ 135 Shalu  staff  4320 Jun  7 13:18 \u001b[34mtrain\u001b[m\u001b[m/\r\n",
      "drwxr-xr-x@ 135 Shalu  staff  4320 Jun  7 13:18 \u001b[34mvalid\u001b[m\u001b[m/\r\n",
      "drwxr-xr-x@ 136 Shalu  staff  4352 Jun  7 13:18 \u001b[34mtest\u001b[m\u001b[m/\r\n"
     ]
    }
   ],
   "source": [
    "ls -ltr ./dogImages"
   ]
  },
  {
   "cell_type": "markdown",
   "metadata": {},
   "source": [
    "Now I have directories above split out into 'train','valid', and 'test'.  Looking at the documentation around \n",
    "[data loaders](http://pytorch.org/docs/stable/torchvision/datasets.html) seems like ImageFolder is good for custom data sets. "
   ]
  },
  {
   "cell_type": "code",
   "execution_count": 16,
   "metadata": {},
   "outputs": [
    {
     "name": "stdout",
     "output_type": "stream",
     "text": [
      "CUDA is available!  Training on GPU ...\n"
     ]
    }
   ],
   "source": [
    "import os\n",
    "import torchvision.transforms as transforms\n",
    "from torchvision import datasets\n",
    "from PIL import ImageFile\n",
    "ImageFile.LOAD_TRUNCATED_IMAGES = True\n",
    "\n",
    "#training on GPUs makes things a lot faster due to parrallel processing (I personally did this on Amazon AWs)\n",
    "train_on_gpu = torch.cuda.is_available()\n",
    "\n",
    "if not train_on_gpu:\n",
    "    print('CUDA is not available.  Training on CPU ...')\n",
    "else:\n",
    "    print('CUDA is available!  Training on GPU ...')"
   ]
  },
  {
   "cell_type": "code",
   "execution_count": 77,
   "metadata": {},
   "outputs": [
    {
     "name": "stdout",
     "output_type": "stream",
     "text": [
      "total 216\r\n",
      "drwxr-xr-x    5 root root   4096 May 14  2018 \u001b[0m\u001b[01;34mdog_images\u001b[0m/\r\n",
      "drwxr-xr-x 5751 root root 208896 May 14  2018 \u001b[01;34mlfw\u001b[0m/\r\n",
      "drwxr-xr-x    2 root root   4096 May 14  2018 \u001b[01;34mbottleneck_features\u001b[0m/\r\n"
     ]
    }
   ],
   "source": [
    "ls -ltr /data/"
   ]
  },
  {
   "cell_type": "markdown",
   "metadata": {},
   "source": [
    "### Data Loading\n",
    "Now I know how to load my data, but also I need to ensure that all pictures have the same sizes,etc.  Therefore a few [transforms](http://pytorch.org/docs/stable/torchvision/transforms.html?highlight=transform) are needed in addition to converting these numpy arrays into tensors. I just chose to use a size of 224 as that seemed to be commonly chosen."
   ]
  },
  {
   "cell_type": "code",
   "execution_count": 78,
   "metadata": {},
   "outputs": [],
   "source": [
    "num_workers = 0\n",
    "# samples per batch to load\n",
    "batch_size = 20\n",
    "# percentage  to use as validation\n",
    "valid_size = 0.2\n",
    "\n",
    "data_dir = '/data/dog_images'\n",
    "\n",
    "train_transforms = transforms.Compose([transforms.RandomRotation(30),\n",
    "                                       transforms.RandomResizedCrop(224),\n",
    "                                       transforms.RandomHorizontalFlip(),\n",
    "                                       transforms.ToTensor(),\n",
    "                                       transforms.Normalize((0.5, 0.5, 0.5), \n",
    "                                                            (0.5, 0.5, 0.5))])\n",
    "\n",
    "test_transforms = transforms.Compose([transforms.Resize(255),\n",
    "                                      transforms.CenterCrop(224),\n",
    "                                      transforms.ToTensor(),\n",
    "                                      transforms.Normalize((0.5, 0.5, 0.5), \n",
    "                                                            (0.5, 0.5, 0.5))])\n",
    "\n",
    "\n",
    "train_data = datasets.ImageFolder(data_dir + '/train', transform=train_transforms)\n",
    "valid_data = datasets.ImageFolder(data_dir + '/valid', transform=train_transforms)\n",
    "test_data = datasets.ImageFolder(data_dir + '/test', transform=test_transforms)\n",
    "\n",
    "\n",
    "# prepare data loaders \n",
    "train_loader = torch.utils.data.DataLoader(train_data, batch_size=batch_size,\n",
    "    num_workers=num_workers, shuffle=True)\n",
    "valid_loader = torch.utils.data.DataLoader(train_data, batch_size=batch_size, \n",
    "    num_workers=num_workers, shuffle=False)\n",
    "test_loader = torch.utils.data.DataLoader(test_data, batch_size=batch_size, \n",
    "    num_workers=num_workers, shuffle=False)\n",
    "\n",
    "loaders = {\n",
    "    'train': train_loader,\n",
    "    'valid': valid_loader,\n",
    "    'test': test_loader\n",
    "}"
   ]
  },
  {
   "cell_type": "code",
   "execution_count": 14,
   "metadata": {},
   "outputs": [
    {
     "name": "stdout",
     "output_type": "stream",
     "text": [
      "total 0\r\n",
      "drwxr-xr-x@ 66 Shalu  staff  2112 Mar 27  2017 001.Affenpinscher/\r\n",
      "drwxr-xr-x@ 60 Shalu  staff  1920 Mar 27  2017 002.Afghan_hound/\r\n",
      "drwxr-xr-x@ 54 Shalu  staff  1728 Mar 27  2017 003.Airedale_terrier/\r\n",
      "drwxr-xr-x@ 65 Shalu  staff  2080 Mar 27  2017 004.Akita/\r\n",
      "drwxr-xr-x@ 79 Shalu  staff  2528 Mar 27  2017 005.Alaskan_malamute/\r\n",
      "drwxr-xr-x@ 66 Shalu  staff  2112 Mar 27  2017 006.American_eskimo_dog/\r\n",
      "drwxr-xr-x@ 52 Shalu  staff  1664 Mar 27  2017 007.American_foxhound/\r\n",
      "drwxr-xr-x@ 68 Shalu  staff  2176 Mar 27  2017 008.American_staffordshire_terrier/\r\n",
      "drwxr-xr-x@ 36 Shalu  staff  1152 Mar 27  2017 009.American_water_spaniel/\r\n"
     ]
    }
   ],
   "source": [
    "ls -l -t dogImages/train | head -10"
   ]
  },
  {
   "cell_type": "markdown",
   "metadata": {},
   "source": [
    "After looking at my dog data, I'll need to find out how many distinct breeds I have in order to train my model to identify the correct breed."
   ]
  },
  {
   "cell_type": "code",
   "execution_count": 26,
   "metadata": {},
   "outputs": [
    {
     "name": "stdout",
     "output_type": "stream",
     "text": [
      "133\n"
     ]
    }
   ],
   "source": [
    "unique_dogs = (len(np.unique(train_data.classes)))\n",
    "print (unique_dogs)"
   ]
  },
  {
   "cell_type": "markdown",
   "metadata": {},
   "source": [
    "If I randomly chose a breed, I would have a probability of it being correct of 1/133, hopefully I can achieve an accuracy higher than that.\n",
    "\n",
    "After googling around, I looked at a few CNN architectures and it seemed that 3-5 Convolutional layers would be a good start.  I then initially had 1 fully connected layer, but to be honest the model performed poorly so I added to additional layers and adjusted my learning rate down. "
   ]
  },
  {
   "cell_type": "markdown",
   "metadata": {},
   "source": [
    "### Architecture"
   ]
  },
  {
   "cell_type": "code",
   "execution_count": 97,
   "metadata": {},
   "outputs": [],
   "source": [
    "kernel = 3\n",
    "pad = 1\n",
    "fc_output = 5000"
   ]
  },
  {
   "cell_type": "code",
   "execution_count": 98,
   "metadata": {},
   "outputs": [
    {
     "name": "stdout",
     "output_type": "stream",
     "text": [
      "Net(\n",
      "  (conv1): Conv2d(3, 32, kernel_size=(3, 3), stride=(1, 1), padding=(1, 1))\n",
      "  (conv2): Conv2d(32, 64, kernel_size=(3, 3), stride=(1, 1), padding=(1, 1))\n",
      "  (conv3): Conv2d(64, 128, kernel_size=(3, 3), stride=(1, 1), padding=(1, 1))\n",
      "  (conv4): Conv2d(128, 256, kernel_size=(3, 3), stride=(1, 1), padding=(1, 1))\n",
      "  (pool): MaxPool2d(kernel_size=2, stride=2, padding=0, dilation=1, ceil_mode=False)\n",
      "  (fc1): Linear(in_features=50176, out_features=5000, bias=True)\n",
      "  (fc2): Linear(in_features=5000, out_features=2000, bias=True)\n",
      "  (fc3): Linear(in_features=2000, out_features=133, bias=True)\n",
      ")\n"
     ]
    }
   ],
   "source": [
    "import torch.nn as nn\n",
    "import torch.nn.functional as F\n",
    "    \n",
    "\n",
    "class Net(nn.Module):\n",
    "    def __init__(self):\n",
    "        super(Net, self).__init__()\n",
    "        ## Define layers of a CNN\n",
    "        self.conv1 = nn.Conv2d(3, 32, 3, padding=1)\n",
    "        self.conv2 = nn.Conv2d(32, 64, 3, padding=1)\n",
    "        self.conv3 = nn.Conv2d(64, 128, 3, padding=1)\n",
    "        self.conv4 = nn.Conv2d(128, 256, 3, padding=1)\n",
    "        self.pool = nn.MaxPool2d(2, 2)       \n",
    "        self.fc1 = nn.Linear(256 * 14 * 14, fc_output)\n",
    "        self.fc2 = nn.Linear(fc_output, 2000)\n",
    "        self.fc3 = nn.Linear(2000, unique_dogs)\n",
    "\n",
    "    def forward(self, x):\n",
    "        x = self.pool(F.relu(self.conv1(x)))\n",
    "        x = self.pool(F.relu(self.conv2(x)))\n",
    "        x = self.pool(F.relu(self.conv3(x)))\n",
    "        x = self.pool(F.relu(self.conv4(x)))\n",
    "\n",
    "        \n",
    "        # flatten things out\n",
    "        x = x.view(-1, 256 * 14 * 14)\n",
    "        x = F.relu(self.fc1(x))\n",
    "        x = F.relu(self.fc2(x))\n",
    "        x = self.fc3(x)\n",
    "        return x\n",
    "    \n",
    "model = Net()\n",
    "\n",
    "print(model)\n",
    "\n",
    "# move tensors to GPU if available\n",
    "if train_on_gpu:\n",
    "    model.cuda()"
   ]
  },
  {
   "cell_type": "markdown",
   "metadata": {},
   "source": [
    "I now need to specify a loss function and an optimizer for my neural network. I chose cross entropy loss as according to the [documentation](http://pytorch.org/docs/stable/nn.html#loss-functions)\n",
    "\n",
    ">It is useful when training a classification problem with C classes. If provided, the optional argument weight should be a 1D Tensor assigning weight to each of the classes. This is particularly useful when you have an unbalanced training set.\n",
    "\n",
    "Now I have to choose an [optimizers](http://pytorch.org/docs/stable/optim.html) in order to update the weights of my computed gradients.  Stochastic Gradient Descent (SGD) and Adam are two popular methods, I settled on Adam after a little reading although I was cautioned that at times it has a tendency to overfit for these types of classification problems."
   ]
  },
  {
   "cell_type": "code",
   "execution_count": 99,
   "metadata": {},
   "outputs": [],
   "source": [
    "import torch.optim as optim\n",
    "criterion = nn.CrossEntropyLoss()\n",
    "optimizer = optim.Adam(model_scratch.parameters(), lr=0.0001)"
   ]
  },
  {
   "cell_type": "code",
   "execution_count": 100,
   "metadata": {},
   "outputs": [
    {
     "data": {
      "text/plain": [
       "True"
      ]
     },
     "execution_count": 100,
     "metadata": {},
     "output_type": "execute_result"
    }
   ],
   "source": [
    "train_on_gpu"
   ]
  },
  {
   "cell_type": "markdown",
   "metadata": {},
   "source": [
    "### Time to train the model on test and my validation set, saving the best performing one."
   ]
  },
  {
   "cell_type": "code",
   "execution_count": 101,
   "metadata": {},
   "outputs": [],
   "source": [
    "def train(n_epochs, loaders, model, optimizer, criterion, use_cuda, save_path):\n",
    "    \"\"\"returns trained model\"\"\"\n",
    "    import time\n",
    "    \n",
    "    valid_loss_min = np.Inf \n",
    "    \n",
    "    for epoch in range(1, n_epochs+1):\n",
    "        start = time.time()\n",
    "        train_loss = 0.0\n",
    "        valid_loss = 0.0\n",
    "        \n",
    "        # train the model #\n",
    "        model.train()\n",
    "        for batch_idx, (data, target) in enumerate(loaders['train']):\n",
    "            # move to GPU\n",
    "            if use_cuda:\n",
    "                data, target = data.cuda(), target.cuda()\n",
    "            \n",
    "            optimizer.zero_grad()\n",
    "            \n",
    "            output = model_scratch(data)\n",
    "            \n",
    "            loss = criterion(output, target)\n",
    "            loss.backward()\n",
    "            optimizer.step()\n",
    "            \n",
    "            train_loss = train_loss + ((1 / (batch_idx + 1)) * (loss.data - train_loss))\n",
    "            \n",
    "                \n",
    "        # validate  #\n",
    "        model.eval()\n",
    "        for batch_idx, (data, target) in enumerate(loaders['valid']):\n",
    "            if train_on_gpu:\n",
    "                data, target = data.cuda(), target.cuda()\n",
    "            ## update the average validation loss\n",
    "            output = model(data)\n",
    "            loss = criterion(output, target)\n",
    "            valid_loss = valid_loss + ((1 / (batch_idx + 1)) * (loss.data - valid_loss))\n",
    "            \n",
    "        print('Epoch: {} \\tTraining Loss: {:.6f} \\tValidation Loss: {:.6f}'.format(\n",
    "            epoch, \n",
    "            train_loss,\n",
    "            valid_loss\n",
    "            ))\n",
    "        \n",
    "        ## save the model if validation loss has decreased\n",
    "        if valid_loss < valid_loss_min:\n",
    "            torch.save(model.state_dict(), save_path)\n",
    "            print('Validation loss decreased ({:.6f} --> {:.6f}).  Saving model ...'\n",
    "                  .format(valid_loss_min, valid_loss))\n",
    "            valid_loss_min = valid_loss            \n",
    "    # return trained model\n",
    "        print(f\"Total Time: {(time.time() - start)/60:.3f} minutes\")\n",
    "    \n",
    "    return model\n",
    "\n",
    "n_epochs = 10"
   ]
  },
  {
   "cell_type": "code",
   "execution_count": 102,
   "metadata": {},
   "outputs": [
    {
     "name": "stdout",
     "output_type": "stream",
     "text": [
      "Epoch: 1 \tTraining Loss: 4.809653 \tValidation Loss: 4.693537\n",
      "Validation loss decreased (inf --> 4.693537).  Saving model ...\n",
      "Total Time: 3.238 minutes\n",
      "Epoch: 2 \tTraining Loss: 4.553798 \tValidation Loss: 4.436768\n",
      "Validation loss decreased (4.693537 --> 4.436768).  Saving model ...\n",
      "Total Time: 3.248 minutes\n",
      "Epoch: 3 \tTraining Loss: 4.414593 \tValidation Loss: 4.335376\n",
      "Validation loss decreased (4.436768 --> 4.335376).  Saving model ...\n",
      "Total Time: 3.248 minutes\n",
      "Epoch: 4 \tTraining Loss: 4.302392 \tValidation Loss: 4.215953\n",
      "Validation loss decreased (4.335376 --> 4.215953).  Saving model ...\n",
      "Total Time: 3.269 minutes\n",
      "Epoch: 5 \tTraining Loss: 4.214605 \tValidation Loss: 4.099763\n",
      "Validation loss decreased (4.215953 --> 4.099763).  Saving model ...\n",
      "Total Time: 3.255 minutes\n",
      "Epoch: 6 \tTraining Loss: 4.107606 \tValidation Loss: 4.036846\n",
      "Validation loss decreased (4.099763 --> 4.036846).  Saving model ...\n",
      "Total Time: 3.256 minutes\n",
      "Epoch: 7 \tTraining Loss: 4.033701 \tValidation Loss: 3.941356\n",
      "Validation loss decreased (4.036846 --> 3.941356).  Saving model ...\n",
      "Total Time: 3.262 minutes\n",
      "Epoch: 8 \tTraining Loss: 3.953173 \tValidation Loss: 3.851250\n",
      "Validation loss decreased (3.941356 --> 3.851250).  Saving model ...\n",
      "Total Time: 3.258 minutes\n",
      "Epoch: 9 \tTraining Loss: 3.881432 \tValidation Loss: 3.778061\n",
      "Validation loss decreased (3.851250 --> 3.778061).  Saving model ...\n",
      "Total Time: 3.246 minutes\n",
      "Epoch: 10 \tTraining Loss: 3.785154 \tValidation Loss: 3.679010\n",
      "Validation loss decreased (3.778061 --> 3.679010).  Saving model ...\n",
      "Total Time: 3.256 minutes\n"
     ]
    }
   ],
   "source": [
    "model = train(n_epochs, loaders, model, optimizer, \n",
    "                      criterion, use_cuda, 'model_fc3.pt')"
   ]
  },
  {
   "cell_type": "code",
   "execution_count": 103,
   "metadata": {},
   "outputs": [],
   "source": [
    "# the most accurate model that got the best validation accuracy\n",
    "model.load_state_dict(torch.load('modelfc3.pt'))"
   ]
  },
  {
   "cell_type": "markdown",
   "metadata": {},
   "source": [
    "### Test It ###"
   ]
  },
  {
   "cell_type": "code",
   "execution_count": 104,
   "metadata": {},
   "outputs": [
    {
     "name": "stdout",
     "output_type": "stream",
     "text": [
      "Test Loss: 3.713136\n",
      "\n",
      "\n",
      "Test Accuracy: 13% (116/836)\n"
     ]
    }
   ],
   "source": [
    "def test(loaders, model, criterion, use_cuda):\n",
    "\n",
    "    # monitor test loss and accuracy\n",
    "    test_loss = 0.\n",
    "    correct = 0.\n",
    "    total = 0.\n",
    "\n",
    "    model.eval()\n",
    "    for batch_idx, (data, target) in enumerate(loaders['test']):\n",
    "        # move to GPU\n",
    "        if use_cuda:\n",
    "            data, target = data.cuda(), target.cuda()\n",
    "        # forward pass: compute predicted outputs by passing inputs to the model\n",
    "        output = model(data)\n",
    "        # calculate the loss\n",
    "        loss = criterion(output, target)\n",
    "        # update average test loss \n",
    "        test_loss = test_loss + ((1 / (batch_idx + 1)) * (loss.data - test_loss))\n",
    "        # convert output probabilities to predicted class\n",
    "        pred = output.data.max(1, keepdim=True)[1]\n",
    "        # compare predictions to true label\n",
    "        correct += np.sum(np.squeeze(pred.eq(target.data.view_as(pred))).cpu().numpy())\n",
    "        total += data.size(0)\n",
    "            \n",
    "    print('Test Loss: {:.6f}\\n'.format(test_loss))\n",
    "\n",
    "    print('\\nTest Accuracy: %2d%% (%2d/%2d)' % (\n",
    "        100. * correct / total, correct, total))\n",
    "\n",
    "test(loaders, model, criterion, use_cuda)"
   ]
  },
  {
   "cell_type": "markdown",
   "metadata": {},
   "source": [
    "### Not so good\n",
    "I rapidly gained a lot of empathy as after all that, my model accuracy was a poor 13%. I realized just how complex creating a CNN from scratch can be. In comes in Transfer Learning, which is currently pretty popular in Deep Learning as it enables you to train deep learning networks on similar problems with sparse amounts of data.  Essentially I can apply a pre-trained model to a new problem.\n"
   ]
  },
  {
   "cell_type": "markdown",
   "metadata": {},
   "source": [
    "### Transfer Learning\n",
    "\n",
    "Transfer Learning is the reuse of a pre-trained model on a new problem. It is currently very popular in the field of Deep Learning because it enables you to train Deep Neural Networks with comparatively little data. \n",
    "\n",
    "Luckily, TorchVision has some models that have been [pretrained (https://pytorch.org/docs/master/torchvision/models.html) ....phewwwww\n",
    "\n",
    "I'll choose the [VGG-16 model](https://arxiv.org/abs/1409.1556) from Cornell University.  It's been trained on the [ImageNet](http://www.image-net.org/) and here are all the categories of output [dictionary](https://gist.github.com/yrevar/942d3a0ac09ec9e5eb3a).  You can see that keys 151-268 are of dog breeds."
   ]
  },
  {
   "cell_type": "code",
   "execution_count": 54,
   "metadata": {},
   "outputs": [],
   "source": [
    "#let us use the same preprocessing and data loading as before, with notable difference\n",
    "#I'm using a different transform to normalize the images as per the requirement of the VGG16 model\n",
    "\n",
    "num_workers = 0\n",
    "batch_size = 20\n",
    "valid_size = 0.2\n",
    "data_dir = '/data/dog_images'\n",
    "\n",
    "train_transforms = transforms.Compose([transforms.RandomRotation(30),\n",
    "                                       transforms.RandomResizedCrop(224),\n",
    "                                       transforms.RandomHorizontalFlip(),\n",
    "                                       transforms.ToTensor(),\n",
    "                                       transforms.Normalize((0.485, 0.456, 0.406), \n",
    "                                                            (0.229, 0.224, 0.225))])\n",
    "\n",
    "test_transforms = transforms.Compose([transforms.Resize(255),\n",
    "                                      transforms.CenterCrop(224),\n",
    "                                      transforms.ToTensor(),\n",
    "                                      transforms.Normalize((0.485, 0.456, 0.406), \n",
    "                                                            (0.229, 0.224, 0.225))])\n",
    "\n",
    "train_data = datasets.ImageFolder(data_dir + '/train', transform=train_transforms)\n",
    "valid_data = datasets.ImageFolder(data_dir + '/valid', transform=train_transforms)\n",
    "test_data = datasets.ImageFolder(data_dir + '/test', transform=test_transforms)\n",
    "\n",
    "train_loader = torch.utils.data.DataLoader(train_data, batch_size=batch_size,\n",
    "    num_workers=num_workers, shuffle=True)\n",
    "valid_loader = torch.utils.data.DataLoader(train_data, batch_size=batch_size, \n",
    "    num_workers=num_workers, shuffle=False)\n",
    "test_loader = torch.utils.data.DataLoader(test_data, batch_size=batch_size, \n",
    "    num_workers=num_workers, shuffle=False)\n",
    "\n",
    "loaders = {\n",
    "    'train': train_loader,\n",
    "    'valid': valid_loader,\n",
    "    'test': test_loader\n",
    "}"
   ]
  },
  {
   "cell_type": "markdown",
   "metadata": {},
   "source": [
    "### Here is my model architecture"
   ]
  },
  {
   "cell_type": "code",
   "execution_count": 50,
   "metadata": {},
   "outputs": [
    {
     "name": "stdout",
     "output_type": "stream",
     "text": [
      "VGG(\n",
      "  (features): Sequential(\n",
      "    (0): Conv2d(3, 64, kernel_size=(3, 3), stride=(1, 1), padding=(1, 1))\n",
      "    (1): ReLU(inplace)\n",
      "    (2): Conv2d(64, 64, kernel_size=(3, 3), stride=(1, 1), padding=(1, 1))\n",
      "    (3): ReLU(inplace)\n",
      "    (4): MaxPool2d(kernel_size=2, stride=2, padding=0, dilation=1, ceil_mode=False)\n",
      "    (5): Conv2d(64, 128, kernel_size=(3, 3), stride=(1, 1), padding=(1, 1))\n",
      "    (6): ReLU(inplace)\n",
      "    (7): Conv2d(128, 128, kernel_size=(3, 3), stride=(1, 1), padding=(1, 1))\n",
      "    (8): ReLU(inplace)\n",
      "    (9): MaxPool2d(kernel_size=2, stride=2, padding=0, dilation=1, ceil_mode=False)\n",
      "    (10): Conv2d(128, 256, kernel_size=(3, 3), stride=(1, 1), padding=(1, 1))\n",
      "    (11): ReLU(inplace)\n",
      "    (12): Conv2d(256, 256, kernel_size=(3, 3), stride=(1, 1), padding=(1, 1))\n",
      "    (13): ReLU(inplace)\n",
      "    (14): Conv2d(256, 256, kernel_size=(3, 3), stride=(1, 1), padding=(1, 1))\n",
      "    (15): ReLU(inplace)\n",
      "    (16): MaxPool2d(kernel_size=2, stride=2, padding=0, dilation=1, ceil_mode=False)\n",
      "    (17): Conv2d(256, 512, kernel_size=(3, 3), stride=(1, 1), padding=(1, 1))\n",
      "    (18): ReLU(inplace)\n",
      "    (19): Conv2d(512, 512, kernel_size=(3, 3), stride=(1, 1), padding=(1, 1))\n",
      "    (20): ReLU(inplace)\n",
      "    (21): Conv2d(512, 512, kernel_size=(3, 3), stride=(1, 1), padding=(1, 1))\n",
      "    (22): ReLU(inplace)\n",
      "    (23): MaxPool2d(kernel_size=2, stride=2, padding=0, dilation=1, ceil_mode=False)\n",
      "    (24): Conv2d(512, 512, kernel_size=(3, 3), stride=(1, 1), padding=(1, 1))\n",
      "    (25): ReLU(inplace)\n",
      "    (26): Conv2d(512, 512, kernel_size=(3, 3), stride=(1, 1), padding=(1, 1))\n",
      "    (27): ReLU(inplace)\n",
      "    (28): Conv2d(512, 512, kernel_size=(3, 3), stride=(1, 1), padding=(1, 1))\n",
      "    (29): ReLU(inplace)\n",
      "    (30): MaxPool2d(kernel_size=2, stride=2, padding=0, dilation=1, ceil_mode=False)\n",
      "  )\n",
      "  (classifier): Sequential(\n",
      "    (0): Linear(in_features=25088, out_features=4096, bias=True)\n",
      "    (1): ReLU(inplace)\n",
      "    (2): Dropout(p=0.5)\n",
      "    (3): Linear(in_features=4096, out_features=4096, bias=True)\n",
      "    (4): ReLU(inplace)\n",
      "    (5): Dropout(p=0.5)\n",
      "    (6): Linear(in_features=4096, out_features=1000, bias=True)\n",
      "  )\n",
      ")\n"
     ]
    }
   ],
   "source": [
    "import torchvision.models as models\n",
    "import torch.nn as nn\n",
    "\n",
    "## TODO: Specify model architecture \n",
    "model = models.vgg16(pretrained=True)\n",
    "    \n",
    "print (model)"
   ]
  },
  {
   "cell_type": "code",
   "execution_count": 51,
   "metadata": {},
   "outputs": [],
   "source": [
    "# pretrained weights on feature parameters\n",
    "for param in model_transfer.features.parameters():\n",
    "    param.requires_grad = False"
   ]
  },
  {
   "cell_type": "code",
   "execution_count": 53,
   "metadata": {},
   "outputs": [],
   "source": [
    "n_inputs = model_transfer.classifier[6].in_features"
   ]
  },
  {
   "cell_type": "code",
   "execution_count": 54,
   "metadata": {},
   "outputs": [
    {
     "name": "stdout",
     "output_type": "stream",
     "text": [
      "133\n"
     ]
    }
   ],
   "source": [
    "unique_dogs = (len(np.unique(train_data.classes)))\n",
    "print (unique_dogs)"
   ]
  },
  {
   "cell_type": "markdown",
   "metadata": {},
   "source": [
    "### Adjust the last fully-connected layer\n",
    "The previous output had 1000 classes of which 151-268 are of dog breeds.  But I have only 133 classes of dog breeds and would like the output to "
   ]
  },
  {
   "cell_type": "code",
   "execution_count": 55,
   "metadata": {},
   "outputs": [],
   "source": [
    "last_layer = nn.Linear(n_inputs, unique_dogs)"
   ]
  },
  {
   "cell_type": "code",
   "execution_count": 56,
   "metadata": {},
   "outputs": [
    {
     "name": "stdout",
     "output_type": "stream",
     "text": [
      "Linear(in_features=4096, out_features=133, bias=True)\n"
     ]
    }
   ],
   "source": [
    "print(last_layer)"
   ]
  },
  {
   "cell_type": "code",
   "execution_count": 57,
   "metadata": {},
   "outputs": [],
   "source": [
    "model_transfer.classifier[6] = last_layer"
   ]
  },
  {
   "cell_type": "code",
   "execution_count": 58,
   "metadata": {},
   "outputs": [
    {
     "data": {
      "text/plain": [
       "VGG(\n",
       "  (features): Sequential(\n",
       "    (0): Conv2d(3, 64, kernel_size=(3, 3), stride=(1, 1), padding=(1, 1))\n",
       "    (1): ReLU(inplace)\n",
       "    (2): Conv2d(64, 64, kernel_size=(3, 3), stride=(1, 1), padding=(1, 1))\n",
       "    (3): ReLU(inplace)\n",
       "    (4): MaxPool2d(kernel_size=2, stride=2, padding=0, dilation=1, ceil_mode=False)\n",
       "    (5): Conv2d(64, 128, kernel_size=(3, 3), stride=(1, 1), padding=(1, 1))\n",
       "    (6): ReLU(inplace)\n",
       "    (7): Conv2d(128, 128, kernel_size=(3, 3), stride=(1, 1), padding=(1, 1))\n",
       "    (8): ReLU(inplace)\n",
       "    (9): MaxPool2d(kernel_size=2, stride=2, padding=0, dilation=1, ceil_mode=False)\n",
       "    (10): Conv2d(128, 256, kernel_size=(3, 3), stride=(1, 1), padding=(1, 1))\n",
       "    (11): ReLU(inplace)\n",
       "    (12): Conv2d(256, 256, kernel_size=(3, 3), stride=(1, 1), padding=(1, 1))\n",
       "    (13): ReLU(inplace)\n",
       "    (14): Conv2d(256, 256, kernel_size=(3, 3), stride=(1, 1), padding=(1, 1))\n",
       "    (15): ReLU(inplace)\n",
       "    (16): MaxPool2d(kernel_size=2, stride=2, padding=0, dilation=1, ceil_mode=False)\n",
       "    (17): Conv2d(256, 512, kernel_size=(3, 3), stride=(1, 1), padding=(1, 1))\n",
       "    (18): ReLU(inplace)\n",
       "    (19): Conv2d(512, 512, kernel_size=(3, 3), stride=(1, 1), padding=(1, 1))\n",
       "    (20): ReLU(inplace)\n",
       "    (21): Conv2d(512, 512, kernel_size=(3, 3), stride=(1, 1), padding=(1, 1))\n",
       "    (22): ReLU(inplace)\n",
       "    (23): MaxPool2d(kernel_size=2, stride=2, padding=0, dilation=1, ceil_mode=False)\n",
       "    (24): Conv2d(512, 512, kernel_size=(3, 3), stride=(1, 1), padding=(1, 1))\n",
       "    (25): ReLU(inplace)\n",
       "    (26): Conv2d(512, 512, kernel_size=(3, 3), stride=(1, 1), padding=(1, 1))\n",
       "    (27): ReLU(inplace)\n",
       "    (28): Conv2d(512, 512, kernel_size=(3, 3), stride=(1, 1), padding=(1, 1))\n",
       "    (29): ReLU(inplace)\n",
       "    (30): MaxPool2d(kernel_size=2, stride=2, padding=0, dilation=1, ceil_mode=False)\n",
       "  )\n",
       "  (classifier): Sequential(\n",
       "    (0): Linear(in_features=25088, out_features=4096, bias=True)\n",
       "    (1): ReLU(inplace)\n",
       "    (2): Dropout(p=0.5)\n",
       "    (3): Linear(in_features=4096, out_features=4096, bias=True)\n",
       "    (4): ReLU(inplace)\n",
       "    (5): Dropout(p=0.5)\n",
       "    (6): Linear(in_features=4096, out_features=133, bias=True)\n",
       "  )\n",
       ")"
      ]
     },
     "execution_count": 58,
     "metadata": {},
     "output_type": "execute_result"
    }
   ],
   "source": [
    "model_transfer"
   ]
  },
  {
   "cell_type": "code",
   "execution_count": 59,
   "metadata": {},
   "outputs": [],
   "source": [
    "if use_cuda:\n",
    "    model_transfer = model_transfer.cuda()"
   ]
  },
  {
   "cell_type": "code",
   "execution_count": 60,
   "metadata": {},
   "outputs": [],
   "source": [
    "import torch.optim as optim\n",
    "\n",
    "# again same reasoning as before as the classification problem is the same.\n",
    "criterion_transfer = nn.CrossEntropyLoss()\n",
    "\n",
    "# I only want to adjust the weights of the classifier and I'm using SGD here instead of Adam\n",
    "optimizer_transfer = optim.SGD(model_transfer.classifier.parameters(), lr=0.001)"
   ]
  },
  {
   "cell_type": "code",
   "execution_count": 66,
   "metadata": {},
   "outputs": [],
   "source": [
    "def train(n_epochs, loaders, model, optimizer, criterion, use_cuda, save_path):\n",
    "    \"\"\"returns trained model\"\"\"\n",
    "    import time\n",
    "    \n",
    "    valid_loss_min = np.Inf \n",
    "    \n",
    "    for epoch in range(1, n_epochs+1):\n",
    "        start = time.time()\n",
    "        train_loss = 0.0\n",
    "        valid_loss = 0.0\n",
    "        # Train #\n",
    "        model.train()\n",
    "        for batch_idx, (data, target) in enumerate(loaders['train']):\n",
    "            # move to GPU\n",
    "            if use_cuda:\n",
    "                data, target = data.cuda(), target.cuda()\n",
    "            \n",
    "            optimizer.zero_grad()\n",
    "            \n",
    "            output = model(data)\n",
    "            \n",
    "            loss = criterion(output, target)\n",
    "            loss.backward()\n",
    "            optimizer.step()\n",
    "            \n",
    "            train_loss = train_loss + ((1 / (batch_idx + 1)) * (loss.data - train_loss))\n",
    "             \n",
    "        # validation #\n",
    "        model.eval()\n",
    "        for batch_idx, (data, target) in enumerate(loaders['valid']):\n",
    "            # move to GPU\n",
    "            if train_on_gpu:\n",
    "                data, target = data.cuda(), target.cuda()\n",
    "            output = model(data)\n",
    "            loss = criterion(output, target)\n",
    "            valid_loss = valid_loss + ((1 / (batch_idx + 1)) * (loss.data - valid_loss))\n",
    "            \n",
    "        print('Epoch: {} \\tTraining Loss: {:.6f} \\tValidation Loss: {:.6f}'.format(\n",
    "            epoch, \n",
    "            train_loss,\n",
    "            valid_loss\n",
    "            ))\n",
    "        if valid_loss < valid_loss_min:\n",
    "            torch.save(model.state_dict(), save_path)\n",
    "            print('Validation loss decreased ({:.6f} --> {:.6f}).  Saving model ...'\n",
    "                  .format(valid_loss_min, valid_loss))\n",
    "            valid_loss_min = valid_loss            \n",
    "        print(f\"Total Time: {(time.time() - start)/60:.3f} minutes\")\n",
    "    \n",
    "    return model\n",
    "\n",
    "n_epochs = 10"
   ]
  },
  {
   "cell_type": "code",
   "execution_count": 67,
   "metadata": {},
   "outputs": [
    {
     "name": "stdout",
     "output_type": "stream",
     "text": [
      "Epoch: 1 \tTraining Loss: 3.181618 \tValidation Loss: 2.487838\n",
      "Validation loss decreased (inf --> 2.487838).  Saving model ...\n",
      "Total Time: 2.524 minutes\n",
      "Epoch: 2 \tTraining Loss: 2.241434 \tValidation Loss: 1.812700\n",
      "Validation loss decreased (2.487838 --> 1.812700).  Saving model ...\n",
      "Total Time: 2.543 minutes\n",
      "Epoch: 3 \tTraining Loss: 1.763387 \tValidation Loss: 1.449733\n",
      "Validation loss decreased (1.812700 --> 1.449733).  Saving model ...\n",
      "Total Time: 2.515 minutes\n",
      "Epoch: 4 \tTraining Loss: 1.548704 \tValidation Loss: 1.284194\n",
      "Validation loss decreased (1.449733 --> 1.284194).  Saving model ...\n",
      "Total Time: 2.528 minutes\n",
      "Epoch: 5 \tTraining Loss: 1.393220 \tValidation Loss: 1.159660\n",
      "Validation loss decreased (1.284194 --> 1.159660).  Saving model ...\n",
      "Total Time: 2.541 minutes\n",
      "Epoch: 6 \tTraining Loss: 1.291400 \tValidation Loss: 1.172395\n",
      "Total Time: 2.502 minutes\n",
      "Epoch: 7 \tTraining Loss: 1.248277 \tValidation Loss: 1.088839\n",
      "Validation loss decreased (1.159660 --> 1.088839).  Saving model ...\n",
      "Total Time: 2.535 minutes\n",
      "Epoch: 8 \tTraining Loss: 1.180103 \tValidation Loss: 1.078598\n",
      "Validation loss decreased (1.088839 --> 1.078598).  Saving model ...\n",
      "Total Time: 2.534 minutes\n",
      "Epoch: 9 \tTraining Loss: 1.139643 \tValidation Loss: 1.062964\n",
      "Validation loss decreased (1.078598 --> 1.062964).  Saving model ...\n",
      "Total Time: 2.521 minutes\n",
      "Epoch: 10 \tTraining Loss: 1.093010 \tValidation Loss: 1.041088\n",
      "Validation loss decreased (1.062964 --> 1.041088).  Saving model ...\n",
      "Total Time: 2.541 minutes\n"
     ]
    }
   ],
   "source": [
    "# train the model\n",
    "model = train(n_epochs, loaders, model, optimizer, criterion, use_cuda, 'model_vgg.pt')\n"
   ]
  },
  {
   "cell_type": "code",
   "execution_count": 69,
   "metadata": {},
   "outputs": [],
   "source": [
    "# load the model with the best accuracy on validation\n",
    "model.load_state_dict(torch.load('model_vgg.pt'))"
   ]
  },
  {
   "cell_type": "code",
   "execution_count": 70,
   "metadata": {},
   "outputs": [],
   "source": [
    "def test(loaders, model, criterion, use_cuda):\n",
    "\n",
    "    # monitor test loss and accuracy\n",
    "    test_loss = 0.\n",
    "    correct = 0.\n",
    "    total = 0.\n",
    "\n",
    "    model.eval()\n",
    "    for batch_idx, (data, target) in enumerate(loaders['test']):\n",
    "        # move to GPU\n",
    "        if use_cuda:\n",
    "            data, target = data.cuda(), target.cuda()\n",
    "        # forward pass\n",
    "        output = model(data)\n",
    "        loss = criterion(output, target)\n",
    "        test_loss = test_loss + ((1 / (batch_idx + 1)) * (loss.data - test_loss))\n",
    "        pred = output.data.max(1, keepdim=True)[1]\n",
    "        correct += np.sum(np.squeeze(pred.eq(target.data.view_as(pred))).cpu().numpy())\n",
    "        total += data.size(0)\n",
    "            \n",
    "    print('Test Loss: {:.6f}\\n'.format(test_loss))\n",
    "\n",
    "    print('\\nTest Accuracy: %2d%% (%2d/%2d)' % (\n",
    "        100. * correct / total, correct, total))"
   ]
  },
  {
   "cell_type": "code",
   "execution_count": 71,
   "metadata": {},
   "outputs": [
    {
     "name": "stdout",
     "output_type": "stream",
     "text": [
      "Test Loss: 0.488900\n",
      "\n",
      "\n",
      "Test Accuracy: 84% (706/836)\n"
     ]
    }
   ],
   "source": [
    "test(loaders, model, criterion, use_cuda)"
   ]
  },
  {
   "cell_type": "markdown",
   "metadata": {},
   "source": [
    "### Pretty Neat\n",
    "The accuracy has bumped up to 84%, not too shabby, probably can be improved with some more training data and tweaking a few more parameters.  So we now have 133 classes, let's try it out by writing a small algorithm and testing it out."
   ]
  },
  {
   "cell_type": "code",
   "execution_count": 55,
   "metadata": {},
   "outputs": [],
   "source": [
    "from PIL import Image\n",
    "\n",
    "class_names = [item[4:].replace(\"_\", \" \") for item in train_data.classes]\n",
    "\n",
    "def predict_my_breed(img_path):\n",
    "    # load the image and return the predicted breed\n",
    "    image = Image.open(img_path).convert('RGB')\n",
    "    \n",
    "    in_transform = transforms.Compose([\n",
    "                        transforms.RandomResizedCrop(224),\n",
    "                        transforms.ToTensor(),\n",
    "                        transforms.Normalize((0.485, 0.456, 0.406), \n",
    "                                             (0.229, 0.224, 0.225))])\n",
    "    \n",
    "    image = in_transform(image)[:3,:,:].unsqueeze(0)\n",
    "    if train_on_gpu:\n",
    "        image = image.cuda()\n",
    "    \n",
    "    prediction = model_transfer(image)\n",
    "    prediction = prediction.data.cpu().numpy().argmax()\n",
    "    \n",
    "    return class_names[prediction]"
   ]
  },
  {
   "cell_type": "code",
   "execution_count": 100,
   "metadata": {},
   "outputs": [],
   "source": [
    "file = '/data/dog_images/train/103.Mastiff/Mastiff_06826.jpg'"
   ]
  },
  {
   "cell_type": "code",
   "execution_count": 104,
   "metadata": {},
   "outputs": [
    {
     "name": "stdout",
     "output_type": "stream",
     "text": [
      "Dog Breed: Mastiff\n"
     ]
    }
   ],
   "source": [
    "print ('Dog Breed:', predict_my_breed(file))"
   ]
  },
  {
   "cell_type": "markdown",
   "metadata": {},
   "source": [
    "## Well that seems pretty accurate, let's try it out on my pooch\n",
    "<br>\n",
    "<img src=\"./support_notebooks_markdown/Cnns_Post_Supporting_Files/Lass.jpg\" width=\"400\">"
   ]
  },
  {
   "cell_type": "code",
   "execution_count": 216,
   "metadata": {},
   "outputs": [],
   "source": [
    "lass = './support_notebooks_markdown/Cnns_Post_Supporting_Files/Lass.jpg'"
   ]
  },
  {
   "cell_type": "code",
   "execution_count": 182,
   "metadata": {},
   "outputs": [
    {
     "data": {
      "text/plain": [
       "'Bichon frise'"
      ]
     },
     "execution_count": 182,
     "metadata": {},
     "output_type": "execute_result"
    }
   ],
   "source": [
    "predict_my_breed(lass)"
   ]
  },
  {
   "cell_type": "markdown",
   "metadata": {},
   "source": [
    "## Not too bad actually, she's a poodle mix, but I don't see that as prevalent in the training data set, so one way to improve this is to put more labradoodle mixes in there."
   ]
  },
  {
   "cell_type": "markdown",
   "metadata": {},
   "source": [
    "So now we have a dog breed classifier at 84%, let's grab a face detector, Udacity has a pretty cool example of using some predetermined face detection. OpenCV's has an implementation of [Haar feature-based cascade classifiers](http://docs.opencv.org/trunk/d7/d8b/tutorial_py_face_detection.html) to detect human faces in images.  OpenCV provides many pre-trained face detectors, stored as XML files on [github](https://github.com/opencv/opencv/tree/master/data/haarcascades).  If you download one of the detectors in your directory you can play around as well, I downloaded the haarcascades.  "
   ]
  },
  {
   "cell_type": "code",
   "execution_count": 206,
   "metadata": {},
   "outputs": [],
   "source": [
    "import cv2                \n",
    "import matplotlib.pyplot as plt                        \n",
    "%matplotlib inline    "
   ]
  },
  {
   "cell_type": "code",
   "execution_count": 207,
   "metadata": {},
   "outputs": [],
   "source": [
    "face_cascade = cv2.CascadeClassifier('haarcascades/haarcascade_frontalface_alt.xml')"
   ]
  },
  {
   "cell_type": "code",
   "execution_count": 208,
   "metadata": {},
   "outputs": [],
   "source": [
    "people_file = './post_images/mixed_images/Cameron_Diaz_0003.jpg'"
   ]
  },
  {
   "cell_type": "code",
   "execution_count": 209,
   "metadata": {},
   "outputs": [
    {
     "name": "stdout",
     "output_type": "stream",
     "text": [
      "Number of faces detected: 1\n"
     ]
    },
    {
     "data": {
      "image/png": "[encoded data removed]",
      "text/plain": [
       "<matplotlib.figure.Figure at 0x1715f3908>"
      ]
     },
     "metadata": {
      "needs_background": "light"
     },
     "output_type": "display_data"
    }
   ],
   "source": [
    "img = cv2.imread(people_file)\n",
    "# convert BGR image to grayscale\n",
    "gray = cv2.cvtColor(img, cv2.COLOR_BGR2GRAY)\n",
    "# find faces in image\n",
    "faces = face_cascade.detectMultiScale(gray)\n",
    "# print number of faces detected in the image\n",
    "print('Number of faces detected:', len(faces))\n",
    "# get bounding box for each detected face\n",
    "for (x,y,w,h) in faces:\n",
    "    # add bounding box to color image\n",
    "    cv2.rectangle(img,(x,y),(x+w,y+h),(255,0,0),2)\n",
    "# convert BGR image to RGB for plotting\n",
    "cv_rgb = cv2.cvtColor(img, cv2.COLOR_BGR2RGB)\n",
    "\n",
    "# display the image, along with bounding box\n",
    "plt.imshow(cv_rgb)\n",
    "plt.show()"
   ]
  },
  {
   "cell_type": "code",
   "execution_count": 210,
   "metadata": {},
   "outputs": [],
   "source": [
    "def face_detector(img_path):\n",
    "    img = cv2.imread(img_path)\n",
    "    gray = cv2.cvtColor(img, cv2.COLOR_BGR2GRAY)\n",
    "    faces = face_cascade.detectMultiScale(gray)\n",
    "    return len(faces) > 0"
   ]
  },
  {
   "cell_type": "markdown",
   "metadata": {},
   "source": [
    "In the case of Cameron Diaz, it seems to work, so every time we can detect a face we should get a true."
   ]
  },
  {
   "cell_type": "code",
   "execution_count": 211,
   "metadata": {},
   "outputs": [
    {
     "data": {
      "text/plain": [
       "True"
      ]
     },
     "execution_count": 211,
     "metadata": {},
     "output_type": "execute_result"
    }
   ],
   "source": [
    "face_detector(people_file)"
   ]
  },
  {
   "cell_type": "markdown",
   "metadata": {},
   "source": [
    "But does it work for dogs?  "
   ]
  },
  {
   "cell_type": "code",
   "execution_count": 212,
   "metadata": {},
   "outputs": [],
   "source": [
    "dog_file = './post_images/mixed_images/Affenpinscher_00003.jpg'"
   ]
  },
  {
   "cell_type": "code",
   "execution_count": 213,
   "metadata": {},
   "outputs": [
    {
     "data": {
      "text/plain": [
       "False"
      ]
     },
     "execution_count": 213,
     "metadata": {},
     "output_type": "execute_result"
    }
   ],
   "source": [
    "face_detector(dog_file)"
   ]
  },
  {
   "cell_type": "markdown",
   "metadata": {},
   "source": [
    "Now I can write an algorithm, if it detects faces, then I can flag it, else I’ll try to figure out what breed of dog it is. Something like the below is what I’ll likely end up using."
   ]
  },
  {
   "cell_type": "code",
   "execution_count": 222,
   "metadata": {},
   "outputs": [],
   "source": [
    "def run_app(img_path):\n",
    "    ## handle cases for a human face, dog, and neither\n",
    "    if face_detector(img_path)==False:\n",
    "        print ('Dog Detected:', predict_breed_transfer(img_path))\n",
    "    elif face_detector(img_path)==True:\n",
    "        print ('Human Detected')\n",
    "    else:\n",
    "        print ('Not your dog nor a person')\n"
   ]
  },
  {
   "cell_type": "code",
   "execution_count": null,
   "metadata": {},
   "outputs": [],
   "source": []
  }
 ],
 "metadata": {
  "anaconda-cloud": {},
  "kernelspec": {
   "display_name": "Python 3",
   "language": "python",
   "name": "python3"
  },
  "language_info": {
   "codemirror_mode": {
    "name": "ipython",
    "version": 3
   },
   "file_extension": ".py",
   "mimetype": "text/x-python",
   "name": "python",
   "nbconvert_exporter": "python",
   "pygments_lexer": "ipython3",
   "version": "3.6.8"
  }
 },
 "nbformat": 4,
 "nbformat_minor": 1
}
